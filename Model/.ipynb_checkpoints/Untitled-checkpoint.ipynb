{
 "cells": [
  {
   "cell_type": "code",
   "execution_count": 2,
   "id": "54053f87",
   "metadata": {},
   "outputs": [],
   "source": [
    "import pandas as pd\n",
    "import numpy as np"
   ]
  },
  {
   "cell_type": "code",
   "execution_count": 3,
   "id": "31429d5e",
   "metadata": {},
   "outputs": [],
   "source": [
    "df = pd.read_csv('../Datasets/dataset.csv')"
   ]
  },
  {
   "cell_type": "code",
   "execution_count": 4,
   "id": "f284aaaf",
   "metadata": {},
   "outputs": [
    {
     "data": {
      "text/plain": [
       "Cardiovascular          29999\n",
       "Neurological            11896\n",
       "Sepsis                  11740\n",
       "Respiratory             11609\n",
       "Gastrointestinal         9026\n",
       "Metabolic                7650\n",
       "Trauma                   3842\n",
       "Genitourinary            2172\n",
       "Musculoskeletal/Skin     1166\n",
       "Hematological             638\n",
       "Gynecological             313\n",
       "Name: apache_3j_bodysystem, dtype: int64"
      ]
     },
     "execution_count": 4,
     "metadata": {},
     "output_type": "execute_result"
    }
   ],
   "source": [
    "df['apache_3j_bodysystem'].value_counts()"
   ]
  },
  {
   "cell_type": "code",
   "execution_count": 5,
   "id": "4c3c2a9f",
   "metadata": {},
   "outputs": [
    {
     "data": {
      "text/plain": [
       "0.02"
      ]
     },
     "execution_count": 5,
     "metadata": {},
     "output_type": "execute_result"
    }
   ],
   "source": [
    "df.iloc[5]['apache_4a_icu_death_prob']"
   ]
  },
  {
   "cell_type": "code",
   "execution_count": 6,
   "id": "abe92cbd",
   "metadata": {
    "scrolled": true
   },
   "outputs": [
    {
     "data": {
      "text/plain": [
       "0"
      ]
     },
     "execution_count": 6,
     "metadata": {},
     "output_type": "execute_result"
    }
   ],
   "source": [
    "df.iloc[5]['hospital_death']"
   ]
  },
  {
   "cell_type": "code",
   "execution_count": 7,
   "id": "80492a6a",
   "metadata": {},
   "outputs": [
    {
     "data": {
      "text/plain": [
       "54"
      ]
     },
     "execution_count": 7,
     "metadata": {},
     "output_type": "execute_result"
    }
   ],
   "source": [
    "143-89"
   ]
  },
  {
   "cell_type": "code",
   "execution_count": 8,
   "id": "8b901fc1",
   "metadata": {},
   "outputs": [
    {
     "data": {
      "text/plain": [
       "Index(['encounter_id', 'patient_id', 'hospital_id', 'age', 'bmi',\n",
       "       'elective_surgery', 'ethnicity', 'gender', 'height', 'icu_admit_source',\n",
       "       'icu_id', 'icu_stay_type', 'icu_type', 'pre_icu_los_days', 'weight',\n",
       "       'apache_2_diagnosis', 'apache_3j_diagnosis', 'apache_post_operative',\n",
       "       'arf_apache', 'gcs_eyes_apache', 'gcs_motor_apache',\n",
       "       'gcs_unable_apache', 'gcs_verbal_apache', 'heart_rate_apache',\n",
       "       'intubated_apache', 'map_apache', 'resprate_apache', 'temp_apache',\n",
       "       'ventilated_apache', 'd1_diasbp_max', 'd1_diasbp_min',\n",
       "       'd1_diasbp_noninvasive_max', 'd1_diasbp_noninvasive_min',\n",
       "       'd1_heartrate_max', 'd1_heartrate_min', 'd1_mbp_max', 'd1_mbp_min',\n",
       "       'd1_mbp_noninvasive_max', 'd1_mbp_noninvasive_min', 'd1_resprate_max',\n",
       "       'd1_resprate_min', 'd1_spo2_max', 'd1_spo2_min', 'd1_sysbp_max',\n",
       "       'd1_sysbp_min', 'd1_sysbp_noninvasive_max', 'd1_sysbp_noninvasive_min',\n",
       "       'd1_temp_max', 'd1_temp_min', 'h1_diasbp_max', 'h1_diasbp_min',\n",
       "       'h1_diasbp_noninvasive_max', 'h1_diasbp_noninvasive_min',\n",
       "       'h1_heartrate_max', 'h1_heartrate_min', 'h1_mbp_max', 'h1_mbp_min',\n",
       "       'h1_mbp_noninvasive_max', 'h1_mbp_noninvasive_min', 'h1_resprate_max',\n",
       "       'h1_resprate_min', 'h1_spo2_max', 'h1_spo2_min', 'h1_sysbp_max',\n",
       "       'h1_sysbp_min', 'h1_sysbp_noninvasive_max', 'h1_sysbp_noninvasive_min',\n",
       "       'd1_glucose_max', 'd1_glucose_min', 'd1_potassium_max',\n",
       "       'd1_potassium_min', 'apache_4a_hospital_death_prob',\n",
       "       'apache_4a_icu_death_prob', 'aids', 'cirrhosis', 'diabetes_mellitus',\n",
       "       'hepatic_failure', 'immunosuppression', 'leukemia', 'lymphoma',\n",
       "       'solid_tumor_with_metastasis', 'apache_3j_bodysystem',\n",
       "       'apache_2_bodysystem', 'Unnamed: 83', 'hospital_death'],\n",
       "      dtype='object')"
      ]
     },
     "execution_count": 8,
     "metadata": {},
     "output_type": "execute_result"
    }
   ],
   "source": [
    "df.iloc[5].index"
   ]
  },
  {
   "cell_type": "code",
   "execution_count": 9,
   "id": "7cdf767a",
   "metadata": {},
   "outputs": [],
   "source": [
    "import joblib\n",
    "model = joblib.load('xgb_model.pkl')"
   ]
  },
  {
   "cell_type": "code",
   "execution_count": 29,
   "id": "06a0db9b",
   "metadata": {},
   "outputs": [],
   "source": [
    "def survival_predict(y):\n",
    "    #arf_apache, ventilated_apache, apache_4a_icu_death_prob,\n",
    "#        hepatic_failure, leukemia, lymphoma,\n",
    "#        solid_tumor_with_metastasis,\n",
    "#        icu_admit_source_Operating_room,\n",
    "#        icu_admit_source_Other, apache_3j_bodysystem_Metabolic,\n",
    "#        bmi_cat_underweight, gcs_cat_normal, age_cat_old_adult,\n",
    "#        age_cat_young_adult, h1_pluse_P_low, heart_rate_cat_high]):\n",
    "#     y = np.zeros(16)\n",
    "#     y[0]=arf_apache\n",
    "#     y[1]=ventilated_apache\n",
    "#     y[2]=apache_4a_icu_death_prob\n",
    "#     y[3]=hepatic_failure\n",
    "#     y[4]=leukemia\n",
    "#     y[5]=lymphoma\n",
    "#     y[6]=solid_tumor_with_metastasis\n",
    "#     y[7]=icu_admit_source_Operating_room\n",
    "#     y[8]=icu_admit_source_Other\n",
    "#     y[9]=apache_3j_bodysystem_Metabolic\n",
    "#     y[10]=bmi_cat_underweight\n",
    "#     y[11]=gcs_cat_normal\n",
    "#     y[12]=age_cat_old_adult\n",
    "#     y[13]=age_cat_young_adult\n",
    "#     y[14]=h1_pluse_P_low\n",
    "#     y[15]=heart_rate_cat_high\n",
    "    \n",
    "    return (model.predict([y])[0]), str(model.predict_proba([y])[0:1])#[:7]"
   ]
  },
  {
   "cell_type": "code",
   "execution_count": 33,
   "id": "1906db56",
   "metadata": {
    "scrolled": true
   },
   "outputs": [
    {
     "name": "stderr",
     "output_type": "stream",
     "text": [
      "/home/suleiman/anaconda3/envs/ml/lib/python3.10/site-packages/sklearn/base.py:450: UserWarning: X does not have valid feature names, but GradientBoostingClassifier was fitted with feature names\n",
      "  warnings.warn(\n",
      "/home/suleiman/anaconda3/envs/ml/lib/python3.10/site-packages/sklearn/base.py:450: UserWarning: X does not have valid feature names, but GradientBoostingClassifier was fitted with feature names\n",
      "  warnings.warn(\n"
     ]
    },
    {
     "data": {
      "text/plain": [
       "(0, '[[0.81530995 0.18469005]]')"
      ]
     },
     "execution_count": 33,
     "metadata": {},
     "output_type": "execute_result"
    }
   ],
   "source": [
    "dat=['0.0', 0.0, '0.02', 0.0, 0.0, 0.0, 0.0, 0.0, 0.0,0.0 ,0.0, 1.0, 1.0, 0.0,0.0,0.0]\n",
    "survival_predict(dat)"
   ]
  },
  {
   "cell_type": "code",
   "execution_count": 35,
   "id": "f1900ca4",
   "metadata": {},
   "outputs": [
    {
     "ename": "AttributeError",
     "evalue": "'str' object has no attribute 'dtypes'",
     "output_type": "error",
     "traceback": [
      "\u001b[0;31m---------------------------------------------------------------------------\u001b[0m",
      "\u001b[0;31mAttributeError\u001b[0m                            Traceback (most recent call last)",
      "\u001b[0;32m/tmp/ipykernel_3184/1975860263.py\u001b[0m in \u001b[0;36m<module>\u001b[0;34m\u001b[0m\n\u001b[1;32m      1\u001b[0m \u001b[0;32mfor\u001b[0m \u001b[0mi\u001b[0m \u001b[0;32min\u001b[0m \u001b[0mdat\u001b[0m\u001b[0;34m:\u001b[0m\u001b[0;34m\u001b[0m\u001b[0;34m\u001b[0m\u001b[0m\n\u001b[0;32m----> 2\u001b[0;31m     \u001b[0mprint\u001b[0m\u001b[0;34m(\u001b[0m\u001b[0mi\u001b[0m\u001b[0;34m.\u001b[0m\u001b[0mdtypes\u001b[0m\u001b[0;34m(\u001b[0m\u001b[0;34m)\u001b[0m\u001b[0;34m)\u001b[0m\u001b[0;34m\u001b[0m\u001b[0;34m\u001b[0m\u001b[0m\n\u001b[0m",
      "\u001b[0;31mAttributeError\u001b[0m: 'str' object has no attribute 'dtypes'"
     ]
    }
   ],
   "source": [
    "for i in dat:\n",
    "    print(i.dtypes())"
   ]
  },
  {
   "cell_type": "code",
   "execution_count": 4,
   "id": "f1e5356b",
   "metadata": {},
   "outputs": [
    {
     "data": {
      "text/plain": [
       "16"
      ]
     },
     "execution_count": 4,
     "metadata": {},
     "output_type": "execute_result"
    }
   ],
   "source": [
    "len(['arf_apache', 'ventilated_apache', 'apache_4a_icu_death_prob',\n",
    "       'hepatic_failure', 'leukemia', 'lymphoma',\n",
    "       'solid_tumor_with_metastasis',\n",
    "       'icu_admit_source_Operating Room / Recovery',\n",
    "       'icu_admit_source_Other ICU', 'apache_3j_bodysystem_Metabolic',\n",
    "       'bmi_cat_underweight', 'gcs_cat_normal', 'age_cat_old_adult',\n",
    "       'age_cat_young_adult', 'h1_pluse_P_low', 'heart_rate_cat_high'])"
   ]
  },
  {
   "cell_type": "code",
   "execution_count": null,
   "id": "f56cf9b4",
   "metadata": {},
   "outputs": [],
   "source": [
    "if request.POST[\"index0\"] == 'yes':\n",
    "    data.append(1.0)\n",
    "else:\n",
    "    data.append(0.0)\n",
    "    \n",
    "if request.POST[\"index1\"] == 'yes':\n",
    "    data.append(1.0)\n",
    "else:\n",
    "    data.append(0.0)\n",
    "    \n",
    "data.append(request.POST[\"index2\"])\n",
    "       hepatic_failure, leukemia, leukemia,\n",
    "       solid_tumor_metastasis\n",
    "        \n",
    "        \n",
    "if request.POST[\"index7\"] == 'Operating':\n",
    "    data.append(1.0)\n",
    "    data.append(0.0)\n",
    "elif request.POST[\"index7\"]=='Other' :\n",
    "    data.append(0.0)\n",
    "    data.append(1.0)\n",
    "else:\n",
    "    data.append(0.0)\n",
    "    data.append(0.0)\n",
    "        \n",
    "if request.POST[\"index9\"] == 'metabolic':\n",
    "    data.append(1.0)\n",
    "else:\n",
    "    data.append(0.0)\n",
    "    \n",
    "if request.POST[\"index10\"] == 'underweight':\n",
    "    data.append(1.0)\n",
    "else:\n",
    "    data.append(0.0)\n",
    "    \n",
    "if request.POST[\"index11\"] == 'normal':\n",
    "    data.append(1.0)\n",
    "else:\n",
    "    data.append(0.0)\n",
    "    \n",
    "if request.POST[\"index12\"] == 'old adult':\n",
    "    data.append(1.0)\n",
    "    data.append(0.0)\n",
    "elif request.POST[\"index12\"]=='young adult' :\n",
    "    data.append(0.0)\n",
    "    data.append(1.0)\n",
    "else:\n",
    "    data.append(0.0)\n",
    "    data.append(0.0)\n",
    "    \n",
    "if request.POST[\"index13\"] == 'low':\n",
    "    data.append(1.0)\n",
    "else:\n",
    "    data.append(0.0)\n",
    "    \n",
    "if request.POST[\"index14\"] == 'high':\n",
    "    data.append(1.0)\n",
    "else:\n",
    "    data.append(0.0)\n",
    "    "
   ]
  },
  {
   "cell_type": "code",
   "execution_count": 47,
   "id": "75fd0acc",
   "metadata": {},
   "outputs": [
    {
     "data": {
      "text/html": [
       "<div>\n",
       "<style scoped>\n",
       "    .dataframe tbody tr th:only-of-type {\n",
       "        vertical-align: middle;\n",
       "    }\n",
       "\n",
       "    .dataframe tbody tr th {\n",
       "        vertical-align: top;\n",
       "    }\n",
       "\n",
       "    .dataframe thead th {\n",
       "        text-align: right;\n",
       "    }\n",
       "</style>\n",
       "<table border=\"1\" class=\"dataframe\">\n",
       "  <thead>\n",
       "    <tr style=\"text-align: right;\">\n",
       "      <th></th>\n",
       "      <th>encounter_id</th>\n",
       "      <th>patient_id</th>\n",
       "      <th>hospital_id</th>\n",
       "      <th>age</th>\n",
       "      <th>bmi</th>\n",
       "      <th>elective_surgery</th>\n",
       "      <th>ethnicity</th>\n",
       "      <th>gender</th>\n",
       "      <th>height</th>\n",
       "      <th>icu_admit_source</th>\n",
       "      <th>...</th>\n",
       "      <th>diabetes_mellitus</th>\n",
       "      <th>hepatic_failure</th>\n",
       "      <th>immunosuppression</th>\n",
       "      <th>leukemia</th>\n",
       "      <th>lymphoma</th>\n",
       "      <th>solid_tumor_with_metastasis</th>\n",
       "      <th>apache_3j_bodysystem</th>\n",
       "      <th>apache_2_bodysystem</th>\n",
       "      <th>Unnamed: 83</th>\n",
       "      <th>hospital_death</th>\n",
       "    </tr>\n",
       "  </thead>\n",
       "  <tbody>\n",
       "    <tr>\n",
       "      <th>21392</th>\n",
       "      <td>129940</td>\n",
       "      <td>35310</td>\n",
       "      <td>32</td>\n",
       "      <td>84.0</td>\n",
       "      <td>25.379337</td>\n",
       "      <td>0</td>\n",
       "      <td>Caucasian</td>\n",
       "      <td>M</td>\n",
       "      <td>182.9</td>\n",
       "      <td>Accident &amp; Emergency</td>\n",
       "      <td>...</td>\n",
       "      <td>0.0</td>\n",
       "      <td>1.0</td>\n",
       "      <td>0.0</td>\n",
       "      <td>1.0</td>\n",
       "      <td>0.0</td>\n",
       "      <td>0.0</td>\n",
       "      <td>Sepsis</td>\n",
       "      <td>Cardiovascular</td>\n",
       "      <td>NaN</td>\n",
       "      <td>0</td>\n",
       "    </tr>\n",
       "    <tr>\n",
       "      <th>38889</th>\n",
       "      <td>94874</td>\n",
       "      <td>81792</td>\n",
       "      <td>160</td>\n",
       "      <td>80.0</td>\n",
       "      <td>28.420257</td>\n",
       "      <td>0</td>\n",
       "      <td>Caucasian</td>\n",
       "      <td>F</td>\n",
       "      <td>157.5</td>\n",
       "      <td>Floor</td>\n",
       "      <td>...</td>\n",
       "      <td>0.0</td>\n",
       "      <td>1.0</td>\n",
       "      <td>0.0</td>\n",
       "      <td>1.0</td>\n",
       "      <td>0.0</td>\n",
       "      <td>0.0</td>\n",
       "      <td>Genitourinary</td>\n",
       "      <td>Renal/Genitourinary</td>\n",
       "      <td>NaN</td>\n",
       "      <td>0</td>\n",
       "    </tr>\n",
       "    <tr>\n",
       "      <th>52524</th>\n",
       "      <td>60616</td>\n",
       "      <td>553</td>\n",
       "      <td>26</td>\n",
       "      <td>78.0</td>\n",
       "      <td>26.256553</td>\n",
       "      <td>0</td>\n",
       "      <td>Caucasian</td>\n",
       "      <td>M</td>\n",
       "      <td>154.9</td>\n",
       "      <td>Accident &amp; Emergency</td>\n",
       "      <td>...</td>\n",
       "      <td>1.0</td>\n",
       "      <td>1.0</td>\n",
       "      <td>0.0</td>\n",
       "      <td>1.0</td>\n",
       "      <td>0.0</td>\n",
       "      <td>0.0</td>\n",
       "      <td>Sepsis</td>\n",
       "      <td>Cardiovascular</td>\n",
       "      <td>NaN</td>\n",
       "      <td>0</td>\n",
       "    </tr>\n",
       "    <tr>\n",
       "      <th>57411</th>\n",
       "      <td>38877</td>\n",
       "      <td>24421</td>\n",
       "      <td>176</td>\n",
       "      <td>43.0</td>\n",
       "      <td>18.963535</td>\n",
       "      <td>0</td>\n",
       "      <td>African American</td>\n",
       "      <td>F</td>\n",
       "      <td>163.8</td>\n",
       "      <td>Accident &amp; Emergency</td>\n",
       "      <td>...</td>\n",
       "      <td>0.0</td>\n",
       "      <td>1.0</td>\n",
       "      <td>1.0</td>\n",
       "      <td>1.0</td>\n",
       "      <td>0.0</td>\n",
       "      <td>0.0</td>\n",
       "      <td>Respiratory</td>\n",
       "      <td>Respiratory</td>\n",
       "      <td>NaN</td>\n",
       "      <td>0</td>\n",
       "    </tr>\n",
       "    <tr>\n",
       "      <th>71802</th>\n",
       "      <td>118174</td>\n",
       "      <td>87940</td>\n",
       "      <td>159</td>\n",
       "      <td>82.0</td>\n",
       "      <td>31.040564</td>\n",
       "      <td>1</td>\n",
       "      <td>Caucasian</td>\n",
       "      <td>F</td>\n",
       "      <td>157.5</td>\n",
       "      <td>Operating Room / Recovery</td>\n",
       "      <td>...</td>\n",
       "      <td>0.0</td>\n",
       "      <td>1.0</td>\n",
       "      <td>0.0</td>\n",
       "      <td>1.0</td>\n",
       "      <td>0.0</td>\n",
       "      <td>0.0</td>\n",
       "      <td>Cardiovascular</td>\n",
       "      <td>Undefined diagnoses</td>\n",
       "      <td>NaN</td>\n",
       "      <td>1</td>\n",
       "    </tr>\n",
       "    <tr>\n",
       "      <th>80147</th>\n",
       "      <td>125614</td>\n",
       "      <td>88658</td>\n",
       "      <td>158</td>\n",
       "      <td>78.0</td>\n",
       "      <td>31.430618</td>\n",
       "      <td>0</td>\n",
       "      <td>Caucasian</td>\n",
       "      <td>F</td>\n",
       "      <td>152.4</td>\n",
       "      <td>Accident &amp; Emergency</td>\n",
       "      <td>...</td>\n",
       "      <td>0.0</td>\n",
       "      <td>1.0</td>\n",
       "      <td>1.0</td>\n",
       "      <td>1.0</td>\n",
       "      <td>0.0</td>\n",
       "      <td>0.0</td>\n",
       "      <td>Metabolic</td>\n",
       "      <td>Metabolic</td>\n",
       "      <td>NaN</td>\n",
       "      <td>0</td>\n",
       "    </tr>\n",
       "    <tr>\n",
       "      <th>87447</th>\n",
       "      <td>28955</td>\n",
       "      <td>48732</td>\n",
       "      <td>188</td>\n",
       "      <td>62.0</td>\n",
       "      <td>30.046537</td>\n",
       "      <td>0</td>\n",
       "      <td>Caucasian</td>\n",
       "      <td>M</td>\n",
       "      <td>167.6</td>\n",
       "      <td>Accident &amp; Emergency</td>\n",
       "      <td>...</td>\n",
       "      <td>0.0</td>\n",
       "      <td>1.0</td>\n",
       "      <td>0.0</td>\n",
       "      <td>1.0</td>\n",
       "      <td>0.0</td>\n",
       "      <td>0.0</td>\n",
       "      <td>Metabolic</td>\n",
       "      <td>Metabolic</td>\n",
       "      <td>NaN</td>\n",
       "      <td>0</td>\n",
       "    </tr>\n",
       "  </tbody>\n",
       "</table>\n",
       "<p>7 rows × 85 columns</p>\n",
       "</div>"
      ],
      "text/plain": [
       "       encounter_id  patient_id  hospital_id   age        bmi  \\\n",
       "21392        129940       35310           32  84.0  25.379337   \n",
       "38889         94874       81792          160  80.0  28.420257   \n",
       "52524         60616         553           26  78.0  26.256553   \n",
       "57411         38877       24421          176  43.0  18.963535   \n",
       "71802        118174       87940          159  82.0  31.040564   \n",
       "80147        125614       88658          158  78.0  31.430618   \n",
       "87447         28955       48732          188  62.0  30.046537   \n",
       "\n",
       "       elective_surgery         ethnicity gender  height  \\\n",
       "21392                 0         Caucasian      M   182.9   \n",
       "38889                 0         Caucasian      F   157.5   \n",
       "52524                 0         Caucasian      M   154.9   \n",
       "57411                 0  African American      F   163.8   \n",
       "71802                 1         Caucasian      F   157.5   \n",
       "80147                 0         Caucasian      F   152.4   \n",
       "87447                 0         Caucasian      M   167.6   \n",
       "\n",
       "                icu_admit_source  ...  diabetes_mellitus hepatic_failure  \\\n",
       "21392       Accident & Emergency  ...                0.0             1.0   \n",
       "38889                      Floor  ...                0.0             1.0   \n",
       "52524       Accident & Emergency  ...                1.0             1.0   \n",
       "57411       Accident & Emergency  ...                0.0             1.0   \n",
       "71802  Operating Room / Recovery  ...                0.0             1.0   \n",
       "80147       Accident & Emergency  ...                0.0             1.0   \n",
       "87447       Accident & Emergency  ...                0.0             1.0   \n",
       "\n",
       "      immunosuppression  leukemia  lymphoma  solid_tumor_with_metastasis  \\\n",
       "21392               0.0       1.0       0.0                          0.0   \n",
       "38889               0.0       1.0       0.0                          0.0   \n",
       "52524               0.0       1.0       0.0                          0.0   \n",
       "57411               1.0       1.0       0.0                          0.0   \n",
       "71802               0.0       1.0       0.0                          0.0   \n",
       "80147               1.0       1.0       0.0                          0.0   \n",
       "87447               0.0       1.0       0.0                          0.0   \n",
       "\n",
       "       apache_3j_bodysystem  apache_2_bodysystem  Unnamed: 83  hospital_death  \n",
       "21392                Sepsis       Cardiovascular          NaN               0  \n",
       "38889         Genitourinary  Renal/Genitourinary          NaN               0  \n",
       "52524                Sepsis       Cardiovascular          NaN               0  \n",
       "57411           Respiratory          Respiratory          NaN               0  \n",
       "71802        Cardiovascular  Undefined diagnoses          NaN               1  \n",
       "80147             Metabolic            Metabolic          NaN               0  \n",
       "87447             Metabolic            Metabolic          NaN               0  \n",
       "\n",
       "[7 rows x 85 columns]"
      ]
     },
     "execution_count": 47,
     "metadata": {},
     "output_type": "execute_result"
    }
   ],
   "source": [
    "df[(df['hepatic_failure'] == 1.0) & (df['leukemia'] == 1.0)]"
   ]
  },
  {
   "cell_type": "code",
   "execution_count": 21,
   "id": "e38cc708",
   "metadata": {},
   "outputs": [],
   "source": [
    "data = ['hf', 'lk', 'lf', 'stm']"
   ]
  },
  {
   "cell_type": "code",
   "execution_count": 17,
   "id": "89a1b094",
   "metadata": {},
   "outputs": [],
   "source": [
    "data.append('t')"
   ]
  },
  {
   "cell_type": "code",
   "execution_count": 18,
   "id": "9efc57f8",
   "metadata": {},
   "outputs": [
    {
     "data": {
      "text/plain": [
       "['f', 'f', [], 't']"
      ]
     },
     "execution_count": 18,
     "metadata": {},
     "output_type": "execute_result"
    }
   ],
   "source": [
    "data"
   ]
  },
  {
   "cell_type": "code",
   "execution_count": 22,
   "id": "cfece2f9",
   "metadata": {},
   "outputs": [
    {
     "name": "stdout",
     "output_type": "stream",
     "text": [
      "0\n",
      "1\n",
      "1\n",
      "0\n"
     ]
    }
   ],
   "source": [
    "for x in data:\n",
    "    if x in ['lk', 'lf']:\n",
    "        print(1)\n",
    "    else:\n",
    "        print(0)"
   ]
  },
  {
   "cell_type": "code",
   "execution_count": 23,
   "id": "3289d75a",
   "metadata": {},
   "outputs": [
    {
     "ename": "TypeError",
     "evalue": "int() argument must be a string, a bytes-like object or a real number, not 'list'",
     "output_type": "error",
     "traceback": [
      "\u001b[0;31m---------------------------------------------------------------------------\u001b[0m",
      "\u001b[0;31mTypeError\u001b[0m                                 Traceback (most recent call last)",
      "\u001b[0;32m/tmp/ipykernel_3184/2874207950.py\u001b[0m in \u001b[0;36m<module>\u001b[0;34m\u001b[0m\n\u001b[0;32m----> 1\u001b[0;31m \u001b[0mint\u001b[0m\u001b[0;34m(\u001b[0m\u001b[0;34m[\u001b[0m\u001b[0;34m'1'\u001b[0m\u001b[0;34m,\u001b[0m\u001b[0;34m'3'\u001b[0m\u001b[0;34m,\u001b[0m \u001b[0;36m4\u001b[0m\u001b[0;34m]\u001b[0m\u001b[0;34m)\u001b[0m\u001b[0;34m\u001b[0m\u001b[0;34m\u001b[0m\u001b[0m\n\u001b[0m",
      "\u001b[0;31mTypeError\u001b[0m: int() argument must be a string, a bytes-like object or a real number, not 'list'"
     ]
    }
   ],
   "source": [
    "int(['1','3', 4])"
   ]
  },
  {
   "cell_type": "code",
   "execution_count": null,
   "id": "a2a41d06",
   "metadata": {},
   "outputs": [],
   "source": []
  }
 ],
 "metadata": {
  "kernelspec": {
   "display_name": "Python 3 (ipykernel)",
   "language": "python",
   "name": "python3"
  },
  "language_info": {
   "codemirror_mode": {
    "name": "ipython",
    "version": 3
   },
   "file_extension": ".py",
   "mimetype": "text/x-python",
   "name": "python",
   "nbconvert_exporter": "python",
   "pygments_lexer": "ipython3",
   "version": "3.10.0"
  }
 },
 "nbformat": 4,
 "nbformat_minor": 5
}
