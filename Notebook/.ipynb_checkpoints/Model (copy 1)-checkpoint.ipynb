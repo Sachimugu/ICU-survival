{
 "cells": [
  {
   "cell_type": "markdown",
   "id": "76b44c99",
   "metadata": {},
   "source": [
    "# Data Processing and ML Model\n",
    "## Table of Contents\n",
    "- #### <a href=\"#dp\" style='color:black; text-decoration:none'>Data Processing</a>\n",
    "<ul>\n",
    "<li><a href=\"#ohe\">One Hot Encoding</a></li>\n",
    "<li><a href=\"#rfe\">Recrussive Feature Elimation</a></li>\n",
    "<li><a href=\"#dos\">Data Oversampling</a></li>\n",
    "</ul>\n",
    "- #### <a href=\"#mml\" style='color:black; text-decoration:none'>ML Models</a>\n",
    "<ul>\n",
    "<li><a href=\"#lr\">Logistic Regression</a></li>\n",
    "<li><a href=\"#rfc\">Random Forest Classifier</a></li>\n",
    "<li><a href=\"#svm\">Support Vector Machines</a></li>\n",
    "<li><a href=\"#dtc\">Decision Tree Classifier</a></li>\n",
    "<li><a href=\"#gb\">Gradient Booster</a></li>\n",
    "<li><a href=\"#knn\">KNeighbors Classifier</a></li>\n",
    "</ul>\n",
    "- #### <a href=\"#me\" style='color:black; text-decoration:none' >Models Evaluation</a>\n",
    "- #### <a href=\"#hpt\" style='color:black; text-decoration:none'>Hyperparameter tunnig</a>\n",
    "<ul>\n",
    "<li><a href=\"#lrhpt\">Logistic Regression parameter tunnig</a></li>\n",
    "<li><a href=\"#xgbhpt\">XGBooster parameter tunnig</a></li>\n",
    "</ul>\n",
    "- #### <a href=\"#conclusion\" style='color:black; text-decoration:none' >Summary</a>\n"
   ]
  },
  {
   "cell_type": "markdown",
   "id": "fa6c6aae",
   "metadata": {},
   "source": [
    "<a name=\"dp\"></a>\n",
    "# Data Processing"
   ]
  },
  {
   "cell_type": "code",
   "execution_count": 66,
   "id": "e73e7215",
   "metadata": {},
   "outputs": [],
   "source": [
    "#import libraries\n",
    "import pandas as pd\n",
    "import numpy as np\n",
    "import seaborn as sns\n",
    "from matplotlib import pyplot as plt\n",
    "sns.set(style=\"white\")\n",
    "sns.set(style=\"whitegrid\", color_codes=True)\n",
    "%matplotlib inline\n",
    "import warnings\n",
    "warnings.filterwarnings('ignore')"
   ]
  },
  {
   "cell_type": "code",
   "execution_count": 67,
   "id": "8e49eca1",
   "metadata": {},
   "outputs": [],
   "source": [
    "df=pd.read_csv('../Datasets/clean_dataset')"
   ]
  },
  {
   "cell_type": "code",
   "execution_count": 68,
   "id": "4772965f",
   "metadata": {
    "scrolled": false
   },
   "outputs": [
    {
     "data": {
      "text/plain": [
       "Med-Surg ICU    32652\n",
       "Cardiac ICU     12825\n",
       "MICU             6229\n",
       "Neuro ICU        5272\n",
       "SICU             4145\n",
       "Name: icu_type, dtype: int64"
      ]
     },
     "execution_count": 68,
     "metadata": {},
     "output_type": "execute_result"
    }
   ],
   "source": [
    "df['icu_type'].value_counts()"
   ]
  },
  {
   "cell_type": "code",
   "execution_count": 69,
   "id": "381f53ad",
   "metadata": {},
   "outputs": [],
   "source": [
    "df['icu_type']=df['icu_type'].str.replace('C.*','Cardiac ICU', regex=True)"
   ]
  },
  {
   "cell_type": "code",
   "execution_count": 70,
   "id": "599f913e",
   "metadata": {},
   "outputs": [
    {
     "data": {
      "text/html": [
       "<div>\n",
       "<style scoped>\n",
       "    .dataframe tbody tr th:only-of-type {\n",
       "        vertical-align: middle;\n",
       "    }\n",
       "\n",
       "    .dataframe tbody tr th {\n",
       "        vertical-align: top;\n",
       "    }\n",
       "\n",
       "    .dataframe thead th {\n",
       "        text-align: right;\n",
       "    }\n",
       "</style>\n",
       "<table border=\"1\" class=\"dataframe\">\n",
       "  <thead>\n",
       "    <tr style=\"text-align: right;\">\n",
       "      <th></th>\n",
       "      <th>age</th>\n",
       "      <th>bmi</th>\n",
       "      <th>elective_surgery</th>\n",
       "      <th>ethnicity</th>\n",
       "      <th>gender</th>\n",
       "      <th>height</th>\n",
       "      <th>icu_admit_source</th>\n",
       "      <th>icu_stay_type</th>\n",
       "      <th>icu_type</th>\n",
       "      <th>pre_icu_los_days</th>\n",
       "      <th>...</th>\n",
       "      <th>apache_3j_bodysystem</th>\n",
       "      <th>apache_2_bodysystem</th>\n",
       "      <th>hospital_death</th>\n",
       "      <th>bmi_cat</th>\n",
       "      <th>Gcs</th>\n",
       "      <th>gcs_cat</th>\n",
       "      <th>age_cat</th>\n",
       "      <th>h1_pluse_P</th>\n",
       "      <th>heart_rate_cat</th>\n",
       "      <th>map_cat</th>\n",
       "    </tr>\n",
       "  </thead>\n",
       "  <tbody>\n",
       "    <tr>\n",
       "      <th>0</th>\n",
       "      <td>68.0</td>\n",
       "      <td>22.73</td>\n",
       "      <td>0</td>\n",
       "      <td>Caucasian</td>\n",
       "      <td>M</td>\n",
       "      <td>180.3</td>\n",
       "      <td>Floor</td>\n",
       "      <td>admit</td>\n",
       "      <td>Cardiac ICU</td>\n",
       "      <td>0.541667</td>\n",
       "      <td>...</td>\n",
       "      <td>Sepsis</td>\n",
       "      <td>Cardiovascular</td>\n",
       "      <td>0</td>\n",
       "      <td>normal</td>\n",
       "      <td>13.0</td>\n",
       "      <td>mild</td>\n",
       "      <td>old_adult</td>\n",
       "      <td>high</td>\n",
       "      <td>high</td>\n",
       "      <td>low</td>\n",
       "    </tr>\n",
       "    <tr>\n",
       "      <th>1</th>\n",
       "      <td>77.0</td>\n",
       "      <td>27.42</td>\n",
       "      <td>0</td>\n",
       "      <td>Caucasian</td>\n",
       "      <td>F</td>\n",
       "      <td>160.0</td>\n",
       "      <td>Floor</td>\n",
       "      <td>admit</td>\n",
       "      <td>Med-Surg ICardiac ICU</td>\n",
       "      <td>0.927778</td>\n",
       "      <td>...</td>\n",
       "      <td>Respiratory</td>\n",
       "      <td>Respiratory</td>\n",
       "      <td>0</td>\n",
       "      <td>overweight</td>\n",
       "      <td>5.0</td>\n",
       "      <td>sever</td>\n",
       "      <td>old_adult</td>\n",
       "      <td>low</td>\n",
       "      <td>high</td>\n",
       "      <td>low</td>\n",
       "    </tr>\n",
       "    <tr>\n",
       "      <th>2</th>\n",
       "      <td>67.0</td>\n",
       "      <td>27.56</td>\n",
       "      <td>0</td>\n",
       "      <td>Caucasian</td>\n",
       "      <td>M</td>\n",
       "      <td>190.5</td>\n",
       "      <td>Accident &amp; Emergency</td>\n",
       "      <td>admit</td>\n",
       "      <td>Med-Surg ICardiac ICU</td>\n",
       "      <td>0.000694</td>\n",
       "      <td>...</td>\n",
       "      <td>Neurological</td>\n",
       "      <td>Neurologic</td>\n",
       "      <td>0</td>\n",
       "      <td>overweight</td>\n",
       "      <td>15.0</td>\n",
       "      <td>normal</td>\n",
       "      <td>old_adult</td>\n",
       "      <td>normal</td>\n",
       "      <td>high</td>\n",
       "      <td>high</td>\n",
       "    </tr>\n",
       "    <tr>\n",
       "      <th>3</th>\n",
       "      <td>70.0</td>\n",
       "      <td>29.00</td>\n",
       "      <td>0</td>\n",
       "      <td>Caucasian</td>\n",
       "      <td>M</td>\n",
       "      <td>165.0</td>\n",
       "      <td>Accident &amp; Emergency</td>\n",
       "      <td>admit</td>\n",
       "      <td>Med-Surg ICardiac ICU</td>\n",
       "      <td>0.002083</td>\n",
       "      <td>...</td>\n",
       "      <td>Sepsis</td>\n",
       "      <td>Cardiovascular</td>\n",
       "      <td>0</td>\n",
       "      <td>overweight</td>\n",
       "      <td>15.0</td>\n",
       "      <td>normal</td>\n",
       "      <td>old_adult</td>\n",
       "      <td>normal</td>\n",
       "      <td>high</td>\n",
       "      <td>normal</td>\n",
       "    </tr>\n",
       "  </tbody>\n",
       "</table>\n",
       "<p>4 rows × 84 columns</p>\n",
       "</div>"
      ],
      "text/plain": [
       "    age    bmi  elective_surgery  ethnicity gender  height  \\\n",
       "0  68.0  22.73                 0  Caucasian      M   180.3   \n",
       "1  77.0  27.42                 0  Caucasian      F   160.0   \n",
       "2  67.0  27.56                 0  Caucasian      M   190.5   \n",
       "3  70.0  29.00                 0  Caucasian      M   165.0   \n",
       "\n",
       "       icu_admit_source icu_stay_type               icu_type  \\\n",
       "0                 Floor         admit            Cardiac ICU   \n",
       "1                 Floor         admit  Med-Surg ICardiac ICU   \n",
       "2  Accident & Emergency         admit  Med-Surg ICardiac ICU   \n",
       "3  Accident & Emergency         admit  Med-Surg ICardiac ICU   \n",
       "\n",
       "   pre_icu_los_days  ...  apache_3j_bodysystem  apache_2_bodysystem  \\\n",
       "0          0.541667  ...                Sepsis       Cardiovascular   \n",
       "1          0.927778  ...           Respiratory          Respiratory   \n",
       "2          0.000694  ...          Neurological           Neurologic   \n",
       "3          0.002083  ...                Sepsis       Cardiovascular   \n",
       "\n",
       "   hospital_death     bmi_cat   Gcs  gcs_cat    age_cat  h1_pluse_P  \\\n",
       "0               0      normal  13.0     mild  old_adult        high   \n",
       "1               0  overweight   5.0    sever  old_adult         low   \n",
       "2               0  overweight  15.0   normal  old_adult      normal   \n",
       "3               0  overweight  15.0   normal  old_adult      normal   \n",
       "\n",
       "   heart_rate_cat  map_cat  \n",
       "0            high      low  \n",
       "1            high      low  \n",
       "2            high     high  \n",
       "3            high   normal  \n",
       "\n",
       "[4 rows x 84 columns]"
      ]
     },
     "execution_count": 70,
     "metadata": {},
     "output_type": "execute_result"
    }
   ],
   "source": [
    "df.head(4)"
   ]
  },
  {
   "cell_type": "code",
   "execution_count": 71,
   "id": "3f40ae7a",
   "metadata": {
    "scrolled": false
   },
   "outputs": [
    {
     "name": "stdout",
     "output_type": "stream",
     "text": [
      "number of rows are: 61123\n",
      "number of columns are: 84\n"
     ]
    }
   ],
   "source": [
    "#rows and columns\n",
    "print('number of rows are:', df.shape[0]) \n",
    "print('number of columns are:', df.shape[1])"
   ]
  },
  {
   "cell_type": "markdown",
   "id": "ad53be45",
   "metadata": {},
   "source": [
    "> Most of these columns are repeatatives of other column  while some columns that start with d1_ are data recorded after 24 hours we are trying to predict patient survival in the first few hiurs of ICU admission inorder to priotise anad redeploy limited resources. \n"
   ]
  },
  {
   "cell_type": "code",
   "execution_count": 72,
   "id": "868aadd4",
   "metadata": {},
   "outputs": [],
   "source": [
    "# drop highly correclected and repeated columns\n",
    "df=df.drop(columns=['d1_diasbp_min', 'd1_diasbp_noninvasive_max','d1_diasbp_noninvasive_min', 'd1_heartrate_max',\n",
    "                    'd1_heartrate_min','d1_mbp_max', 'd1_mbp_min', 'd1_mbp_noninvasive_max','d1_mbp_noninvasive_min'\n",
    "                    , 'd1_resprate_max', 'd1_resprate_min','d1_spo2_max', 'd1_spo2_min', 'd1_sysbp_max',\n",
    "                    'd1_sysbp_min','d1_sysbp_noninvasive_max', 'd1_sysbp_noninvasive_min', 'd1_temp_max',\n",
    "                    'd1_temp_min', 'h1_diasbp_max', 'h1_diasbp_min','h1_diasbp_max', 'h1_diasbp_min',\n",
    "                    'h1_diasbp_noninvasive_max', 'h1_diasbp_noninvasive_min','h1_heartrate_max', \n",
    "                    'h1_heartrate_min', 'h1_mbp_max', 'h1_mbp_min','h1_mbp_noninvasive_max', \n",
    "                    'h1_mbp_noninvasive_min','h1_spo2_max', 'h1_spo2_min', 'h1_sysbp_max','h1_sysbp_min',\n",
    "                    'h1_sysbp_noninvasive_max', 'h1_sysbp_noninvasive_min','d1_glucose_max', 'd1_glucose_min',\n",
    "                    'd1_potassium_max','d1_potassium_min','age','weight','height','apache_2_diagnosis',\n",
    "                    'apache_2_bodysystem','intubated_apache','d1_diasbp_max','h1_resprate_max', 'h1_resprate_min',\n",
    "                    'gcs_unable_apache','heart_rate_apache','Gcs','bmi','apache_post_operative','cirrhosis',\n",
    "                    'apache_4a_hospital_death_prob','elective_surgery','resprate_apache','map_apache',\n",
    "                    'apache_3j_diagnosis','icu_admit_source'])"
   ]
  },
  {
   "cell_type": "code",
   "execution_count": 73,
   "id": "b03ee220",
   "metadata": {
    "scrolled": false
   },
   "outputs": [
    {
     "name": "stdout",
     "output_type": "stream",
     "text": [
      "number of rows are: 61123\n",
      "number of columns are: 24\n"
     ]
    }
   ],
   "source": [
    "#rows and columns\n",
    "print('number of rows are:', df.shape[0]) \n",
    "print('number of columns are:', df.shape[1])"
   ]
  },
  {
   "cell_type": "code",
   "execution_count": 74,
   "id": "cb0b1b26",
   "metadata": {},
   "outputs": [
    {
     "data": {
      "text/plain": [
       "Index(['ethnicity', 'gender', 'icu_stay_type', 'icu_type', 'pre_icu_los_days',\n",
       "       'arf_apache', 'temp_apache', 'ventilated_apache',\n",
       "       'apache_4a_icu_death_prob', 'aids', 'diabetes_mellitus',\n",
       "       'hepatic_failure', 'immunosuppression', 'leukemia', 'lymphoma',\n",
       "       'solid_tumor_with_metastasis', 'apache_3j_bodysystem', 'hospital_death',\n",
       "       'bmi_cat', 'gcs_cat', 'age_cat', 'h1_pluse_P', 'heart_rate_cat',\n",
       "       'map_cat'],\n",
       "      dtype='object')"
      ]
     },
     "execution_count": 74,
     "metadata": {},
     "output_type": "execute_result"
    }
   ],
   "source": [
    "df.columns"
   ]
  },
  {
   "cell_type": "code",
   "execution_count": 75,
   "id": "76dfcd70",
   "metadata": {},
   "outputs": [],
   "source": [
    "#df1=df.copy()"
   ]
  },
  {
   "cell_type": "markdown",
   "id": "79754aae",
   "metadata": {},
   "source": [
    "<a name=\"ohe\"></a>\n",
    "## One Hot  and Label Encoding"
   ]
  },
  {
   "cell_type": "code",
   "execution_count": 76,
   "id": "4d78a5da",
   "metadata": {},
   "outputs": [],
   "source": [
    "from sklearn import preprocessing\n",
    "label = preprocessing.LabelEncoder()\n",
    "label_col=df.columns[df.dtypes == 'object']\n",
    "\n",
    "label_col=['gcs_cat','bmi_cat','age_cat','h1_pluse_P','heart_rate_cat','map_cat','apache_3j_bodysystem','icu_type']\n",
    "def labeling(col):\n",
    "        df[col]=label.fit_transform(df[col])\n",
    "for i in label_col:\n",
    "    labeling(i)"
   ]
  },
  {
   "cell_type": "code",
   "execution_count": 77,
   "id": "677851d7",
   "metadata": {},
   "outputs": [],
   "source": [
    "# one hot encoding object and categorical columns\n",
    "ohe_col=df.columns[df.dtypes == 'object']\n",
    "#['ethnicity','gender','icu_type','icu_admit_source','icu_stay_type']\n",
    "ohe_col=df[ohe_col]"
   ]
  },
  {
   "cell_type": "code",
   "execution_count": 78,
   "id": "8e0b1723",
   "metadata": {},
   "outputs": [
    {
     "data": {
      "text/html": [
       "<div>\n",
       "<style scoped>\n",
       "    .dataframe tbody tr th:only-of-type {\n",
       "        vertical-align: middle;\n",
       "    }\n",
       "\n",
       "    .dataframe tbody tr th {\n",
       "        vertical-align: top;\n",
       "    }\n",
       "\n",
       "    .dataframe thead th {\n",
       "        text-align: right;\n",
       "    }\n",
       "</style>\n",
       "<table border=\"1\" class=\"dataframe\">\n",
       "  <thead>\n",
       "    <tr style=\"text-align: right;\">\n",
       "      <th></th>\n",
       "      <th>ethnicity</th>\n",
       "      <th>gender</th>\n",
       "      <th>icu_stay_type</th>\n",
       "    </tr>\n",
       "  </thead>\n",
       "  <tbody>\n",
       "    <tr>\n",
       "      <th>0</th>\n",
       "      <td>Caucasian</td>\n",
       "      <td>M</td>\n",
       "      <td>admit</td>\n",
       "    </tr>\n",
       "    <tr>\n",
       "      <th>1</th>\n",
       "      <td>Caucasian</td>\n",
       "      <td>F</td>\n",
       "      <td>admit</td>\n",
       "    </tr>\n",
       "    <tr>\n",
       "      <th>2</th>\n",
       "      <td>Caucasian</td>\n",
       "      <td>M</td>\n",
       "      <td>admit</td>\n",
       "    </tr>\n",
       "    <tr>\n",
       "      <th>3</th>\n",
       "      <td>Caucasian</td>\n",
       "      <td>M</td>\n",
       "      <td>admit</td>\n",
       "    </tr>\n",
       "    <tr>\n",
       "      <th>4</th>\n",
       "      <td>Hispanic</td>\n",
       "      <td>F</td>\n",
       "      <td>admit</td>\n",
       "    </tr>\n",
       "    <tr>\n",
       "      <th>...</th>\n",
       "      <td>...</td>\n",
       "      <td>...</td>\n",
       "      <td>...</td>\n",
       "    </tr>\n",
       "    <tr>\n",
       "      <th>61118</th>\n",
       "      <td>Caucasian</td>\n",
       "      <td>M</td>\n",
       "      <td>admit</td>\n",
       "    </tr>\n",
       "    <tr>\n",
       "      <th>61119</th>\n",
       "      <td>Native American</td>\n",
       "      <td>M</td>\n",
       "      <td>admit</td>\n",
       "    </tr>\n",
       "    <tr>\n",
       "      <th>61120</th>\n",
       "      <td>Caucasian</td>\n",
       "      <td>M</td>\n",
       "      <td>admit</td>\n",
       "    </tr>\n",
       "    <tr>\n",
       "      <th>61121</th>\n",
       "      <td>Caucasian</td>\n",
       "      <td>F</td>\n",
       "      <td>admit</td>\n",
       "    </tr>\n",
       "    <tr>\n",
       "      <th>61122</th>\n",
       "      <td>Caucasian</td>\n",
       "      <td>F</td>\n",
       "      <td>admit</td>\n",
       "    </tr>\n",
       "  </tbody>\n",
       "</table>\n",
       "<p>61123 rows × 3 columns</p>\n",
       "</div>"
      ],
      "text/plain": [
       "             ethnicity gender icu_stay_type\n",
       "0            Caucasian      M         admit\n",
       "1            Caucasian      F         admit\n",
       "2            Caucasian      M         admit\n",
       "3            Caucasian      M         admit\n",
       "4             Hispanic      F         admit\n",
       "...                ...    ...           ...\n",
       "61118        Caucasian      M         admit\n",
       "61119  Native American      M         admit\n",
       "61120        Caucasian      M         admit\n",
       "61121        Caucasian      F         admit\n",
       "61122        Caucasian      F         admit\n",
       "\n",
       "[61123 rows x 3 columns]"
      ]
     },
     "execution_count": 78,
     "metadata": {},
     "output_type": "execute_result"
    }
   ],
   "source": [
    "ohe_col"
   ]
  },
  {
   "cell_type": "code",
   "execution_count": 79,
   "id": "710f3332",
   "metadata": {},
   "outputs": [],
   "source": [
    "x=pd.get_dummies(ohe_col) # convert categorical columns to dummies\n",
    "df=df.drop(ohe_col, axis=1) # drop original columns\n",
    "df=df.join(x) #join dummies"
   ]
  },
  {
   "cell_type": "code",
   "execution_count": 80,
   "id": "a0ff9429",
   "metadata": {
    "scrolled": true
   },
   "outputs": [
    {
     "data": {
      "text/html": [
       "<div>\n",
       "<style scoped>\n",
       "    .dataframe tbody tr th:only-of-type {\n",
       "        vertical-align: middle;\n",
       "    }\n",
       "\n",
       "    .dataframe tbody tr th {\n",
       "        vertical-align: top;\n",
       "    }\n",
       "\n",
       "    .dataframe thead th {\n",
       "        text-align: right;\n",
       "    }\n",
       "</style>\n",
       "<table border=\"1\" class=\"dataframe\">\n",
       "  <thead>\n",
       "    <tr style=\"text-align: right;\">\n",
       "      <th></th>\n",
       "      <th>icu_type</th>\n",
       "      <th>pre_icu_los_days</th>\n",
       "      <th>arf_apache</th>\n",
       "      <th>temp_apache</th>\n",
       "      <th>ventilated_apache</th>\n",
       "      <th>apache_4a_icu_death_prob</th>\n",
       "      <th>aids</th>\n",
       "      <th>diabetes_mellitus</th>\n",
       "      <th>hepatic_failure</th>\n",
       "      <th>immunosuppression</th>\n",
       "      <th>...</th>\n",
       "      <th>ethnicity_Asian</th>\n",
       "      <th>ethnicity_Caucasian</th>\n",
       "      <th>ethnicity_Hispanic</th>\n",
       "      <th>ethnicity_Native American</th>\n",
       "      <th>ethnicity_Other/Unknown</th>\n",
       "      <th>gender_F</th>\n",
       "      <th>gender_M</th>\n",
       "      <th>icu_stay_type_admit</th>\n",
       "      <th>icu_stay_type_readmit</th>\n",
       "      <th>icu_stay_type_transfer</th>\n",
       "    </tr>\n",
       "  </thead>\n",
       "  <tbody>\n",
       "    <tr>\n",
       "      <th>0</th>\n",
       "      <td>0</td>\n",
       "      <td>0.541667</td>\n",
       "      <td>0.0</td>\n",
       "      <td>39.3</td>\n",
       "      <td>0.0</td>\n",
       "      <td>0.05</td>\n",
       "      <td>0.0</td>\n",
       "      <td>1.0</td>\n",
       "      <td>0.0</td>\n",
       "      <td>0.0</td>\n",
       "      <td>...</td>\n",
       "      <td>0</td>\n",
       "      <td>1</td>\n",
       "      <td>0</td>\n",
       "      <td>0</td>\n",
       "      <td>0</td>\n",
       "      <td>0</td>\n",
       "      <td>1</td>\n",
       "      <td>1</td>\n",
       "      <td>0</td>\n",
       "      <td>0</td>\n",
       "    </tr>\n",
       "    <tr>\n",
       "      <th>1</th>\n",
       "      <td>2</td>\n",
       "      <td>0.927778</td>\n",
       "      <td>0.0</td>\n",
       "      <td>35.1</td>\n",
       "      <td>1.0</td>\n",
       "      <td>0.29</td>\n",
       "      <td>0.0</td>\n",
       "      <td>1.0</td>\n",
       "      <td>0.0</td>\n",
       "      <td>0.0</td>\n",
       "      <td>...</td>\n",
       "      <td>0</td>\n",
       "      <td>1</td>\n",
       "      <td>0</td>\n",
       "      <td>0</td>\n",
       "      <td>0</td>\n",
       "      <td>1</td>\n",
       "      <td>0</td>\n",
       "      <td>1</td>\n",
       "      <td>0</td>\n",
       "      <td>0</td>\n",
       "    </tr>\n",
       "    <tr>\n",
       "      <th>2</th>\n",
       "      <td>2</td>\n",
       "      <td>0.000694</td>\n",
       "      <td>0.0</td>\n",
       "      <td>36.6</td>\n",
       "      <td>0.0</td>\n",
       "      <td>0.02</td>\n",
       "      <td>0.0</td>\n",
       "      <td>1.0</td>\n",
       "      <td>0.0</td>\n",
       "      <td>0.0</td>\n",
       "      <td>...</td>\n",
       "      <td>0</td>\n",
       "      <td>1</td>\n",
       "      <td>0</td>\n",
       "      <td>0</td>\n",
       "      <td>0</td>\n",
       "      <td>0</td>\n",
       "      <td>1</td>\n",
       "      <td>1</td>\n",
       "      <td>0</td>\n",
       "      <td>0</td>\n",
       "    </tr>\n",
       "    <tr>\n",
       "      <th>3</th>\n",
       "      <td>2</td>\n",
       "      <td>0.002083</td>\n",
       "      <td>0.0</td>\n",
       "      <td>36.6</td>\n",
       "      <td>1.0</td>\n",
       "      <td>0.06</td>\n",
       "      <td>0.0</td>\n",
       "      <td>0.0</td>\n",
       "      <td>0.0</td>\n",
       "      <td>1.0</td>\n",
       "      <td>...</td>\n",
       "      <td>0</td>\n",
       "      <td>1</td>\n",
       "      <td>0</td>\n",
       "      <td>0</td>\n",
       "      <td>0</td>\n",
       "      <td>0</td>\n",
       "      <td>1</td>\n",
       "      <td>1</td>\n",
       "      <td>0</td>\n",
       "      <td>0</td>\n",
       "    </tr>\n",
       "  </tbody>\n",
       "</table>\n",
       "<p>4 rows × 32 columns</p>\n",
       "</div>"
      ],
      "text/plain": [
       "   icu_type  pre_icu_los_days  arf_apache  temp_apache  ventilated_apache  \\\n",
       "0         0          0.541667         0.0         39.3                0.0   \n",
       "1         2          0.927778         0.0         35.1                1.0   \n",
       "2         2          0.000694         0.0         36.6                0.0   \n",
       "3         2          0.002083         0.0         36.6                1.0   \n",
       "\n",
       "   apache_4a_icu_death_prob  aids  diabetes_mellitus  hepatic_failure  \\\n",
       "0                      0.05   0.0                1.0              0.0   \n",
       "1                      0.29   0.0                1.0              0.0   \n",
       "2                      0.02   0.0                1.0              0.0   \n",
       "3                      0.06   0.0                0.0              0.0   \n",
       "\n",
       "   immunosuppression  ...  ethnicity_Asian  ethnicity_Caucasian  \\\n",
       "0                0.0  ...                0                    1   \n",
       "1                0.0  ...                0                    1   \n",
       "2                0.0  ...                0                    1   \n",
       "3                1.0  ...                0                    1   \n",
       "\n",
       "   ethnicity_Hispanic  ethnicity_Native American  ethnicity_Other/Unknown  \\\n",
       "0                   0                          0                        0   \n",
       "1                   0                          0                        0   \n",
       "2                   0                          0                        0   \n",
       "3                   0                          0                        0   \n",
       "\n",
       "   gender_F  gender_M  icu_stay_type_admit  icu_stay_type_readmit  \\\n",
       "0         0         1                    1                      0   \n",
       "1         1         0                    1                      0   \n",
       "2         0         1                    1                      0   \n",
       "3         0         1                    1                      0   \n",
       "\n",
       "   icu_stay_type_transfer  \n",
       "0                       0  \n",
       "1                       0  \n",
       "2                       0  \n",
       "3                       0  \n",
       "\n",
       "[4 rows x 32 columns]"
      ]
     },
     "execution_count": 80,
     "metadata": {},
     "output_type": "execute_result"
    }
   ],
   "source": [
    "df.head(4)"
   ]
  },
  {
   "cell_type": "code",
   "execution_count": null,
   "id": "61586b8b",
   "metadata": {},
   "outputs": [],
   "source": []
  },
  {
   "cell_type": "code",
   "execution_count": 82,
   "id": "c247db56",
   "metadata": {
    "scrolled": false
   },
   "outputs": [
    {
     "name": "stdout",
     "output_type": "stream",
     "text": [
      "number of rows are: 61123\n",
      "number of columns are: 32\n"
     ]
    }
   ],
   "source": [
    "#rows and columns\n",
    "print('number of rows are:', df.shape[0]) \n",
    "print('number of columns are:', df.shape[1])"
   ]
  },
  {
   "cell_type": "markdown",
   "id": "a1398f25",
   "metadata": {},
   "source": [
    "<a home=\"rfe\"></a>\n",
    "## Recrussive Feature Elimation"
   ]
  },
  {
   "cell_type": "code",
   "execution_count": 63,
   "id": "ecabc709",
   "metadata": {},
   "outputs": [],
   "source": [
    "#Seperating dependent and independent feature\n",
    "X=df.drop('hospital_death', axis=1)\n",
    "y=df['hospital_death']"
   ]
  },
  {
   "cell_type": "code",
   "execution_count": 64,
   "id": "3376c915",
   "metadata": {},
   "outputs": [
    {
     "data": {
      "text/plain": [
       "(61123, 31)"
      ]
     },
     "execution_count": 64,
     "metadata": {},
     "output_type": "execute_result"
    }
   ],
   "source": [
    "X.shape"
   ]
  },
  {
   "cell_type": "code",
   "execution_count": 65,
   "id": "79a9c4fe",
   "metadata": {},
   "outputs": [],
   "source": [
    "#import rfe\n",
    "from sklearn.feature_selection import RFE\n",
    "from sklearn.linear_model import LogisticRegression\n",
    "from sklearn.ensemble import RandomForestClassifier\n",
    "import lightgbm as lgb\n",
    "model = lgb.LGBMClassifier(learning_rate=0.09,max_depth=-5,random_state=42)"
   ]
  },
  {
   "cell_type": "code",
   "execution_count": 276,
   "id": "311901d7",
   "metadata": {},
   "outputs": [],
   "source": [
    "#fit rfe with X and y\n",
    "#model = LogisticRegression()\n",
    "rfe = RFE(model, n_features_to_select=12 )\n",
    "rfe = rfe.fit(X,y)"
   ]
  },
  {
   "cell_type": "code",
   "execution_count": 277,
   "id": "8dc6f4f4",
   "metadata": {
    "scrolled": true
   },
   "outputs": [
    {
     "data": {
      "text/plain": [
       "array([ True, False, False,  True,  True, False,  True, False,  True,\n",
       "       False, False, False, False, False, False, False,  True,  True,\n",
       "        True,  True,  True,  True,  True])"
      ]
     },
     "execution_count": 277,
     "metadata": {},
     "output_type": "execute_result"
    }
   ],
   "source": [
    "rfe_in = rfe.get_support()\n",
    "rfe_in"
   ]
  },
  {
   "cell_type": "code",
   "execution_count": 278,
   "id": "1c271af7",
   "metadata": {
    "scrolled": true
   },
   "outputs": [
    {
     "data": {
      "text/plain": [
       "Index(['ethnicity', 'icu_type', 'pre_icu_los_days', 'temp_apache',\n",
       "       'apache_4a_icu_death_prob', 'apache_3j_bodysystem', 'bmi_cat',\n",
       "       'gcs_cat', 'age_cat', 'h1_pluse_P', 'heart_rate_cat', 'map_cat'],\n",
       "      dtype='object')"
      ]
     },
     "execution_count": 278,
     "metadata": {},
     "output_type": "execute_result"
    }
   ],
   "source": [
    "rfe_in = rfe.get_support() # get the index of the top useful columns\n",
    "X=X[X.columns[rfe_in]] # make a data frame of the new features\n",
    "X.columns "
   ]
  },
  {
   "cell_type": "code",
   "execution_count": null,
   "id": "2010620e",
   "metadata": {},
   "outputs": [],
   "source": [
    "from sklearn.feature_selection import mutual_info_classif\n",
    "mutual_info = mutual_info_classif(X_train, y_train)"
   ]
  },
  {
   "cell_type": "code",
   "execution_count": 279,
   "id": "1f4c446a",
   "metadata": {
    "scrolled": false
   },
   "outputs": [
    {
     "name": "stdout",
     "output_type": "stream",
     "text": [
      "Optimization terminated successfully.\n",
      "         Current function value: 0.240893\n",
      "         Iterations 7\n",
      "                           Logit Regression Results                           \n",
      "==============================================================================\n",
      "Dep. Variable:         hospital_death   No. Observations:                61123\n",
      "Model:                          Logit   Df Residuals:                    61111\n",
      "Method:                           MLE   Df Model:                           11\n",
      "Date:                Tue, 21 Jun 2022   Pseudo R-squ.:                  0.1959\n",
      "Time:                        21:19:46   Log-Likelihood:                -14724.\n",
      "converged:                       True   LL-Null:                       -18311.\n",
      "Covariance Type:            nonrobust   LLR p-value:                     0.000\n",
      "============================================================================================\n",
      "                               coef    std err          z      P>|z|      [0.025      0.975]\n",
      "--------------------------------------------------------------------------------------------\n",
      "ethnicity                    0.0145      0.016      0.890      0.373      -0.017       0.047\n",
      "icu_type                    -0.0515      0.016     -3.321      0.001      -0.082      -0.021\n",
      "pre_icu_los_days             0.0414      0.005      8.658      0.000       0.032       0.051\n",
      "temp_apache                 -0.0866      0.002    -45.015      0.000      -0.090      -0.083\n",
      "apache_4a_icu_death_prob     5.9747      0.090     66.390      0.000       5.798       6.151\n",
      "apache_3j_bodysystem         0.0405      0.004      9.262      0.000       0.032       0.049\n",
      "bmi_cat                      0.0421      0.013      3.190      0.001       0.016       0.068\n",
      "gcs_cat                     -0.1107      0.017     -6.499      0.000      -0.144      -0.077\n",
      "age_cat                      0.0788      0.028      2.770      0.006       0.023       0.135\n",
      "h1_pluse_P                   0.0214      0.018      1.170      0.242      -0.014       0.057\n",
      "heart_rate_cat              -0.1789      0.021     -8.601      0.000      -0.220      -0.138\n",
      "map_cat                      0.0090      0.023      0.400      0.689      -0.035       0.053\n",
      "============================================================================================\n"
     ]
    }
   ],
   "source": [
    "# statmodles\n",
    "import statsmodels.api as sm\n",
    "logit_model=sm.Logit(y,X)\n",
    "result=logit_model.fit()\n",
    "print(result.summary())"
   ]
  },
  {
   "cell_type": "code",
   "execution_count": 86,
   "id": "95939d79",
   "metadata": {},
   "outputs": [],
   "source": [
    "X= X.drop(columns=['h1_pluse_P','gender','map_cat','icu_type','icu_admit_source','ethnicity'])"
   ]
  },
  {
   "cell_type": "code",
   "execution_count": 21,
   "id": "a37f4c17",
   "metadata": {},
   "outputs": [],
   "source": [
    "fs=X.columns"
   ]
  },
  {
   "cell_type": "code",
   "execution_count": 22,
   "id": "e83bd661",
   "metadata": {},
   "outputs": [
    {
     "ename": "NameError",
     "evalue": "name 'XGBClassifier' is not defined",
     "output_type": "error",
     "traceback": [
      "\u001b[0;31m---------------------------------------------------------------------------\u001b[0m",
      "\u001b[0;31mNameError\u001b[0m                                 Traceback (most recent call last)",
      "\u001b[0;32m/tmp/ipykernel_2248/2673075289.py\u001b[0m in \u001b[0;36m<module>\u001b[0;34m\u001b[0m\n\u001b[1;32m      1\u001b[0m \u001b[0;32mfrom\u001b[0m \u001b[0msklearn\u001b[0m\u001b[0;34m.\u001b[0m\u001b[0mensemble\u001b[0m \u001b[0;32mimport\u001b[0m \u001b[0mGradientBoostingClassifier\u001b[0m\u001b[0;34m\u001b[0m\u001b[0;34m\u001b[0m\u001b[0m\n\u001b[0;32m----> 2\u001b[0;31m \u001b[0mxgb_model\u001b[0m \u001b[0;34m=\u001b[0m \u001b[0mXGBClassifier\u001b[0m\u001b[0;34m(\u001b[0m\u001b[0mverbosity\u001b[0m \u001b[0;34m=\u001b[0m \u001b[0;36m0\u001b[0m\u001b[0;34m)\u001b[0m\u001b[0;34m\u001b[0m\u001b[0;34m\u001b[0m\u001b[0m\n\u001b[0m\u001b[1;32m      3\u001b[0m \u001b[0mgd\u001b[0m \u001b[0;34m=\u001b[0m \u001b[0mGradientBoostingClassifier\u001b[0m\u001b[0;34m(\u001b[0m\u001b[0;34m)\u001b[0m\u001b[0;34m\u001b[0m\u001b[0;34m\u001b[0m\u001b[0m\n",
      "\u001b[0;31mNameError\u001b[0m: name 'XGBClassifier' is not defined"
     ]
    }
   ],
   "source": [
    "from sklearn.ensemble import GradientBoostingClassifier\n",
    "xgb_model = XGBClassifier(verbosity = 0)\n",
    "gd = GradientBoostingClassifier()"
   ]
  },
  {
   "cell_type": "code",
   "execution_count": 23,
   "id": "fb6182cd",
   "metadata": {},
   "outputs": [],
   "source": [
    "import lightgbm as Lgb\n",
    "lgb = Lgb.LGBMClassifier(silent=True, random_state = 303, metric='auc', learning_rate=0.01,max_depth= 5,num_iterations= 500, num_leaves=9,)"
   ]
  },
  {
   "cell_type": "code",
   "execution_count": 24,
   "id": "4adfcf8e",
   "metadata": {},
   "outputs": [],
   "source": [
    "from mlxtend.feature_selection import SequentialFeatureSelector as Sfs"
   ]
  },
  {
   "cell_type": "code",
   "execution_count": 25,
   "id": "d6519c6c",
   "metadata": {},
   "outputs": [
    {
     "name": "stderr",
     "output_type": "stream",
     "text": [
      "[Parallel(n_jobs=1)]: Using backend SequentialBackend with 1 concurrent workers.\n",
      "[Parallel(n_jobs=1)]: Done   1 out of   1 | elapsed:    0.5s remaining:    0.0s\n",
      "[Parallel(n_jobs=1)]: Done  23 out of  23 | elapsed:    3.4s finished\n",
      "\n",
      "[2022-06-22 19:05:08] Features: 1/23 -- score: 0.8438079249529318[Parallel(n_jobs=1)]: Using backend SequentialBackend with 1 concurrent workers.\n",
      "[Parallel(n_jobs=1)]: Done   1 out of   1 | elapsed:    0.2s remaining:    0.0s\n",
      "[Parallel(n_jobs=1)]: Done  22 out of  22 | elapsed:    3.3s finished\n",
      "\n",
      "[2022-06-22 19:05:11] Features: 2/23 -- score: 0.8443232958497469[Parallel(n_jobs=1)]: Using backend SequentialBackend with 1 concurrent workers.\n",
      "[Parallel(n_jobs=1)]: Done   1 out of   1 | elapsed:    0.2s remaining:    0.0s\n",
      "[Parallel(n_jobs=1)]: Done  21 out of  21 | elapsed:    3.8s finished\n",
      "\n",
      "[2022-06-22 19:05:15] Features: 3/23 -- score: 0.8446557716303092[Parallel(n_jobs=1)]: Using backend SequentialBackend with 1 concurrent workers.\n",
      "[Parallel(n_jobs=1)]: Done   1 out of   1 | elapsed:    0.1s remaining:    0.0s\n",
      "[Parallel(n_jobs=1)]: Done  20 out of  20 | elapsed:    3.0s finished\n",
      "\n",
      "[2022-06-22 19:05:18] Features: 4/23 -- score: 0.8447060892647216[Parallel(n_jobs=1)]: Using backend SequentialBackend with 1 concurrent workers.\n",
      "[Parallel(n_jobs=1)]: Done   1 out of   1 | elapsed:    0.2s remaining:    0.0s\n",
      "[Parallel(n_jobs=1)]: Done  19 out of  19 | elapsed:    4.3s finished\n",
      "\n",
      "[2022-06-22 19:05:22] Features: 5/23 -- score: 0.8447195236328015[Parallel(n_jobs=1)]: Using backend SequentialBackend with 1 concurrent workers.\n",
      "[Parallel(n_jobs=1)]: Done   1 out of   1 | elapsed:    0.3s remaining:    0.0s\n",
      "[Parallel(n_jobs=1)]: Done  18 out of  18 | elapsed:    5.9s finished\n",
      "\n",
      "[2022-06-22 19:05:28] Features: 6/23 -- score: 0.8447041889869301[Parallel(n_jobs=1)]: Using backend SequentialBackend with 1 concurrent workers.\n",
      "[Parallel(n_jobs=1)]: Done   1 out of   1 | elapsed:    0.4s remaining:    0.0s\n",
      "[Parallel(n_jobs=1)]: Done  17 out of  17 | elapsed:    6.3s finished\n",
      "\n",
      "[2022-06-22 19:05:34] Features: 7/23 -- score: 0.8444224943231684[Parallel(n_jobs=1)]: Using backend SequentialBackend with 1 concurrent workers.\n",
      "[Parallel(n_jobs=1)]: Done   1 out of   1 | elapsed:    0.6s remaining:    0.0s\n",
      "[Parallel(n_jobs=1)]: Done  16 out of  16 | elapsed:    8.1s finished\n",
      "\n",
      "[2022-06-22 19:05:43] Features: 8/23 -- score: 0.8441427661489679[Parallel(n_jobs=1)]: Using backend SequentialBackend with 1 concurrent workers.\n",
      "[Parallel(n_jobs=1)]: Done   1 out of   1 | elapsed:    0.6s remaining:    0.0s\n",
      "[Parallel(n_jobs=1)]: Done  15 out of  15 | elapsed:    9.2s finished\n",
      "\n",
      "[2022-06-22 19:05:52] Features: 9/23 -- score: 0.843862946933584[Parallel(n_jobs=1)]: Using backend SequentialBackend with 1 concurrent workers.\n",
      "[Parallel(n_jobs=1)]: Done   1 out of   1 | elapsed:    0.6s remaining:    0.0s\n",
      "[Parallel(n_jobs=1)]: Done  14 out of  14 | elapsed:    9.4s finished\n",
      "\n",
      "[2022-06-22 19:06:01] Features: 10/23 -- score: 0.8435062856488307[Parallel(n_jobs=1)]: Using backend SequentialBackend with 1 concurrent workers.\n",
      "[Parallel(n_jobs=1)]: Done   1 out of   1 | elapsed:    0.8s remaining:    0.0s\n",
      "[Parallel(n_jobs=1)]: Done  13 out of  13 | elapsed:    9.3s finished\n",
      "\n",
      "[2022-06-22 19:06:11] Features: 11/23 -- score: 0.8430744607630707[Parallel(n_jobs=1)]: Using backend SequentialBackend with 1 concurrent workers.\n",
      "[Parallel(n_jobs=1)]: Done   1 out of   1 | elapsed:    0.9s remaining:    0.0s\n",
      "[Parallel(n_jobs=1)]: Done  12 out of  12 | elapsed:    9.8s finished\n",
      "\n",
      "[2022-06-22 19:06:20] Features: 12/23 -- score: 0.8423971640174786[Parallel(n_jobs=1)]: Using backend SequentialBackend with 1 concurrent workers.\n",
      "[Parallel(n_jobs=1)]: Done   1 out of   1 | elapsed:    0.9s remaining:    0.0s\n",
      "[Parallel(n_jobs=1)]: Done  11 out of  11 | elapsed:    9.1s finished\n",
      "\n",
      "[2022-06-22 19:06:29] Features: 13/23 -- score: 0.8415015935517681[Parallel(n_jobs=1)]: Using backend SequentialBackend with 1 concurrent workers.\n",
      "[Parallel(n_jobs=1)]: Done   1 out of   1 | elapsed:    0.9s remaining:    0.0s\n",
      "[Parallel(n_jobs=1)]: Done  10 out of  10 | elapsed:    9.1s finished\n",
      "\n",
      "[2022-06-22 19:06:39] Features: 14/23 -- score: 0.8411465412130195[Parallel(n_jobs=1)]: Using backend SequentialBackend with 1 concurrent workers.\n",
      "[Parallel(n_jobs=1)]: Done   1 out of   1 | elapsed:    0.9s remaining:    0.0s\n",
      "[Parallel(n_jobs=1)]: Done   9 out of   9 | elapsed:    8.2s finished\n",
      "\n",
      "[2022-06-22 19:06:47] Features: 15/23 -- score: 0.8404596983855254[Parallel(n_jobs=1)]: Using backend SequentialBackend with 1 concurrent workers.\n",
      "[Parallel(n_jobs=1)]: Done   1 out of   1 | elapsed:    1.1s remaining:    0.0s\n",
      "[Parallel(n_jobs=1)]: Done   8 out of   8 | elapsed:    7.4s finished\n",
      "\n",
      "[2022-06-22 19:06:54] Features: 16/23 -- score: 0.8384865264014465[Parallel(n_jobs=1)]: Using backend SequentialBackend with 1 concurrent workers.\n",
      "[Parallel(n_jobs=1)]: Done   1 out of   1 | elapsed:    1.0s remaining:    0.0s\n",
      "[Parallel(n_jobs=1)]: Done   7 out of   7 | elapsed:    6.9s finished\n",
      "\n",
      "[2022-06-22 19:07:01] Features: 17/23 -- score: 0.8366008284416628[Parallel(n_jobs=1)]: Using backend SequentialBackend with 1 concurrent workers.\n",
      "[Parallel(n_jobs=1)]: Done   1 out of   1 | elapsed:    1.0s remaining:    0.0s\n",
      "[Parallel(n_jobs=1)]: Done   6 out of   6 | elapsed:    6.1s finished\n",
      "\n",
      "[2022-06-22 19:07:07] Features: 18/23 -- score: 0.8351362389927072[Parallel(n_jobs=1)]: Using backend SequentialBackend with 1 concurrent workers.\n",
      "[Parallel(n_jobs=1)]: Done   1 out of   1 | elapsed:    0.9s remaining:    0.0s\n",
      "[Parallel(n_jobs=1)]: Done   5 out of   5 | elapsed:    4.2s finished\n",
      "\n",
      "[2022-06-22 19:07:11] Features: 19/23 -- score: 0.8343596212819194[Parallel(n_jobs=1)]: Using backend SequentialBackend with 1 concurrent workers.\n",
      "[Parallel(n_jobs=1)]: Done   1 out of   1 | elapsed:    0.9s remaining:    0.0s\n",
      "[Parallel(n_jobs=1)]: Done   4 out of   4 | elapsed:    3.5s finished\n",
      "\n",
      "[2022-06-22 19:07:15] Features: 20/23 -- score: 0.8333627401873329[Parallel(n_jobs=1)]: Using backend SequentialBackend with 1 concurrent workers.\n",
      "[Parallel(n_jobs=1)]: Done   1 out of   1 | elapsed:    0.8s remaining:    0.0s\n",
      "[Parallel(n_jobs=1)]: Done   3 out of   3 | elapsed:    2.6s finished\n",
      "\n",
      "[2022-06-22 19:07:17] Features: 21/23 -- score: 0.8297860830143304[Parallel(n_jobs=1)]: Using backend SequentialBackend with 1 concurrent workers.\n",
      "[Parallel(n_jobs=1)]: Done   1 out of   1 | elapsed:    1.0s remaining:    0.0s\n",
      "[Parallel(n_jobs=1)]: Done   2 out of   2 | elapsed:    2.0s finished\n",
      "\n",
      "[2022-06-22 19:07:19] Features: 22/23 -- score: 0.8289278692291063[Parallel(n_jobs=1)]: Using backend SequentialBackend with 1 concurrent workers.\n",
      "[Parallel(n_jobs=1)]: Done   1 out of   1 | elapsed:    1.2s remaining:    0.0s\n",
      "[Parallel(n_jobs=1)]: Done   1 out of   1 | elapsed:    1.2s finished\n",
      "\n",
      "[2022-06-22 19:07:21] Features: 23/23 -- score: 0.8219465796820578"
     ]
    }
   ],
   "source": [
    "sfs = Sfs(lr,\n",
    "    k_features='best',\n",
    "    forward=True,\n",
    "    floating=False,\n",
    "    verbose=2,\n",
    "    scoring='roc_auc',\n",
    "    cv=0)\n",
    "\n",
    "\n",
    "sfs=sfs.fit(X,y,custom_feature_names=fs)"
   ]
  },
  {
   "cell_type": "code",
   "execution_count": 26,
   "id": "1fc0c020",
   "metadata": {},
   "outputs": [],
   "source": [
    "#sfs.subsets_"
   ]
  },
  {
   "cell_type": "code",
   "execution_count": 27,
   "id": "28ddac87",
   "metadata": {},
   "outputs": [],
   "source": [
    "#sfs.get_metric_dict()"
   ]
  },
  {
   "cell_type": "code",
   "execution_count": 28,
   "id": "5b74cec0",
   "metadata": {
    "scrolled": true
   },
   "outputs": [
    {
     "data": {
      "text/plain": [
       "<Figure size 1080x504 with 0 Axes>"
      ]
     },
     "metadata": {},
     "output_type": "display_data"
    },
    {
     "data": {
      "image/png": "[encoded data removed]",
      "text/plain": [
       "<Figure size 432x288 with 1 Axes>"
      ]
     },
     "metadata": {
      "needs_background": "light"
     },
     "output_type": "display_data"
    }
   ],
   "source": [
    "from mlxtend.plotting import plot_sequential_feature_selection as plot_sfs\n",
    "fig=plt.figure(figsize=(15,7))\n",
    "fig=plot_sfs(sfs.get_metric_dict(), kind='std_err')\n",
    "plt.title('Sequential Foward Selection')\n",
    "plt.grid()\n",
    "plt.show()"
   ]
  },
  {
   "cell_type": "code",
   "execution_count": 29,
   "id": "94ab4622",
   "metadata": {
    "scrolled": true
   },
   "outputs": [
    {
     "data": {
      "text/plain": [
       "(('icu_type',\n",
       "  'pre_icu_los_days',\n",
       "  'apache_4a_icu_death_prob',\n",
       "  'aids',\n",
       "  'map_cat'),\n",
       " (3, 4, 8, 9, 22))"
      ]
     },
     "execution_count": 29,
     "metadata": {},
     "output_type": "execute_result"
    }
   ],
   "source": [
    "sfs.k_feature_names_, sfs.k_feature_idx_"
   ]
  },
  {
   "cell_type": "code",
   "execution_count": 30,
   "id": "67e2e560",
   "metadata": {},
   "outputs": [
    {
     "data": {
      "text/html": [
       "<div>\n",
       "<style scoped>\n",
       "    .dataframe tbody tr th:only-of-type {\n",
       "        vertical-align: middle;\n",
       "    }\n",
       "\n",
       "    .dataframe tbody tr th {\n",
       "        vertical-align: top;\n",
       "    }\n",
       "\n",
       "    .dataframe thead th {\n",
       "        text-align: right;\n",
       "    }\n",
       "</style>\n",
       "<table border=\"1\" class=\"dataframe\">\n",
       "  <thead>\n",
       "    <tr style=\"text-align: right;\">\n",
       "      <th></th>\n",
       "      <th>icu_type</th>\n",
       "      <th>pre_icu_los_days</th>\n",
       "      <th>apache_4a_icu_death_prob</th>\n",
       "      <th>aids</th>\n",
       "      <th>map_cat</th>\n",
       "    </tr>\n",
       "  </thead>\n",
       "  <tbody>\n",
       "    <tr>\n",
       "      <th>0</th>\n",
       "      <td>0</td>\n",
       "      <td>0.541667</td>\n",
       "      <td>0.05</td>\n",
       "      <td>0.0</td>\n",
       "      <td>1</td>\n",
       "    </tr>\n",
       "    <tr>\n",
       "      <th>1</th>\n",
       "      <td>2</td>\n",
       "      <td>0.927778</td>\n",
       "      <td>0.29</td>\n",
       "      <td>0.0</td>\n",
       "      <td>1</td>\n",
       "    </tr>\n",
       "    <tr>\n",
       "      <th>2</th>\n",
       "      <td>2</td>\n",
       "      <td>0.000694</td>\n",
       "      <td>0.02</td>\n",
       "      <td>0.0</td>\n",
       "      <td>0</td>\n",
       "    </tr>\n",
       "    <tr>\n",
       "      <th>3</th>\n",
       "      <td>2</td>\n",
       "      <td>0.002083</td>\n",
       "      <td>0.06</td>\n",
       "      <td>0.0</td>\n",
       "      <td>2</td>\n",
       "    </tr>\n",
       "    <tr>\n",
       "      <th>4</th>\n",
       "      <td>2</td>\n",
       "      <td>0.004861</td>\n",
       "      <td>0.00</td>\n",
       "      <td>0.0</td>\n",
       "      <td>2</td>\n",
       "    </tr>\n",
       "    <tr>\n",
       "      <th>...</th>\n",
       "      <td>...</td>\n",
       "      <td>...</td>\n",
       "      <td>...</td>\n",
       "      <td>...</td>\n",
       "      <td>...</td>\n",
       "    </tr>\n",
       "    <tr>\n",
       "      <th>61118</th>\n",
       "      <td>2</td>\n",
       "      <td>0.033333</td>\n",
       "      <td>0.00</td>\n",
       "      <td>0.0</td>\n",
       "      <td>2</td>\n",
       "    </tr>\n",
       "    <tr>\n",
       "      <th>61119</th>\n",
       "      <td>2</td>\n",
       "      <td>0.025694</td>\n",
       "      <td>0.00</td>\n",
       "      <td>0.0</td>\n",
       "      <td>2</td>\n",
       "    </tr>\n",
       "    <tr>\n",
       "      <th>61120</th>\n",
       "      <td>0</td>\n",
       "      <td>0.298611</td>\n",
       "      <td>0.05</td>\n",
       "      <td>0.0</td>\n",
       "      <td>1</td>\n",
       "    </tr>\n",
       "    <tr>\n",
       "      <th>61121</th>\n",
       "      <td>2</td>\n",
       "      <td>0.120139</td>\n",
       "      <td>0.02</td>\n",
       "      <td>0.0</td>\n",
       "      <td>2</td>\n",
       "    </tr>\n",
       "    <tr>\n",
       "      <th>61122</th>\n",
       "      <td>2</td>\n",
       "      <td>0.018056</td>\n",
       "      <td>0.08</td>\n",
       "      <td>0.0</td>\n",
       "      <td>1</td>\n",
       "    </tr>\n",
       "  </tbody>\n",
       "</table>\n",
       "<p>61123 rows × 5 columns</p>\n",
       "</div>"
      ],
      "text/plain": [
       "       icu_type  pre_icu_los_days  apache_4a_icu_death_prob  aids  map_cat\n",
       "0             0          0.541667                      0.05   0.0        1\n",
       "1             2          0.927778                      0.29   0.0        1\n",
       "2             2          0.000694                      0.02   0.0        0\n",
       "3             2          0.002083                      0.06   0.0        2\n",
       "4             2          0.004861                      0.00   0.0        2\n",
       "...         ...               ...                       ...   ...      ...\n",
       "61118         2          0.033333                      0.00   0.0        2\n",
       "61119         2          0.025694                      0.00   0.0        2\n",
       "61120         0          0.298611                      0.05   0.0        1\n",
       "61121         2          0.120139                      0.02   0.0        2\n",
       "61122         2          0.018056                      0.08   0.0        1\n",
       "\n",
       "[61123 rows x 5 columns]"
      ]
     },
     "execution_count": 30,
     "metadata": {},
     "output_type": "execute_result"
    }
   ],
   "source": [
    "X=X[list(sfs.k_feature_names_)]\n",
    "X"
   ]
  },
  {
   "cell_type": "code",
   "execution_count": 31,
   "id": "1e3cc84f",
   "metadata": {},
   "outputs": [],
   "source": [
    "df1=pd.DataFrame.from_dict(sfs.get_metric_dict()).T"
   ]
  },
  {
   "cell_type": "code",
   "execution_count": 32,
   "id": "fae430e7",
   "metadata": {},
   "outputs": [
    {
     "data": {
      "text/html": [
       "<div>\n",
       "<style scoped>\n",
       "    .dataframe tbody tr th:only-of-type {\n",
       "        vertical-align: middle;\n",
       "    }\n",
       "\n",
       "    .dataframe tbody tr th {\n",
       "        vertical-align: top;\n",
       "    }\n",
       "\n",
       "    .dataframe thead th {\n",
       "        text-align: right;\n",
       "    }\n",
       "</style>\n",
       "<table border=\"1\" class=\"dataframe\">\n",
       "  <thead>\n",
       "    <tr style=\"text-align: right;\">\n",
       "      <th></th>\n",
       "      <th>feature_idx</th>\n",
       "      <th>avg_score</th>\n",
       "    </tr>\n",
       "  </thead>\n",
       "  <tbody>\n",
       "    <tr>\n",
       "      <th>1</th>\n",
       "      <td>(8,)</td>\n",
       "      <td>0.843808</td>\n",
       "    </tr>\n",
       "    <tr>\n",
       "      <th>2</th>\n",
       "      <td>(4, 8)</td>\n",
       "      <td>0.844323</td>\n",
       "    </tr>\n",
       "    <tr>\n",
       "      <th>3</th>\n",
       "      <td>(3, 4, 8)</td>\n",
       "      <td>0.844656</td>\n",
       "    </tr>\n",
       "    <tr>\n",
       "      <th>4</th>\n",
       "      <td>(3, 4, 8, 22)</td>\n",
       "      <td>0.844706</td>\n",
       "    </tr>\n",
       "    <tr>\n",
       "      <th>5</th>\n",
       "      <td>(3, 4, 8, 9, 22)</td>\n",
       "      <td>0.84472</td>\n",
       "    </tr>\n",
       "    <tr>\n",
       "      <th>6</th>\n",
       "      <td>(1, 3, 4, 8, 9, 22)</td>\n",
       "      <td>0.844704</td>\n",
       "    </tr>\n",
       "    <tr>\n",
       "      <th>7</th>\n",
       "      <td>(1, 3, 4, 8, 9, 13, 22)</td>\n",
       "      <td>0.844422</td>\n",
       "    </tr>\n",
       "    <tr>\n",
       "      <th>8</th>\n",
       "      <td>(0, 1, 3, 4, 8, 9, 13, 22)</td>\n",
       "      <td>0.844143</td>\n",
       "    </tr>\n",
       "    <tr>\n",
       "      <th>9</th>\n",
       "      <td>(0, 1, 2, 3, 4, 8, 9, 13, 22)</td>\n",
       "      <td>0.843863</td>\n",
       "    </tr>\n",
       "    <tr>\n",
       "      <th>10</th>\n",
       "      <td>(0, 1, 2, 3, 4, 8, 9, 13, 14, 22)</td>\n",
       "      <td>0.843506</td>\n",
       "    </tr>\n",
       "    <tr>\n",
       "      <th>11</th>\n",
       "      <td>(0, 1, 2, 3, 4, 5, 8, 9, 13, 14, 22)</td>\n",
       "      <td>0.843074</td>\n",
       "    </tr>\n",
       "    <tr>\n",
       "      <th>12</th>\n",
       "      <td>(0, 1, 2, 3, 4, 5, 8, 9, 11, 13, 14, 22)</td>\n",
       "      <td>0.842397</td>\n",
       "    </tr>\n",
       "    <tr>\n",
       "      <th>13</th>\n",
       "      <td>(0, 1, 2, 3, 4, 5, 8, 9, 11, 13, 14, 15, 22)</td>\n",
       "      <td>0.841502</td>\n",
       "    </tr>\n",
       "    <tr>\n",
       "      <th>14</th>\n",
       "      <td>(0, 1, 2, 3, 4, 5, 8, 9, 11, 12, 13, 14, 15, 22)</td>\n",
       "      <td>0.841147</td>\n",
       "    </tr>\n",
       "    <tr>\n",
       "      <th>15</th>\n",
       "      <td>(0, 1, 2, 3, 4, 5, 8, 9, 11, 12, 13, 14, 15, 2...</td>\n",
       "      <td>0.84046</td>\n",
       "    </tr>\n",
       "    <tr>\n",
       "      <th>16</th>\n",
       "      <td>(0, 1, 2, 3, 4, 5, 6, 8, 9, 11, 12, 13, 14, 15...</td>\n",
       "      <td>0.838487</td>\n",
       "    </tr>\n",
       "    <tr>\n",
       "      <th>17</th>\n",
       "      <td>(0, 1, 2, 3, 4, 5, 6, 8, 9, 11, 12, 13, 14, 15...</td>\n",
       "      <td>0.836601</td>\n",
       "    </tr>\n",
       "    <tr>\n",
       "      <th>18</th>\n",
       "      <td>(0, 1, 2, 3, 4, 5, 6, 8, 9, 11, 12, 13, 14, 15...</td>\n",
       "      <td>0.835136</td>\n",
       "    </tr>\n",
       "    <tr>\n",
       "      <th>19</th>\n",
       "      <td>(0, 1, 2, 3, 4, 5, 6, 8, 9, 11, 12, 13, 14, 15...</td>\n",
       "      <td>0.83436</td>\n",
       "    </tr>\n",
       "    <tr>\n",
       "      <th>20</th>\n",
       "      <td>(0, 1, 2, 3, 4, 5, 6, 8, 9, 10, 11, 12, 13, 14...</td>\n",
       "      <td>0.833363</td>\n",
       "    </tr>\n",
       "    <tr>\n",
       "      <th>21</th>\n",
       "      <td>(0, 1, 2, 3, 4, 5, 6, 8, 9, 10, 11, 12, 13, 14...</td>\n",
       "      <td>0.829786</td>\n",
       "    </tr>\n",
       "    <tr>\n",
       "      <th>22</th>\n",
       "      <td>(0, 1, 2, 3, 4, 5, 6, 8, 9, 10, 11, 12, 13, 14...</td>\n",
       "      <td>0.828928</td>\n",
       "    </tr>\n",
       "    <tr>\n",
       "      <th>23</th>\n",
       "      <td>(0, 1, 2, 3, 4, 5, 6, 7, 8, 9, 10, 11, 12, 13,...</td>\n",
       "      <td>0.821947</td>\n",
       "    </tr>\n",
       "  </tbody>\n",
       "</table>\n",
       "</div>"
      ],
      "text/plain": [
       "                                          feature_idx avg_score\n",
       "1                                                (8,)  0.843808\n",
       "2                                              (4, 8)  0.844323\n",
       "3                                           (3, 4, 8)  0.844656\n",
       "4                                       (3, 4, 8, 22)  0.844706\n",
       "5                                    (3, 4, 8, 9, 22)   0.84472\n",
       "6                                 (1, 3, 4, 8, 9, 22)  0.844704\n",
       "7                             (1, 3, 4, 8, 9, 13, 22)  0.844422\n",
       "8                          (0, 1, 3, 4, 8, 9, 13, 22)  0.844143\n",
       "9                       (0, 1, 2, 3, 4, 8, 9, 13, 22)  0.843863\n",
       "10                  (0, 1, 2, 3, 4, 8, 9, 13, 14, 22)  0.843506\n",
       "11               (0, 1, 2, 3, 4, 5, 8, 9, 13, 14, 22)  0.843074\n",
       "12           (0, 1, 2, 3, 4, 5, 8, 9, 11, 13, 14, 22)  0.842397\n",
       "13       (0, 1, 2, 3, 4, 5, 8, 9, 11, 13, 14, 15, 22)  0.841502\n",
       "14   (0, 1, 2, 3, 4, 5, 8, 9, 11, 12, 13, 14, 15, 22)  0.841147\n",
       "15  (0, 1, 2, 3, 4, 5, 8, 9, 11, 12, 13, 14, 15, 2...   0.84046\n",
       "16  (0, 1, 2, 3, 4, 5, 6, 8, 9, 11, 12, 13, 14, 15...  0.838487\n",
       "17  (0, 1, 2, 3, 4, 5, 6, 8, 9, 11, 12, 13, 14, 15...  0.836601\n",
       "18  (0, 1, 2, 3, 4, 5, 6, 8, 9, 11, 12, 13, 14, 15...  0.835136\n",
       "19  (0, 1, 2, 3, 4, 5, 6, 8, 9, 11, 12, 13, 14, 15...   0.83436\n",
       "20  (0, 1, 2, 3, 4, 5, 6, 8, 9, 10, 11, 12, 13, 14...  0.833363\n",
       "21  (0, 1, 2, 3, 4, 5, 6, 8, 9, 10, 11, 12, 13, 14...  0.829786\n",
       "22  (0, 1, 2, 3, 4, 5, 6, 8, 9, 10, 11, 12, 13, 14...  0.828928\n",
       "23  (0, 1, 2, 3, 4, 5, 6, 7, 8, 9, 10, 11, 12, 13,...  0.821947"
      ]
     },
     "execution_count": 32,
     "metadata": {},
     "output_type": "execute_result"
    }
   ],
   "source": [
    "df1[['feature_idx','avg_score']]"
   ]
  },
  {
   "cell_type": "code",
   "execution_count": 33,
   "id": "500f2dfa",
   "metadata": {},
   "outputs": [
    {
     "data": {
      "text/plain": [
       "Index(['ethnicity', 'gender', 'icu_stay_type', 'icu_type', 'pre_icu_los_days',\n",
       "       'arf_apache', 'temp_apache', 'ventilated_apache',\n",
       "       'apache_4a_icu_death_prob', 'aids', 'diabetes_mellitus',\n",
       "       'hepatic_failure', 'immunosuppression', 'leukemia', 'lymphoma',\n",
       "       'solid_tumor_with_metastasis', 'apache_3j_bodysystem', 'bmi_cat',\n",
       "       'gcs_cat', 'age_cat', 'h1_pluse_P', 'heart_rate_cat', 'map_cat'],\n",
       "      dtype='object')"
      ]
     },
     "execution_count": 33,
     "metadata": {},
     "output_type": "execute_result"
    }
   ],
   "source": [
    "fs"
   ]
  },
  {
   "cell_type": "markdown",
   "id": "6feeca89",
   "metadata": {},
   "source": [
    "The p-values for most of the variables are very small, therefore, most of them are significant to the model."
   ]
  },
  {
   "cell_type": "markdown",
   "id": "7a525682",
   "metadata": {},
   "source": [
    "<a home=\"dos\"></a>\n",
    "## Data Oversampling"
   ]
  },
  {
   "cell_type": "code",
   "execution_count": 83,
   "id": "8e13921e",
   "metadata": {},
   "outputs": [],
   "source": [
    "# Split data into train and test dataset\n",
    "from sklearn.model_selection import train_test_split\n",
    "X_train, X_test, y_train, y_test = train_test_split(X, y, test_size=0.2, random_state=42)"
   ]
  },
  {
   "cell_type": "code",
   "execution_count": 84,
   "id": "4bebc9f7",
   "metadata": {},
   "outputs": [
    {
     "data": {
      "text/plain": [
       "(48898, 31)"
      ]
     },
     "execution_count": 84,
     "metadata": {},
     "output_type": "execute_result"
    }
   ],
   "source": [
    "X_train.shape"
   ]
  },
  {
   "cell_type": "code",
   "execution_count": 85,
   "id": "bbe6733e",
   "metadata": {},
   "outputs": [],
   "source": [
    "X_train['hospital_death']=y_train # combine y_train back to oversample imbalance in dataset\n",
    "from sklearn.utils import resample\n",
    "# Separate majority and minority classes\n",
    "df_majority = X_train[X_train['hospital_death']==0]\n",
    "df_minority = X_train[X_train['hospital_death']==1]\n",
    "# Upsample minority class\n",
    "df_minority_upsampled = resample(df_minority, \n",
    "                                 replace=True,     # sample with replacement\n",
    "                                 n_samples=44611,    # to match majority class\n",
    "                                 random_state=123) # reproducible results\n",
    "X_train= pd.concat([df_majority, df_minority_upsampled])"
   ]
  },
  {
   "cell_type": "code",
   "execution_count": 86,
   "id": "4eb55063",
   "metadata": {},
   "outputs": [],
   "source": [
    "# seperataing back\n",
    "y_train=X_train['hospital_death']\n",
    "X_train=X_train.drop('hospital_death', axis=1)"
   ]
  },
  {
   "cell_type": "code",
   "execution_count": 87,
   "id": "045ca77d",
   "metadata": {},
   "outputs": [],
   "source": [
    "from sklearn.feature_selection import mutual_info_classif\n",
    "mutual_info = mutual_info_classif(X_train, y_train) #using mutual infomation gain"
   ]
  },
  {
   "cell_type": "code",
   "execution_count": 88,
   "id": "bf5cda83",
   "metadata": {},
   "outputs": [
    {
     "data": {
      "text/plain": [
       "apache_4a_icu_death_prob    0.215916\n",
       "pre_icu_los_days            0.133420\n",
       "gcs_cat                     0.080476\n",
       "ventilated_apache           0.076614\n",
       "temp_apache                 0.055741\n",
       "apache_3j_bodysystem        0.030007\n",
       "map_cat                     0.020471\n",
       "age_cat                     0.019751\n",
       "heart_rate_cat              0.013278\n",
       "icu_stay_type_admit         0.009796\n",
       "h1_pluse_P                  0.009224\n",
       "ethnicity_Caucasian         0.007956\n",
       "bmi_cat                     0.007784\n",
       "icu_type                    0.006911\n",
       "gender_F                    0.004081\n",
       "dtype: float64"
      ]
     },
     "execution_count": 88,
     "metadata": {},
     "output_type": "execute_result"
    }
   ],
   "source": [
    "mutual_info = pd.Series(mutual_info) #converts to pandas series\n",
    "mutual_info.index = X_train.columns #set index as column\n",
    "mutual_info.sort_values(ascending=False).head(15) #display top 5 in desc orde"
   ]
  },
  {
   "cell_type": "code",
   "execution_count": 89,
   "id": "5a2e6d2f",
   "metadata": {},
   "outputs": [
    {
     "data": {
      "text/plain": [
       "<AxesSubplot:>"
      ]
     },
     "execution_count": 89,
     "metadata": {},
     "output_type": "execute_result"
    },
    {
     "data": {
      "image/png": "[encoded data removed]",
      "text/plain": [
       "<Figure size 1440x576 with 1 Axes>"
      ]
     },
     "metadata": {
      "needs_background": "light"
     },
     "output_type": "display_data"
    }
   ],
   "source": [
    "# plot the ordered mutual_info values per feature\n",
    "mutual_info.sort_values(ascending=False).plot.bar(figsize=(20, 8))"
   ]
  },
  {
   "cell_type": "code",
   "execution_count": 195,
   "id": "804f3845",
   "metadata": {},
   "outputs": [],
   "source": [
    "from sklearn.feature_selection import SelectKBest\n",
    "#top 11 important features using k best\n",
    "sel_five_cols = SelectKBest(mutual_info_classif, k=12) #initalize\n",
    "sel_five_cols.fit(X_train, y_train) # fit \n",
    "x=X_train.columns[sel_five_cols.get_support()] #saves columns in x"
   ]
  },
  {
   "cell_type": "code",
   "execution_count": 196,
   "id": "ff3ab9cd",
   "metadata": {
    "scrolled": true
   },
   "outputs": [
    {
     "data": {
      "text/plain": [
       "Index(['pre_icu_los_days', 'temp_apache', 'ventilated_apache',\n",
       "       'apache_4a_icu_death_prob', 'apache_3j_bodysystem', 'bmi_cat',\n",
       "       'gcs_cat', 'age_cat', 'h1_pluse_P', 'heart_rate_cat', 'map_cat',\n",
       "       'icu_stay_type_admit'],\n",
       "      dtype='object')"
      ]
     },
     "execution_count": 196,
     "metadata": {},
     "output_type": "execute_result"
    }
   ],
   "source": [
    "x # top 11 columns"
   ]
  },
  {
   "cell_type": "code",
   "execution_count": 197,
   "id": "5255c06d",
   "metadata": {},
   "outputs": [
    {
     "ename": "SyntaxError",
     "evalue": "'(' was never closed (2060954450.py, line 1)",
     "output_type": "error",
     "traceback": [
      "\u001b[0;36m  File \u001b[0;32m\"/tmp/ipykernel_2248/2060954450.py\"\u001b[0;36m, line \u001b[0;32m1\u001b[0m\n\u001b[0;31m    Index(['pre_icu_los_days', 'temp_apache', 'ventilated_apache',\u001b[0m\n\u001b[0m         ^\u001b[0m\n\u001b[0;31mSyntaxError\u001b[0m\u001b[0;31m:\u001b[0m '(' was never closed\n"
     ]
    }
   ],
   "source": [
    "Index(['pre_icu_los_days', 'temp_apache', 'ventilated_apache',\n",
    "       'apache_4a_icu_death_prob', 'gcs_cat', 'age_cat', 'h1_pluse_P',\n",
    "       'heart_rate_cat', 'map_cat', 'icu_admit_source_Floor',\n",
    "       'icu_admit_source_Operating Room / Recovery']"
   ]
  },
  {
   "cell_type": "code",
   "execution_count": 198,
   "id": "82682c93",
   "metadata": {},
   "outputs": [],
   "source": [
    "# New train and test with 11 features\n",
    "X_train=X_train[x]\n",
    "X_test=X_test[x]"
   ]
  },
  {
   "cell_type": "markdown",
   "id": "c7ad553a",
   "metadata": {},
   "source": [
    "<a home=\"mml\"></a>\n",
    "# ML Models"
   ]
  },
  {
   "cell_type": "code",
   "execution_count": 199,
   "id": "83463d72",
   "metadata": {},
   "outputs": [],
   "source": [
    "# initalised empty list to append model metrics \n",
    "models = []\n",
    "roc_aucs = []\n",
    "recalls = []"
   ]
  },
  {
   "cell_type": "code",
   "execution_count": 200,
   "id": "ba0fc6b7",
   "metadata": {},
   "outputs": [],
   "source": [
    "from sklearn.metrics import classification_report\n",
    "from sklearn import metrics\n",
    "from sklearn.metrics import roc_auc_score\n",
    "from sklearn.metrics import roc_curve\n",
    "from sklearn.metrics import confusion_matrix"
   ]
  },
  {
   "cell_type": "markdown",
   "id": "dde20f17",
   "metadata": {},
   "source": [
    "<a name=\"lr\"></a>\n",
    "## Logistic Regression"
   ]
  },
  {
   "cell_type": "code",
   "execution_count": 201,
   "id": "4fc6ed05",
   "metadata": {},
   "outputs": [],
   "source": [
    "from sklearn.linear_model import LogisticRegression\n",
    "lr=LogisticRegression()\n",
    "#models.append('LogisticRegression')"
   ]
  },
  {
   "cell_type": "code",
   "execution_count": 202,
   "id": "a30bbb02",
   "metadata": {},
   "outputs": [],
   "source": [
    "lr_model = lr.fit(X_train, y_train)\n",
    "lr_pred = lr_model.predict(X_test)"
   ]
  },
  {
   "cell_type": "code",
   "execution_count": 203,
   "id": "190605a2",
   "metadata": {
    "scrolled": true
   },
   "outputs": [
    {
     "name": "stdout",
     "output_type": "stream",
     "text": [
      "0.7308825901572298\n",
      "0.6549295774647887\n",
      "0.792719836400818\n"
     ]
    }
   ],
   "source": [
    "print(roc_auc_score(y_test, lr_pred))\n",
    "print(metrics.recall_score(y_test,lr_pred))\n",
    "print(lr.score(X_test, y_test))"
   ]
  },
  {
   "cell_type": "code",
   "execution_count": 204,
   "id": "be478fa4",
   "metadata": {},
   "outputs": [
    {
     "name": "stdout",
     "output_type": "stream",
     "text": [
      "classification_report for Logistic Regression \n",
      "\n",
      "              precision    recall  f1-score   support\n",
      "\n",
      "           0       0.96      0.81      0.88     11089\n",
      "           1       0.26      0.65      0.37      1136\n",
      "\n",
      "    accuracy                           0.79     12225\n",
      "   macro avg       0.61      0.73      0.62     12225\n",
      "weighted avg       0.89      0.79      0.83     12225\n",
      "\n"
     ]
    }
   ],
   "source": [
    "print('classification_report for Logistic Regression', '\\n')\n",
    "print(classification_report(y_test, lr_pred))"
   ]
  },
  {
   "cell_type": "markdown",
   "id": "87f1123a",
   "metadata": {},
   "source": [
    "<a name=\"rfc\"></a>\n",
    "## Random Forest Classifier"
   ]
  },
  {
   "cell_type": "code",
   "execution_count": 196,
   "id": "dd00e6d9",
   "metadata": {},
   "outputs": [],
   "source": [
    "from sklearn.ensemble import RandomForestClassifier\n",
    "rf = RandomForestClassifier(n_estimators=42)\n",
    "models.append('RandomForest')"
   ]
  },
  {
   "cell_type": "code",
   "execution_count": 197,
   "id": "86f0344f",
   "metadata": {},
   "outputs": [],
   "source": [
    "rf_model = rf.fit(X_train, y_train)\n",
    "rf_pred = rf_model.predict(X_test)"
   ]
  },
  {
   "cell_type": "code",
   "execution_count": 198,
   "id": "388a43a5",
   "metadata": {},
   "outputs": [
    {
     "name": "stdout",
     "output_type": "stream",
     "text": [
      "0.6285033052041168\n",
      "0.28433098591549294\n",
      "0.9087116564417178\n"
     ]
    }
   ],
   "source": [
    "print(roc_auc_score(y_test, rf_pred))\n",
    "print(metrics.recall_score(y_test,rf_pred))\n",
    "print(rf.score(X_test, y_test))"
   ]
  },
  {
   "cell_type": "code",
   "execution_count": 199,
   "id": "d9498e72",
   "metadata": {},
   "outputs": [
    {
     "name": "stdout",
     "output_type": "stream",
     "text": [
      "classification_report for Random Forest \n",
      "\n",
      "              precision    recall  f1-score   support\n",
      "\n",
      "           0       0.93      0.97      0.95     11089\n",
      "           1       0.52      0.28      0.37      1136\n",
      "\n",
      "    accuracy                           0.91     12225\n",
      "   macro avg       0.72      0.63      0.66     12225\n",
      "weighted avg       0.89      0.91      0.90     12225\n",
      "\n"
     ]
    }
   ],
   "source": [
    "print('classification_report for Random Forest', '\\n')\n",
    "print(classification_report(y_test, rf_pred))"
   ]
  },
  {
   "cell_type": "markdown",
   "id": "bb071887",
   "metadata": {},
   "source": [
    "<a name=\"dtc\"></a>\n",
    "## Decision Tree Classifier"
   ]
  },
  {
   "cell_type": "code",
   "execution_count": 99,
   "id": "9ccf11ca",
   "metadata": {},
   "outputs": [],
   "source": [
    "from sklearn import tree\n",
    "dt = tree.DecisionTreeClassifier()\n",
    "models.append('DecisionTree')"
   ]
  },
  {
   "cell_type": "code",
   "execution_count": 100,
   "id": "a65bfbd7",
   "metadata": {},
   "outputs": [],
   "source": [
    "dt_model=dt.fit(X_train, y_train)\n",
    "dt_pred = dt_model.predict(X_test)"
   ]
  },
  {
   "cell_type": "code",
   "execution_count": 102,
   "id": "7208e163",
   "metadata": {},
   "outputs": [
    {
     "name": "stdout",
     "output_type": "stream",
     "text": [
      "0.598304380117843\n",
      "0.2649647887323944\n",
      "0.8696932515337423\n"
     ]
    }
   ],
   "source": [
    "print(roc_auc_score(y_test, dt_pred))\n",
    "print(metrics.recall_score(y_test, dt_pred))\n",
    "print(dt.score(X_test, y_test))"
   ]
  },
  {
   "cell_type": "code",
   "execution_count": 103,
   "id": "2fc48d68",
   "metadata": {},
   "outputs": [
    {
     "name": "stdout",
     "output_type": "stream",
     "text": [
      "classification_report for Decision Tree \n",
      "\n",
      "              precision    recall  f1-score   support\n",
      "\n",
      "           0       0.93      0.93      0.93     11089\n",
      "           1       0.28      0.26      0.27      1136\n",
      "\n",
      "    accuracy                           0.87     12225\n",
      "   macro avg       0.60      0.60      0.60     12225\n",
      "weighted avg       0.87      0.87      0.87     12225\n",
      "\n"
     ]
    }
   ],
   "source": [
    "print('classification_report for Decision Tree', '\\n')\n",
    "print(classification_report(y_test, dt_pred))"
   ]
  },
  {
   "cell_type": "markdown",
   "id": "b7d213c8",
   "metadata": {},
   "source": [
    "<a name=\"gb\"></a>\n",
    "## Gradient Booster"
   ]
  },
  {
   "cell_type": "code",
   "execution_count": 205,
   "id": "cdacbeeb",
   "metadata": {},
   "outputs": [],
   "source": [
    "from sklearn.ensemble import GradientBoostingClassifier\n",
    "xgb=GradientBoostingClassifier()\n",
    "models.append('GBClassifier')"
   ]
  },
  {
   "cell_type": "code",
   "execution_count": 206,
   "id": "f4eaf373",
   "metadata": {},
   "outputs": [],
   "source": [
    "xgb_model=xgb.fit(X_train, y_train)\n",
    "xgb_pred = xgb_model.predict(X_test)"
   ]
  },
  {
   "cell_type": "code",
   "execution_count": 207,
   "id": "4f6213f1",
   "metadata": {},
   "outputs": [
    {
     "name": "stdout",
     "output_type": "stream",
     "text": [
      "0.7805704787386054\n",
      "0.7878521126760564\n",
      "0.7746421267893661\n"
     ]
    }
   ],
   "source": [
    "print(roc_auc_score(y_test, xgb_pred))\n",
    "print(metrics.recall_score(y_test, xgb_pred))\n",
    "print(xgb.score(X_test, y_test))"
   ]
  },
  {
   "cell_type": "code",
   "execution_count": 208,
   "id": "3ff73c26",
   "metadata": {},
   "outputs": [
    {
     "name": "stdout",
     "output_type": "stream",
     "text": [
      "classification_report for Gradient Booster, \n",
      "\n",
      "              precision    recall  f1-score   support\n",
      "\n",
      "           0       0.97      0.77      0.86     11089\n",
      "           1       0.26      0.79      0.39      1136\n",
      "\n",
      "    accuracy                           0.77     12225\n",
      "   macro avg       0.62      0.78      0.63     12225\n",
      "weighted avg       0.91      0.77      0.82     12225\n",
      "\n"
     ]
    }
   ],
   "source": [
    "print('classification_report for Gradient Booster, \\n')\n",
    "print(classification_report(y_test, xgb_pred))"
   ]
  },
  {
   "cell_type": "code",
   "execution_count": 209,
   "id": "74074e64",
   "metadata": {},
   "outputs": [
    {
     "data": {
      "text/plain": [
       "array([[8575, 2514],\n",
       "       [ 241,  895]])"
      ]
     },
     "execution_count": 209,
     "metadata": {},
     "output_type": "execute_result"
    }
   ],
   "source": [
    "confusion_matrix(y_test, xgb_pred)"
   ]
  },
  {
   "cell_type": "markdown",
   "id": "61c3f7e3",
   "metadata": {},
   "source": [
    "<a name=\"knn\"></a>\n",
    "## KNeighbors Classifier"
   ]
  },
  {
   "cell_type": "code",
   "execution_count": 209,
   "id": "c72b5ecc",
   "metadata": {},
   "outputs": [],
   "source": [
    "from sklearn.neighbors import KNeighborsClassifier\n",
    "knn = KNeighborsClassifier()\n",
    "models.append('KNeighbors')"
   ]
  },
  {
   "cell_type": "code",
   "execution_count": 210,
   "id": "473dd649",
   "metadata": {},
   "outputs": [],
   "source": [
    "knn_model=knn.fit(X_train, y_train)\n",
    "knn_pred = knn_model.predict(X_test)"
   ]
  },
  {
   "cell_type": "code",
   "execution_count": 211,
   "id": "398b9548",
   "metadata": {},
   "outputs": [
    {
     "name": "stdout",
     "output_type": "stream",
     "text": [
      "0.641815730028108\n",
      "0.45686619718309857\n"
     ]
    }
   ],
   "source": [
    "print(roc_auc_score(y_test, knn_pred))\n",
    "print(metrics.recall_score(y_test, knn_pred))"
   ]
  },
  {
   "cell_type": "code",
   "execution_count": 212,
   "id": "e2283165",
   "metadata": {
    "scrolled": true
   },
   "outputs": [
    {
     "name": "stdout",
     "output_type": "stream",
     "text": [
      "classification_report for KNeighbors, \n",
      "\n",
      "              precision    recall  f1-score   support\n",
      "\n",
      "           0       0.94      0.83      0.88     11089\n",
      "           1       0.21      0.46      0.29      1136\n",
      "\n",
      "    accuracy                           0.79     12225\n",
      "   macro avg       0.57      0.64      0.58     12225\n",
      "weighted avg       0.87      0.79      0.82     12225\n",
      "\n"
     ]
    }
   ],
   "source": [
    "print('classification_report for KNeighbors, \\n')\n",
    "print(classification_report(y_test, knn_pred))"
   ]
  },
  {
   "cell_type": "markdown",
   "id": "5529f901",
   "metadata": {},
   "source": [
    "## light"
   ]
  },
  {
   "cell_type": "code",
   "execution_count": 210,
   "id": "622ba9f5",
   "metadata": {},
   "outputs": [],
   "source": [
    "#silent=True, random_state = 303, metric='auc', learning_rate=0.01,max_depth= 6,num_iterations= 500, num_leaves=10,\n",
    "import lightgbm as Lgb\n",
    "lgb = Lgb.LGBMClassifier(silent=True, random_state = 14, metric='roc_auc', learning_rate=0.01,max_depth= 6,\n",
    "                         num_iterations= 1000, num_leaves=10,)\n",
    "models.append('LGBClassifier')"
   ]
  },
  {
   "cell_type": "code",
   "execution_count": 211,
   "id": "314d5b25",
   "metadata": {},
   "outputs": [],
   "source": [
    "# lgb_model=lgb.fit(X_train, y_train, categorical_feature=['ethnicity', 'gender', 'icu_admit_source',\n",
    "#                                                         'icu_stay_type', 'icu_type',\n",
    "#        'bmi_cat', 'gcs_cat', 'age_cat', 'h1_pluse_P', 'heart_rate_cat',\n",
    "#        'map_cat'])\n",
    "lgb_model=lgb.fit(X_train,y_train)\n",
    "lgb_pred = lgb_model.predict(X_test)"
   ]
  },
  {
   "cell_type": "code",
   "execution_count": 212,
   "id": "f79cdc3e",
   "metadata": {
    "scrolled": false
   },
   "outputs": [
    {
     "name": "stdout",
     "output_type": "stream",
     "text": [
      "0.7826810035068378\n",
      "0.7922535211267606\n"
     ]
    }
   ],
   "source": [
    "print(roc_auc_score(y_test, lgb_pred))\n",
    "print(metrics.recall_score(y_test, lgb_pred))"
   ]
  },
  {
   "cell_type": "code",
   "execution_count": 213,
   "id": "0f3982bb",
   "metadata": {},
   "outputs": [
    {
     "data": {
      "text/plain": [
       "array([[8573, 2516],\n",
       "       [ 236,  900]])"
      ]
     },
     "execution_count": 213,
     "metadata": {},
     "output_type": "execute_result"
    }
   ],
   "source": [
    "confusion_matrix(y_test, lgb_pred)"
   ]
  },
  {
   "cell_type": "code",
   "execution_count": 194,
   "id": "be27b1ef",
   "metadata": {},
   "outputs": [
    {
     "data": {
      "text/plain": [
       "1136"
      ]
     },
     "execution_count": 194,
     "metadata": {},
     "output_type": "execute_result"
    }
   ],
   "source": [
    "y_test.sum()"
   ]
  },
  {
   "cell_type": "code",
   "execution_count": 218,
   "id": "972cb1a6",
   "metadata": {},
   "outputs": [
    {
     "data": {
      "text/html": [
       "<div>\n",
       "<style scoped>\n",
       "    .dataframe tbody tr th:only-of-type {\n",
       "        vertical-align: middle;\n",
       "    }\n",
       "\n",
       "    .dataframe tbody tr th {\n",
       "        vertical-align: top;\n",
       "    }\n",
       "\n",
       "    .dataframe thead th {\n",
       "        text-align: right;\n",
       "    }\n",
       "</style>\n",
       "<table border=\"1\" class=\"dataframe\">\n",
       "  <thead>\n",
       "    <tr style=\"text-align: right;\">\n",
       "      <th></th>\n",
       "      <th>ethnicity</th>\n",
       "      <th>gender</th>\n",
       "      <th>icu_stay_type</th>\n",
       "      <th>icu_type</th>\n",
       "      <th>pre_icu_los_days</th>\n",
       "      <th>arf_apache</th>\n",
       "      <th>temp_apache</th>\n",
       "      <th>apache_4a_icu_death_prob</th>\n",
       "      <th>diabetes_mellitus</th>\n",
       "      <th>apache_3j_bodysystem</th>\n",
       "      <th>bmi_cat</th>\n",
       "      <th>gcs_cat</th>\n",
       "      <th>age_cat</th>\n",
       "      <th>h1_pluse_P</th>\n",
       "      <th>heart_rate_cat</th>\n",
       "      <th>map_cat</th>\n",
       "    </tr>\n",
       "  </thead>\n",
       "  <tbody>\n",
       "    <tr>\n",
       "      <th>33845</th>\n",
       "      <td>2</td>\n",
       "      <td>0</td>\n",
       "      <td>0</td>\n",
       "      <td>0</td>\n",
       "      <td>1.833333</td>\n",
       "      <td>0.0</td>\n",
       "      <td>36.40</td>\n",
       "      <td>0.01</td>\n",
       "      <td>0.0</td>\n",
       "      <td>0</td>\n",
       "      <td>3</td>\n",
       "      <td>2</td>\n",
       "      <td>1</td>\n",
       "      <td>2</td>\n",
       "      <td>1</td>\n",
       "      <td>1</td>\n",
       "    </tr>\n",
       "    <tr>\n",
       "      <th>59452</th>\n",
       "      <td>2</td>\n",
       "      <td>1</td>\n",
       "      <td>2</td>\n",
       "      <td>2</td>\n",
       "      <td>0.220139</td>\n",
       "      <td>0.0</td>\n",
       "      <td>35.20</td>\n",
       "      <td>0.21</td>\n",
       "      <td>0.0</td>\n",
       "      <td>0</td>\n",
       "      <td>0</td>\n",
       "      <td>1</td>\n",
       "      <td>2</td>\n",
       "      <td>2</td>\n",
       "      <td>1</td>\n",
       "      <td>0</td>\n",
       "    </tr>\n",
       "    <tr>\n",
       "      <th>3136</th>\n",
       "      <td>2</td>\n",
       "      <td>1</td>\n",
       "      <td>0</td>\n",
       "      <td>2</td>\n",
       "      <td>0.010417</td>\n",
       "      <td>0.0</td>\n",
       "      <td>34.90</td>\n",
       "      <td>0.02</td>\n",
       "      <td>0.0</td>\n",
       "      <td>9</td>\n",
       "      <td>0</td>\n",
       "      <td>2</td>\n",
       "      <td>1</td>\n",
       "      <td>0</td>\n",
       "      <td>0</td>\n",
       "      <td>0</td>\n",
       "    </tr>\n",
       "    <tr>\n",
       "      <th>43550</th>\n",
       "      <td>0</td>\n",
       "      <td>0</td>\n",
       "      <td>0</td>\n",
       "      <td>2</td>\n",
       "      <td>0.015278</td>\n",
       "      <td>1.0</td>\n",
       "      <td>36.83</td>\n",
       "      <td>0.01</td>\n",
       "      <td>1.0</td>\n",
       "      <td>0</td>\n",
       "      <td>0</td>\n",
       "      <td>2</td>\n",
       "      <td>1</td>\n",
       "      <td>1</td>\n",
       "      <td>2</td>\n",
       "      <td>1</td>\n",
       "    </tr>\n",
       "    <tr>\n",
       "      <th>1219</th>\n",
       "      <td>2</td>\n",
       "      <td>0</td>\n",
       "      <td>0</td>\n",
       "      <td>4</td>\n",
       "      <td>0.002083</td>\n",
       "      <td>0.0</td>\n",
       "      <td>35.20</td>\n",
       "      <td>0.02</td>\n",
       "      <td>0.0</td>\n",
       "      <td>8</td>\n",
       "      <td>1</td>\n",
       "      <td>2</td>\n",
       "      <td>0</td>\n",
       "      <td>0</td>\n",
       "      <td>0</td>\n",
       "      <td>0</td>\n",
       "    </tr>\n",
       "    <tr>\n",
       "      <th>...</th>\n",
       "      <td>...</td>\n",
       "      <td>...</td>\n",
       "      <td>...</td>\n",
       "      <td>...</td>\n",
       "      <td>...</td>\n",
       "      <td>...</td>\n",
       "      <td>...</td>\n",
       "      <td>...</td>\n",
       "      <td>...</td>\n",
       "      <td>...</td>\n",
       "      <td>...</td>\n",
       "      <td>...</td>\n",
       "      <td>...</td>\n",
       "      <td>...</td>\n",
       "      <td>...</td>\n",
       "      <td>...</td>\n",
       "    </tr>\n",
       "    <tr>\n",
       "      <th>12064</th>\n",
       "      <td>2</td>\n",
       "      <td>0</td>\n",
       "      <td>0</td>\n",
       "      <td>2</td>\n",
       "      <td>0.005556</td>\n",
       "      <td>0.0</td>\n",
       "      <td>36.60</td>\n",
       "      <td>0.03</td>\n",
       "      <td>0.0</td>\n",
       "      <td>7</td>\n",
       "      <td>1</td>\n",
       "      <td>1</td>\n",
       "      <td>1</td>\n",
       "      <td>0</td>\n",
       "      <td>0</td>\n",
       "      <td>0</td>\n",
       "    </tr>\n",
       "    <tr>\n",
       "      <th>7411</th>\n",
       "      <td>0</td>\n",
       "      <td>1</td>\n",
       "      <td>0</td>\n",
       "      <td>2</td>\n",
       "      <td>0.242361</td>\n",
       "      <td>0.0</td>\n",
       "      <td>36.70</td>\n",
       "      <td>0.02</td>\n",
       "      <td>0.0</td>\n",
       "      <td>1</td>\n",
       "      <td>1</td>\n",
       "      <td>2</td>\n",
       "      <td>1</td>\n",
       "      <td>0</td>\n",
       "      <td>1</td>\n",
       "      <td>2</td>\n",
       "    </tr>\n",
       "    <tr>\n",
       "      <th>29835</th>\n",
       "      <td>2</td>\n",
       "      <td>1</td>\n",
       "      <td>0</td>\n",
       "      <td>4</td>\n",
       "      <td>0.004861</td>\n",
       "      <td>0.0</td>\n",
       "      <td>39.70</td>\n",
       "      <td>0.12</td>\n",
       "      <td>0.0</td>\n",
       "      <td>1</td>\n",
       "      <td>3</td>\n",
       "      <td>1</td>\n",
       "      <td>0</td>\n",
       "      <td>2</td>\n",
       "      <td>0</td>\n",
       "      <td>0</td>\n",
       "    </tr>\n",
       "    <tr>\n",
       "      <th>43343</th>\n",
       "      <td>2</td>\n",
       "      <td>1</td>\n",
       "      <td>0</td>\n",
       "      <td>3</td>\n",
       "      <td>0.136806</td>\n",
       "      <td>0.0</td>\n",
       "      <td>36.61</td>\n",
       "      <td>0.06</td>\n",
       "      <td>0.0</td>\n",
       "      <td>7</td>\n",
       "      <td>3</td>\n",
       "      <td>1</td>\n",
       "      <td>0</td>\n",
       "      <td>2</td>\n",
       "      <td>0</td>\n",
       "      <td>0</td>\n",
       "    </tr>\n",
       "    <tr>\n",
       "      <th>15387</th>\n",
       "      <td>2</td>\n",
       "      <td>1</td>\n",
       "      <td>0</td>\n",
       "      <td>1</td>\n",
       "      <td>0.056250</td>\n",
       "      <td>0.0</td>\n",
       "      <td>36.10</td>\n",
       "      <td>0.34</td>\n",
       "      <td>1.0</td>\n",
       "      <td>9</td>\n",
       "      <td>0</td>\n",
       "      <td>1</td>\n",
       "      <td>1</td>\n",
       "      <td>2</td>\n",
       "      <td>0</td>\n",
       "      <td>1</td>\n",
       "    </tr>\n",
       "  </tbody>\n",
       "</table>\n",
       "<p>12225 rows × 16 columns</p>\n",
       "</div>"
      ],
      "text/plain": [
       "       ethnicity  gender  icu_stay_type  icu_type  pre_icu_los_days  \\\n",
       "33845          2       0              0         0          1.833333   \n",
       "59452          2       1              2         2          0.220139   \n",
       "3136           2       1              0         2          0.010417   \n",
       "43550          0       0              0         2          0.015278   \n",
       "1219           2       0              0         4          0.002083   \n",
       "...          ...     ...            ...       ...               ...   \n",
       "12064          2       0              0         2          0.005556   \n",
       "7411           0       1              0         2          0.242361   \n",
       "29835          2       1              0         4          0.004861   \n",
       "43343          2       1              0         3          0.136806   \n",
       "15387          2       1              0         1          0.056250   \n",
       "\n",
       "       arf_apache  temp_apache  apache_4a_icu_death_prob  diabetes_mellitus  \\\n",
       "33845         0.0        36.40                      0.01                0.0   \n",
       "59452         0.0        35.20                      0.21                0.0   \n",
       "3136          0.0        34.90                      0.02                0.0   \n",
       "43550         1.0        36.83                      0.01                1.0   \n",
       "1219          0.0        35.20                      0.02                0.0   \n",
       "...           ...          ...                       ...                ...   \n",
       "12064         0.0        36.60                      0.03                0.0   \n",
       "7411          0.0        36.70                      0.02                0.0   \n",
       "29835         0.0        39.70                      0.12                0.0   \n",
       "43343         0.0        36.61                      0.06                0.0   \n",
       "15387         0.0        36.10                      0.34                1.0   \n",
       "\n",
       "       apache_3j_bodysystem  bmi_cat  gcs_cat  age_cat  h1_pluse_P  \\\n",
       "33845                     0        3        2        1           2   \n",
       "59452                     0        0        1        2           2   \n",
       "3136                      9        0        2        1           0   \n",
       "43550                     0        0        2        1           1   \n",
       "1219                      8        1        2        0           0   \n",
       "...                     ...      ...      ...      ...         ...   \n",
       "12064                     7        1        1        1           0   \n",
       "7411                      1        1        2        1           0   \n",
       "29835                     1        3        1        0           2   \n",
       "43343                     7        3        1        0           2   \n",
       "15387                     9        0        1        1           2   \n",
       "\n",
       "       heart_rate_cat  map_cat  \n",
       "33845               1        1  \n",
       "59452               1        0  \n",
       "3136                0        0  \n",
       "43550               2        1  \n",
       "1219                0        0  \n",
       "...               ...      ...  \n",
       "12064               0        0  \n",
       "7411                1        2  \n",
       "29835               0        0  \n",
       "43343               0        0  \n",
       "15387               0        1  \n",
       "\n",
       "[12225 rows x 16 columns]"
      ]
     },
     "execution_count": 218,
     "metadata": {},
     "output_type": "execute_result"
    }
   ],
   "source": [
    "X_test"
   ]
  },
  {
   "cell_type": "code",
   "execution_count": 219,
   "id": "89ec755b",
   "metadata": {},
   "outputs": [
    {
     "name": "stdout",
     "output_type": "stream",
     "text": [
      "classification_report for KNeighbors, \n",
      "\n",
      "              precision    recall  f1-score   support\n",
      "\n",
      "           0       0.97      0.77      0.86     11089\n",
      "           1       0.26      0.79      0.39      1136\n",
      "\n",
      "    accuracy                           0.77     12225\n",
      "   macro avg       0.62      0.78      0.63     12225\n",
      "weighted avg       0.91      0.77      0.82     12225\n",
      "\n"
     ]
    }
   ],
   "source": [
    "print('classification_report for KNeighbors, \\n')\n",
    "print(classification_report(y_test, lgb_pred))"
   ]
  },
  {
   "cell_type": "code",
   "execution_count": 220,
   "id": "8bd8994e",
   "metadata": {
    "scrolled": true
   },
   "outputs": [
    {
     "data": {
      "image/png": "[encoded data removed]",
      "text/plain": [
       "<Figure size 1080x360 with 3 Axes>"
      ]
     },
     "metadata": {
      "needs_background": "light"
     },
     "output_type": "display_data"
    }
   ],
   "source": [
    "plt.figure(figsize=(15,5))\n",
    "#evaluation with area under curve and confusion matrics\n",
    "ax1=plt.subplot(1, 2, 1)\n",
    "cm = confusion_matrix(y_test, lgb_pred)\n",
    "sns.heatmap(cm, annot=True, fmt=\".1f\", linewidths=.3, square = True, cmap = 'PuBu', ax=ax1)\n",
    "plt.ylabel('Actual label')\n",
    "plt.xlabel('Predicted label')\n",
    "plt.title('Confusion Matrix')\n",
    "\n",
    "ax2=plt.subplot(1, 2, 2)\n",
    "logit_roc_auc = roc_auc_score(y_test, lgb_pred)\n",
    "fpr, tpr, thresholds = roc_curve(y_test, lgb_model.predict_proba(X_test)[:,1])\n",
    "sns.lineplot(fpr, tpr, label=f'KNeighbors auc: {round(logit_roc_auc,2)}', ax=ax2)\n",
    "sns.lineplot([0, 1], [0, 1], ax=ax2,linestyle='--')\n",
    "\n",
    "plt.xlabel('False Positive Rate')\n",
    "plt.ylabel('True Positive Rate')\n",
    "plt.title('Receiver operating characteristic')\n",
    "plt.legend(loc=\"lower right\");"
   ]
  },
  {
   "cell_type": "markdown",
   "id": "2305136e",
   "metadata": {},
   "source": [
    "## extreme"
   ]
  },
  {
   "cell_type": "code",
   "execution_count": 221,
   "id": "84745ea8",
   "metadata": {},
   "outputs": [],
   "source": [
    "from xgboost import XGBClassifier\n",
    "models.append('GBClassifier')"
   ]
  },
  {
   "cell_type": "code",
   "execution_count": 222,
   "id": "f2ecc006",
   "metadata": {},
   "outputs": [
    {
     "data": {
      "text/html": [
       "<style>#sk-container-id-4 {color: black;background-color: white;}#sk-container-id-4 pre{padding: 0;}#sk-container-id-4 div.sk-toggleable {background-color: white;}#sk-container-id-4 label.sk-toggleable__label {cursor: pointer;display: block;width: 100%;margin-bottom: 0;padding: 0.3em;box-sizing: border-box;text-align: center;}#sk-container-id-4 label.sk-toggleable__label-arrow:before {content: \"▸\";float: left;margin-right: 0.25em;color: #696969;}#sk-container-id-4 label.sk-toggleable__label-arrow:hover:before {color: black;}#sk-container-id-4 div.sk-estimator:hover label.sk-toggleable__label-arrow:before {color: black;}#sk-container-id-4 div.sk-toggleable__content {max-height: 0;max-width: 0;overflow: hidden;text-align: left;background-color: #f0f8ff;}#sk-container-id-4 div.sk-toggleable__content pre {margin: 0.2em;color: black;border-radius: 0.25em;background-color: #f0f8ff;}#sk-container-id-4 input.sk-toggleable__control:checked~div.sk-toggleable__content {max-height: 200px;max-width: 100%;overflow: auto;}#sk-container-id-4 input.sk-toggleable__control:checked~label.sk-toggleable__label-arrow:before {content: \"▾\";}#sk-container-id-4 div.sk-estimator input.sk-toggleable__control:checked~label.sk-toggleable__label {background-color: #d4ebff;}#sk-container-id-4 div.sk-label input.sk-toggleable__control:checked~label.sk-toggleable__label {background-color: #d4ebff;}#sk-container-id-4 input.sk-hidden--visually {border: 0;clip: rect(1px 1px 1px 1px);clip: rect(1px, 1px, 1px, 1px);height: 1px;margin: -1px;overflow: hidden;padding: 0;position: absolute;width: 1px;}#sk-container-id-4 div.sk-estimator {font-family: monospace;background-color: #f0f8ff;border: 1px dotted black;border-radius: 0.25em;box-sizing: border-box;margin-bottom: 0.5em;}#sk-container-id-4 div.sk-estimator:hover {background-color: #d4ebff;}#sk-container-id-4 div.sk-parallel-item::after {content: \"\";width: 100%;border-bottom: 1px solid gray;flex-grow: 1;}#sk-container-id-4 div.sk-label:hover label.sk-toggleable__label {background-color: #d4ebff;}#sk-container-id-4 div.sk-serial::before {content: \"\";position: absolute;border-left: 1px solid gray;box-sizing: border-box;top: 0;bottom: 0;left: 50%;z-index: 0;}#sk-container-id-4 div.sk-serial {display: flex;flex-direction: column;align-items: center;background-color: white;padding-right: 0.2em;padding-left: 0.2em;position: relative;}#sk-container-id-4 div.sk-item {position: relative;z-index: 1;}#sk-container-id-4 div.sk-parallel {display: flex;align-items: stretch;justify-content: center;background-color: white;position: relative;}#sk-container-id-4 div.sk-item::before, #sk-container-id-4 div.sk-parallel-item::before {content: \"\";position: absolute;border-left: 1px solid gray;box-sizing: border-box;top: 0;bottom: 0;left: 50%;z-index: -1;}#sk-container-id-4 div.sk-parallel-item {display: flex;flex-direction: column;z-index: 1;position: relative;background-color: white;}#sk-container-id-4 div.sk-parallel-item:first-child::after {align-self: flex-end;width: 50%;}#sk-container-id-4 div.sk-parallel-item:last-child::after {align-self: flex-start;width: 50%;}#sk-container-id-4 div.sk-parallel-item:only-child::after {width: 0;}#sk-container-id-4 div.sk-dashed-wrapped {border: 1px dashed gray;margin: 0 0.4em 0.5em 0.4em;box-sizing: border-box;padding-bottom: 0.4em;background-color: white;}#sk-container-id-4 div.sk-label label {font-family: monospace;font-weight: bold;display: inline-block;line-height: 1.2em;}#sk-container-id-4 div.sk-label-container {text-align: center;}#sk-container-id-4 div.sk-container {/* jupyter's `normalize.less` sets `[hidden] { display: none; }` but bootstrap.min.css set `[hidden] { display: none !important; }` so we also need the `!important` here to be able to override the default hidden behavior on the sphinx rendered scikit-learn.org. See: https://github.com/scikit-learn/scikit-learn/issues/21755 */display: inline-block !important;position: relative;}#sk-container-id-4 div.sk-text-repr-fallback {display: none;}</style><div id=\"sk-container-id-4\" class=\"sk-top-container\"><div class=\"sk-text-repr-fallback\"><pre>XGBClassifier(base_score=0.5, booster=&#x27;gbtree&#x27;, colsample_bylevel=1,\n",
       "              colsample_bynode=1, colsample_bytree=1, enable_categorical=False,\n",
       "              gamma=0, gpu_id=-1, importance_type=None,\n",
       "              interaction_constraints=&#x27;&#x27;, learning_rate=0.300000012,\n",
       "              max_delta_step=0, max_depth=6, min_child_weight=1, missing=nan,\n",
       "              monotone_constraints=&#x27;()&#x27;, n_estimators=100, n_jobs=4,\n",
       "              num_parallel_tree=1, predictor=&#x27;auto&#x27;, random_state=0,\n",
       "              reg_alpha=0, reg_lambda=1, scale_pos_weight=1, subsample=1,\n",
       "              tree_method=&#x27;exact&#x27;, validate_parameters=1, verbosity=0)</pre><b>In a Jupyter environment, please rerun this cell to show the HTML representation or trust the notebook. <br />On GitHub, the HTML representation is unable to render, please try loading this page with nbviewer.org.</b></div><div class=\"sk-container\" hidden><div class=\"sk-item\"><div class=\"sk-estimator sk-toggleable\"><input class=\"sk-toggleable__control sk-hidden--visually\" id=\"sk-estimator-id-6\" type=\"checkbox\" checked><label for=\"sk-estimator-id-6\" class=\"sk-toggleable__label sk-toggleable__label-arrow\">XGBClassifier</label><div class=\"sk-toggleable__content\"><pre>XGBClassifier(base_score=0.5, booster=&#x27;gbtree&#x27;, colsample_bylevel=1,\n",
       "              colsample_bynode=1, colsample_bytree=1, enable_categorical=False,\n",
       "              gamma=0, gpu_id=-1, importance_type=None,\n",
       "              interaction_constraints=&#x27;&#x27;, learning_rate=0.300000012,\n",
       "              max_delta_step=0, max_depth=6, min_child_weight=1, missing=nan,\n",
       "              monotone_constraints=&#x27;()&#x27;, n_estimators=100, n_jobs=4,\n",
       "              num_parallel_tree=1, predictor=&#x27;auto&#x27;, random_state=0,\n",
       "              reg_alpha=0, reg_lambda=1, scale_pos_weight=1, subsample=1,\n",
       "              tree_method=&#x27;exact&#x27;, validate_parameters=1, verbosity=0)</pre></div></div></div></div></div>"
      ],
      "text/plain": [
       "XGBClassifier(base_score=0.5, booster='gbtree', colsample_bylevel=1,\n",
       "              colsample_bynode=1, colsample_bytree=1, enable_categorical=False,\n",
       "              gamma=0, gpu_id=-1, importance_type=None,\n",
       "              interaction_constraints='', learning_rate=0.300000012,\n",
       "              max_delta_step=0, max_depth=6, min_child_weight=1, missing=nan,\n",
       "              monotone_constraints='()', n_estimators=100, n_jobs=4,\n",
       "              num_parallel_tree=1, predictor='auto', random_state=0,\n",
       "              reg_alpha=0, reg_lambda=1, scale_pos_weight=1, subsample=1,\n",
       "              tree_method='exact', validate_parameters=1, verbosity=0)"
      ]
     },
     "execution_count": 222,
     "metadata": {},
     "output_type": "execute_result"
    }
   ],
   "source": [
    "xgb_model = XGBClassifier(verbosity = 0)\n",
    "xgb_model.fit(X_train, y_train)"
   ]
  },
  {
   "cell_type": "code",
   "execution_count": 223,
   "id": "e802eee7",
   "metadata": {},
   "outputs": [],
   "source": [
    "xgb_pred = xgb_model.predict(X_test)"
   ]
  },
  {
   "cell_type": "code",
   "execution_count": 224,
   "id": "e151dd37",
   "metadata": {},
   "outputs": [
    {
     "name": "stdout",
     "output_type": "stream",
     "text": [
      "0.7451503932967449\n",
      "0.6496478873239436\n"
     ]
    }
   ],
   "source": [
    "print(roc_auc_score(y_test, xgb_pred))\n",
    "print(metrics.recall_score(y_test, xgb_pred))"
   ]
  },
  {
   "cell_type": "code",
   "execution_count": 225,
   "id": "fb345e75",
   "metadata": {},
   "outputs": [
    {
     "name": "stdout",
     "output_type": "stream",
     "text": [
      "classification_report for Gradient Booster, \n",
      "\n",
      "              precision    recall  f1-score   support\n",
      "\n",
      "           0       0.96      0.84      0.90     11089\n",
      "           1       0.29      0.65      0.41      1136\n",
      "\n",
      "    accuracy                           0.82     12225\n",
      "   macro avg       0.63      0.75      0.65     12225\n",
      "weighted avg       0.90      0.82      0.85     12225\n",
      "\n"
     ]
    }
   ],
   "source": [
    "print('classification_report for Gradient Booster, \\n')\n",
    "print(classification_report(y_test, xgb_pred))"
   ]
  },
  {
   "cell_type": "code",
   "execution_count": 226,
   "id": "bcac4bd5",
   "metadata": {},
   "outputs": [
    {
     "data": {
      "text/plain": [
       "array([[9322, 1767],\n",
       "       [ 398,  738]])"
      ]
     },
     "execution_count": 226,
     "metadata": {},
     "output_type": "execute_result"
    }
   ],
   "source": [
    "confusion_matrix(y_test, xgb_pred)"
   ]
  },
  {
   "cell_type": "code",
   "execution_count": null,
   "id": "23d9b135",
   "metadata": {},
   "outputs": [],
   "source": []
  },
  {
   "cell_type": "code",
   "execution_count": null,
   "id": "50b220e3",
   "metadata": {},
   "outputs": [],
   "source": []
  },
  {
   "cell_type": "code",
   "execution_count": null,
   "id": "e824c6ad",
   "metadata": {},
   "outputs": [],
   "source": []
  },
  {
   "cell_type": "code",
   "execution_count": null,
   "id": "9933bac1",
   "metadata": {},
   "outputs": [],
   "source": []
  },
  {
   "cell_type": "code",
   "execution_count": null,
   "id": "7fa9b5b2",
   "metadata": {},
   "outputs": [],
   "source": []
  },
  {
   "cell_type": "code",
   "execution_count": null,
   "id": "abaf655d",
   "metadata": {},
   "outputs": [],
   "source": [
    "import shap"
   ]
  },
  {
   "cell_type": "code",
   "execution_count": 59,
   "id": "13d2d808",
   "metadata": {},
   "outputs": [],
   "source": [
    "explainer = shap.Explainer(xgb_model)"
   ]
  },
  {
   "cell_type": "code",
   "execution_count": 60,
   "id": "f28b7141",
   "metadata": {},
   "outputs": [],
   "source": [
    "shap_values = explainer(X)"
   ]
  },
  {
   "cell_type": "code",
   "execution_count": 61,
   "id": "d9b5a5b6",
   "metadata": {},
   "outputs": [
    {
     "data": {
      "image/png": "[encoded data removed]",
      "text/plain": [
       "<Figure size 576x468 with 3 Axes>"
      ]
     },
     "metadata": {},
     "output_type": "display_data"
    }
   ],
   "source": [
    "shap.plots.waterfall(shap_values[0])"
   ]
  },
  {
   "cell_type": "code",
   "execution_count": 62,
   "id": "374174ea",
   "metadata": {},
   "outputs": [
    {
     "data": {
      "image/png": "[encoded data removed]",
      "text/plain": [
       "<Figure size 576x648 with 1 Axes>"
      ]
     },
     "metadata": {},
     "output_type": "display_data"
    }
   ],
   "source": [
    "shap.plots.bar(shap_values,max_display=15,)"
   ]
  },
  {
   "cell_type": "code",
   "execution_count": 63,
   "id": "baa4851e",
   "metadata": {},
   "outputs": [
    {
     "data": {
      "text/plain": [
       "<AxesSubplot:>"
      ]
     },
     "execution_count": 63,
     "metadata": {},
     "output_type": "execute_result"
    },
    {
     "data": {
      "image/png": "[encoded data removed]",
      "text/plain": [
       "<Figure size 576x720 with 1 Axes>"
      ]
     },
     "metadata": {
      "needs_background": "light"
     },
     "output_type": "display_data"
    }
   ],
   "source": [
    "feat_imp = pd.Series(xgb_model.feature_importances_, index=X.columns)\n",
    "feat_imp.nlargest(30).plot(kind='barh', figsize=(8,10))"
   ]
  },
  {
   "cell_type": "code",
   "execution_count": null,
   "id": "830094f4",
   "metadata": {},
   "outputs": [],
   "source": []
  },
  {
   "cell_type": "code",
   "execution_count": null,
   "id": "9da154c7",
   "metadata": {},
   "outputs": [],
   "source": []
  },
  {
   "cell_type": "markdown",
   "id": "d313d260",
   "metadata": {},
   "source": [
    "<a name=\"ml></a>\n",
    "## Model Evaluation"
   ]
  },
  {
   "cell_type": "code",
   "execution_count": 142,
   "id": "c4614634",
   "metadata": {
    "scrolled": true
   },
   "outputs": [
    {
     "data": {
      "text/html": [
       "<div>\n",
       "<style scoped>\n",
       "    .dataframe tbody tr th:only-of-type {\n",
       "        vertical-align: middle;\n",
       "    }\n",
       "\n",
       "    .dataframe tbody tr th {\n",
       "        vertical-align: top;\n",
       "    }\n",
       "\n",
       "    .dataframe thead th {\n",
       "        text-align: right;\n",
       "    }\n",
       "</style>\n",
       "<table border=\"1\" class=\"dataframe\">\n",
       "  <thead>\n",
       "    <tr style=\"text-align: right;\">\n",
       "      <th></th>\n",
       "      <th>models</th>\n",
       "      <th>roc_aucs</th>\n",
       "      <th>recalls</th>\n",
       "    </tr>\n",
       "  </thead>\n",
       "  <tbody>\n",
       "    <tr>\n",
       "      <th>0</th>\n",
       "      <td>LogisticRegression</td>\n",
       "      <td>0.735041</td>\n",
       "      <td>0.672535</td>\n",
       "    </tr>\n",
       "    <tr>\n",
       "      <th>1</th>\n",
       "      <td>XGBClassifier</td>\n",
       "      <td>0.776880</td>\n",
       "      <td>0.779930</td>\n",
       "    </tr>\n",
       "    <tr>\n",
       "      <th>2</th>\n",
       "      <td>LGBClassifier</td>\n",
       "      <td>0.774916</td>\n",
       "      <td>0.756162</td>\n",
       "    </tr>\n",
       "    <tr>\n",
       "      <th>3</th>\n",
       "      <td>GBClassifier</td>\n",
       "      <td>0.744017</td>\n",
       "      <td>0.657570</td>\n",
       "    </tr>\n",
       "  </tbody>\n",
       "</table>\n",
       "</div>"
      ],
      "text/plain": [
       "               models  roc_aucs   recalls\n",
       "0  LogisticRegression  0.735041  0.672535\n",
       "1       XGBClassifier  0.776880  0.779930\n",
       "2       LGBClassifier  0.774916  0.756162\n",
       "3        GBClassifier  0.744017  0.657570"
      ]
     },
     "execution_count": 142,
     "metadata": {},
     "output_type": "execute_result"
    }
   ],
   "source": [
    "#creates a dataframe of model AUC and recalls\n",
    "model_metric = pd.DataFrame({\n",
    "    'models' : models,\n",
    "    'roc_aucs' : roc_aucs,\n",
    "    'recalls' : recalls\n",
    "})\n",
    "model_metric"
   ]
  },
  {
   "cell_type": "code",
   "execution_count": 143,
   "id": "c5f28500",
   "metadata": {},
   "outputs": [],
   "source": [
    "#model_metrics.to_csv('../Datasets/model_metrics.csv', index=False)"
   ]
  },
  {
   "cell_type": "code",
   "execution_count": 144,
   "id": "783432b8",
   "metadata": {},
   "outputs": [],
   "source": [
    "#model_metrics=round(pd.read_csv('../Datasets/model_metrics.csv'),2)"
   ]
  },
  {
   "cell_type": "code",
   "execution_count": 145,
   "id": "c768181d",
   "metadata": {},
   "outputs": [
    {
     "data": {
      "image/png": "[encoded data removed]",
      "text/plain": [
       "<Figure size 1080x360 with 2 Axes>"
      ]
     },
     "metadata": {
      "needs_background": "light"
     },
     "output_type": "display_data"
    }
   ],
   "source": [
    "plt.figure(figsize=(15,5))\n",
    "ax1=plt.subplot(1, 2, 1)\n",
    "ax=sns.barplot(data=model_metric, x='models', y='roc_aucs', ax=ax1)\n",
    "plt.xlabel('Algorithms')\n",
    "plt.title('Area Under the Curve', fontsize=18)\n",
    "plt.ylim([0.0, 0.9])\n",
    "plt.xticks(rotation=45)\n",
    "ax.bar_label(ax.containers[0])\n",
    "\n",
    "ax2=plt.subplot(1, 2, 2)\n",
    "ax=sns.barplot(data=model_metric, x='models', y='recalls', ax=ax2)\n",
    "plt.xlabel('Algorithms')\n",
    "plt.title('Recall', fontsize=18)\n",
    "plt.ylim([0.0, 0.9])\n",
    "plt.xticks(rotation=45)\n",
    "ax.bar_label(ax.containers[0])\n",
    "plt.tight_layout();"
   ]
  },
  {
   "cell_type": "markdown",
   "id": "4f8bab53",
   "metadata": {},
   "source": [
    "From the grapha above, Gradient Booster classifer has the highest area under the curve of ```0.78``` on test data and a recall of ```0.79```. Logistic Regression followed closely with area under the curve of ```0.76``` and a recall of ```0.72```. Both Gradient Booster classifer and Logistic Regression  will therefore be tunned for best parameters."
   ]
  },
  {
   "cell_type": "markdown",
   "id": "273a21ca",
   "metadata": {},
   "source": [
    "<a name=\"hpt\"></a>\n",
    "##  Hyperparameter Tuning."
   ]
  },
  {
   "cell_type": "code",
   "execution_count": 54,
   "id": "5862a90e",
   "metadata": {},
   "outputs": [],
   "source": [
    "from sklearn.model_selection import RandomizedSearchCV"
   ]
  },
  {
   "cell_type": "markdown",
   "id": "812b783c",
   "metadata": {},
   "source": [
    "<a name=\"lrpt\"></a>\n",
    "### Logistic Regression Parameters Tuning"
   ]
  },
  {
   "cell_type": "markdown",
   "id": "8f587279",
   "metadata": {},
   "source": [
    "> Logistic regression does not really have any critical hyperparameters to tune.\n",
    "Sometimes, you can see useful differences in performance or convergence with different solvers (solver). ```newton-cg, lbfgs, liblinear```.\n",
    "> Regularization (penalty) can sometimes be helpful. penalty in ```none, l1, l2```.\n",
    "> The C parameter controls the penality strength, which can also be effective. ```100, 10, 1.0, 0.1, 0.01```\n"
   ]
  },
  {
   "cell_type": "code",
   "execution_count": 68,
   "id": "21785db9",
   "metadata": {},
   "outputs": [
    {
     "data": {
      "text/plain": [
       "{'solver': 'liblinear', 'penalty': 'l2', 'C': 100}"
      ]
     },
     "execution_count": 68,
     "metadata": {},
     "output_type": "execute_result"
    }
   ],
   "source": [
    "parameters ={ # Setting training with parameters\n",
    "    \"C\":[100, 10, 1.0, 0.1, 0.01],\n",
    "    'penalty':['l2'], \n",
    "    'solver':['newton-cg', 'lbfgs', 'liblinear']} # l1 lasso l2 ridge\n",
    "lr=LogisticRegression()\n",
    "rscv = RandomizedSearchCV(lr,parameters,scoring='roc_auc',cv=10)\n",
    "lr_cv = rscv.fit(X_train,y_train)\n",
    "lr_cv.best_params_ #best parameter"
   ]
  },
  {
   "cell_type": "code",
   "execution_count": 69,
   "id": "8233ec3e",
   "metadata": {},
   "outputs": [],
   "source": [
    "lr_cv_pred = lr_cv.predict(X_test) #predict on X test with best parameter"
   ]
  },
  {
   "cell_type": "code",
   "execution_count": 70,
   "id": "07ec100f",
   "metadata": {
    "scrolled": false
   },
   "outputs": [
    {
     "data": {
      "image/png": "[encoded data removed]",
      "text/plain": [
       "<Figure size 1080x360 with 3 Axes>"
      ]
     },
     "metadata": {
      "needs_background": "light"
     },
     "output_type": "display_data"
    }
   ],
   "source": [
    "plt.figure(figsize=(15,5))\n",
    "#evaluation with area under curve and confusion matrics\n",
    "ax1=plt.subplot(1, 2, 1)\n",
    "cm = confusion_matrix(y_test, lr_cv_pred)\n",
    "sns.heatmap(cm, annot=True, fmt=\".1f\", linewidths=.3, square = True, cmap = 'PuBu', ax=ax1)\n",
    "plt.ylabel('Actual label')\n",
    "plt.xlabel('Predicted label')\n",
    "plt.title('Confusion Matrix')\n",
    "\n",
    "ax2=plt.subplot(1, 2, 2)\n",
    "logit_roc_auc = roc_auc_score(y_test, lr_cv_pred)\n",
    "fpr, tpr, thresholds = roc_curve(y_test, lr_cv.predict_proba(X_test)[:,1])\n",
    "sns.lineplot(fpr, tpr, label=f'Logistic Regression: {round(logit_roc_auc,2)}', ax=ax2)\n",
    "sns.lineplot([0, 1], [0, 1], ax=ax2, linestyle='--')\n",
    "\n",
    "plt.xlabel('False Positive Rate')\n",
    "plt.ylabel('True Positive Rate')\n",
    "plt.title('Receiver operating characteristic')\n",
    "plt.legend(loc=\"lower right\");"
   ]
  },
  {
   "cell_type": "code",
   "execution_count": 72,
   "id": "b8011959",
   "metadata": {},
   "outputs": [
    {
     "name": "stdout",
     "output_type": "stream",
     "text": [
      "classification_report for Tuned Logistic Regression, \n",
      "\n",
      "              precision    recall  f1-score   support\n",
      "\n",
      "           0       0.97      0.80      0.87     11089\n",
      "           1       0.26      0.72      0.39      1136\n",
      "\n",
      "    accuracy                           0.79     12225\n",
      "   macro avg       0.61      0.76      0.63     12225\n",
      "weighted avg       0.90      0.79      0.83     12225\n",
      "\n"
     ]
    }
   ],
   "source": [
    "print('classification_report for Tuned Logistic Regression, \\n')\n",
    "print(classification_report(y_test, lr_cv_pred))"
   ]
  },
  {
   "cell_type": "markdown",
   "id": "7b1c5a1a",
   "metadata": {},
   "source": [
    "<a name=\"xgbpt\"></a>\n",
    "### Gradient Boosting Machine Parameters Tuning "
   ]
  },
  {
   "cell_type": "markdown",
   "id": "97ddcc4e",
   "metadata": {},
   "source": [
    ">Also called XGBoost has many parameters to tune.\n",
    "There are some parameter pairings that are important to consider. The first is the learning rate, also called shrinkage or eta (learning_rate) and the number of trees in the model (n_estimators). Both could be considered on a log scale, although in different directions. ```learning_rate in [0.001, 0.01, 0.1]```  and ```n_estimators [10, 100, 1000]```\n",
    "\n",
    ">Another pairing is the number of rows or subset of the data to consider for each tree (subsample) and the depth of each tree (max_depth). ```subsample in [0.5, 0.3, 0.1]```  and ```max_depth in [3, 7, 9]```\n",
    "For the full list of hyperparameters, see: ```sklearn.ensemble.GradientBoostingClassifier API.```"
   ]
  },
  {
   "cell_type": "code",
   "execution_count": 63,
   "id": "b106c628",
   "metadata": {},
   "outputs": [
    {
     "data": {
      "text/plain": [
       "{'subsample': 0.3, 'n_estimators': 100, 'max_depth': 7, 'learning_rate': 0.1}"
      ]
     },
     "execution_count": 63,
     "metadata": {},
     "output_type": "execute_result"
    }
   ],
   "source": [
    "parameters ={# Setting training with parameters\n",
    "    \"learning_rate\":[0.01, 0.1],\n",
    "    'n_estimators':[10, 100], \n",
    "    'subsample':[0.5, 0.3],\n",
    "    'max_depth':[3, 5, 7],}\n",
    "xgb=GradientBoostingClassifier()\n",
    "xgbcv = RandomizedSearchCV(xgb,parameters,scoring='roc_auc',cv=3, n_iter=3)\n",
    "xgb_cv = xgbcv.fit(X_train,y_train)\n",
    "xgb_cv.best_params_  #best parameter"
   ]
  },
  {
   "cell_type": "code",
   "execution_count": 64,
   "id": "b05fa215",
   "metadata": {},
   "outputs": [],
   "source": [
    "xgb_cv_pred = xgb_cv.predict(X_test) # predict on X test with best parameter"
   ]
  },
  {
   "cell_type": "code",
   "execution_count": 65,
   "id": "2f0c22fd",
   "metadata": {
    "scrolled": true
   },
   "outputs": [
    {
     "data": {
      "image/png": "[encoded data removed]",
      "text/plain": [
       "<Figure size 1080x360 with 3 Axes>"
      ]
     },
     "metadata": {
      "needs_background": "light"
     },
     "output_type": "display_data"
    }
   ],
   "source": [
    "plt.figure(figsize=(15,5))\n",
    "#evaluation with area under curve and confusion matrics\n",
    "ax1=plt.subplot(1, 2, 1)\n",
    "cm = confusion_matrix(y_test, xgb_cv_pred)\n",
    "sns.heatmap(cm, annot=True, fmt=\".1f\", linewidths=.3, square = True, cmap = 'PuBu', ax=ax1)\n",
    "plt.ylabel('Actual label')\n",
    "plt.xlabel('Predicted label')\n",
    "plt.title('Confusion Matrix')\n",
    "\n",
    "ax2=plt.subplot(1, 2, 2)\n",
    "logit_roc_auc = roc_auc_score(y_test, xgb_cv_pred)\n",
    "fpr, tpr, thresholds = roc_curve(y_test, xgb_cv.predict_proba(X_test)[:,1])\n",
    "sns.lineplot(fpr, tpr, label=f'KNeighbors auc: {round(logit_roc_auc,3)}', ax=ax2)\n",
    "sns.lineplot([0, 1], [0, 1], ax=ax2,linestyle='--')\n",
    "\n",
    "plt.xlabel('False Positive Rate')\n",
    "plt.ylabel('True Positive Rate')\n",
    "plt.title('Receiver operating characteristic')\n",
    "plt.legend(loc=\"lower right\");"
   ]
  },
  {
   "cell_type": "markdown",
   "id": "6e5ba019",
   "metadata": {},
   "source": [
    "The default parameter seems to perform better"
   ]
  },
  {
   "cell_type": "code",
   "execution_count": 66,
   "id": "d16b126b",
   "metadata": {},
   "outputs": [
    {
     "name": "stdout",
     "output_type": "stream",
     "text": [
      "classification_report for Tuned Logistic Regression, \n",
      "\n",
      "              precision    recall  f1-score   support\n",
      "\n",
      "           0       0.97      0.78      0.87     11089\n",
      "           1       0.26      0.73      0.38      1136\n",
      "\n",
      "    accuracy                           0.78     12225\n",
      "   macro avg       0.61      0.76      0.62     12225\n",
      "weighted avg       0.90      0.78      0.82     12225\n",
      "\n"
     ]
    }
   ],
   "source": [
    "print('classification_report for Tuned Logistic Regression, \\n')\n",
    "print(classification_report(y_test, xgb_cv_pred))"
   ]
  },
  {
   "cell_type": "markdown",
   "id": "f816b930",
   "metadata": {},
   "source": [
    "<a name=\"conclusion\"></a>\n",
    "## Summary"
   ]
  },
  {
   "cell_type": "code",
   "execution_count": 67,
   "id": "e25b464e",
   "metadata": {},
   "outputs": [
    {
     "data": {
      "text/plain": [
       "['../Model/xgb_model.pkl']"
      ]
     },
     "execution_count": 67,
     "metadata": {},
     "output_type": "execute_result"
    }
   ],
   "source": [
    "# saves random forest model as job_rf.pkl for deployment\n",
    "import joblib\n",
    "filename ='../Model/xgb_model.pkl'\n",
    "joblib.dump(xgb_model, filename)"
   ]
  },
  {
   "cell_type": "code",
   "execution_count": null,
   "id": "b51dc571",
   "metadata": {},
   "outputs": [],
   "source": []
  },
  {
   "cell_type": "code",
   "execution_count": null,
   "id": "40448c5d",
   "metadata": {},
   "outputs": [],
   "source": []
  }
 ],
 "metadata": {
  "kernelspec": {
   "display_name": "Python 3 (ipykernel)",
   "language": "python",
   "name": "python3"
  },
  "language_info": {
   "codemirror_mode": {
    "name": "ipython",
    "version": 3
   },
   "file_extension": ".py",
   "mimetype": "text/x-python",
   "name": "python",
   "nbconvert_exporter": "python",
   "pygments_lexer": "ipython3",
   "version": "3.10.0"
  }
 },
 "nbformat": 4,
 "nbformat_minor": 5
}
