{
 "cells": [
  {
   "cell_type": "code",
   "execution_count": 15,
   "id": "e3bcca72",
   "metadata": {},
   "outputs": [],
   "source": [
    "import pandas as pd\n",
    "import warnings\n",
    "warnings.filterwarnings('ignore')"
   ]
  },
  {
   "cell_type": "code",
   "execution_count": 16,
   "id": "faf9b3d8",
   "metadata": {},
   "outputs": [],
   "source": [
    "df=pd.read_csv('../Datasets/dataset2.csv')"
   ]
  },
  {
   "cell_type": "code",
   "execution_count": 17,
   "id": "be59f0ef",
   "metadata": {},
   "outputs": [
    {
     "data": {
      "text/plain": [
       "Index(['pre_icu_los_days', 'apache_3j_diagnosis', 'arf_apache', 'temp_apache',\n",
       "       'ventilated_apache', 'apache_4a_icu_death_prob', 'aids',\n",
       "       'diabetes_mellitus', 'hepatic_failure', 'immunosuppression', 'leukemia',\n",
       "       'lymphoma', 'solid_tumor_with_metastasis', 'hospital_death',\n",
       "       'ethnicity_African American', 'ethnicity_Asian', 'ethnicity_Caucasian',\n",
       "       'ethnicity_Hispanic', 'ethnicity_Native American',\n",
       "       'ethnicity_Other/Unknown', 'gender_F', 'gender_M',\n",
       "       'icu_admit_source_Accident & Emergency', 'icu_admit_source_Floor',\n",
       "       'icu_admit_source_Operating Room / Recovery',\n",
       "       'icu_admit_source_Other Hospital', 'icu_admit_source_Other ICU',\n",
       "       'icu_stay_type_admit', 'icu_stay_type_readmit',\n",
       "       'icu_stay_type_transfer', 'icu_type_CCU-CTICU', 'icu_type_CSICU',\n",
       "       'icu_type_CTICU', 'icu_type_Cardiac ICU', 'icu_type_MICU',\n",
       "       'icu_type_Med-Surg ICU', 'icu_type_Neuro ICU', 'icu_type_SICU',\n",
       "       'apache_3j_bodysystem_Cardiovascular',\n",
       "       'apache_3j_bodysystem_Gastrointestinal',\n",
       "       'apache_3j_bodysystem_Genitourinary',\n",
       "       'apache_3j_bodysystem_Gynecological',\n",
       "       'apache_3j_bodysystem_Hematological', 'apache_3j_bodysystem_Metabolic',\n",
       "       'apache_3j_bodysystem_Musculoskeletal/Skin',\n",
       "       'apache_3j_bodysystem_Neurological', 'apache_3j_bodysystem_Respiratory',\n",
       "       'apache_3j_bodysystem_Sepsis', 'apache_3j_bodysystem_Trauma',\n",
       "       'bmi_cat_underweight', 'bmi_cat_normal', 'bmi_cat_overweight',\n",
       "       'bmi_cat_obesity', 'bmi_cat_morbid_obesity', 'gcs_cat_sever',\n",
       "       'gcs_cat_moderate', 'gcs_cat_mild', 'gcs_cat_normal',\n",
       "       'age_cat_young_adult', 'age_cat_adult', 'age_cat_old_adult',\n",
       "       'h1_pluse_low', 'h1_pluse_normal', 'h1_pluse_high',\n",
       "       'heart_rate_cat_low', 'heart_rate_cat_normal', 'heart_rate_cat_high',\n",
       "       'map_cat_low', 'map_cat_normal', 'map_cat_high'],\n",
       "      dtype='object')"
      ]
     },
     "execution_count": 17,
     "metadata": {},
     "output_type": "execute_result"
    }
   ],
   "source": [
    "df.columns"
   ]
  },
  {
   "cell_type": "code",
   "execution_count": 18,
   "id": "5ae1bbf7",
   "metadata": {},
   "outputs": [],
   "source": [
    "X=df.drop('hospital_death', axis=1)\n",
    "y=df['hospital_death']"
   ]
  },
  {
   "cell_type": "code",
   "execution_count": 19,
   "id": "77034b97",
   "metadata": {},
   "outputs": [],
   "source": [
    "from sklearn import datasets\n",
    "from sklearn.feature_selection import RFE\n",
    "from sklearn.linear_model import LogisticRegression"
   ]
  },
  {
   "cell_type": "code",
   "execution_count": 22,
   "id": "868ce213",
   "metadata": {},
   "outputs": [],
   "source": [
    "model = LogisticRegression()\n",
    "rfe = RFE(model, n_features_to_select= 12)\n",
    "rfe = rfe.fit(X,y)"
   ]
  },
  {
   "cell_type": "code",
   "execution_count": 24,
   "id": "c356ecad",
   "metadata": {
    "scrolled": false
   },
   "outputs": [
    {
     "name": "stdout",
     "output_type": "stream",
     "text": [
      "[51 57  5 21  1  1 44 29  1  6  1  1  1 37 58 13 14 12 38 19 20  7 39  1\n",
      " 48  1 10 55 41 36  9 26 22 23 53 25 46 49 28 31 30  8  1 45 47 33 11 42\n",
      "  1 32 54 17 43 16 35 15  4  2 56  1  3 34 52 40 24  1 18 50 27]\n"
     ]
    }
   ],
   "source": [
    "print(rfe.ranking_)"
   ]
  },
  {
   "cell_type": "code",
   "execution_count": 40,
   "id": "b83c0e78",
   "metadata": {},
   "outputs": [],
   "source": [
    "rfe_in = rfe.get_support()"
   ]
  },
  {
   "cell_type": "code",
   "execution_count": 41,
   "id": "c12c02e3",
   "metadata": {
    "scrolled": true
   },
   "outputs": [
    {
     "data": {
      "text/plain": [
       "array([False, False, False, False,  True,  True, False, False,  True,\n",
       "       False,  True,  True,  True, False, False, False, False, False,\n",
       "       False, False, False, False, False,  True, False,  True, False,\n",
       "       False, False, False, False, False, False, False, False, False,\n",
       "       False, False, False, False, False, False,  True, False, False,\n",
       "       False, False, False,  True, False, False, False, False, False,\n",
       "       False, False, False, False, False,  True, False, False, False,\n",
       "       False, False,  True, False, False, False])"
      ]
     },
     "execution_count": 41,
     "metadata": {},
     "output_type": "execute_result"
    }
   ],
   "source": [
    "rfe_in"
   ]
  },
  {
   "cell_type": "code",
   "execution_count": 45,
   "id": "b11f90dc",
   "metadata": {
    "scrolled": true
   },
   "outputs": [],
   "source": [
    "X=X[X.columns[rfe_in]]"
   ]
  },
  {
   "cell_type": "code",
   "execution_count": null,
   "id": "f29ed325",
   "metadata": {},
   "outputs": [],
   "source": []
  },
  {
   "cell_type": "code",
   "execution_count": null,
   "id": "22a21e05",
   "metadata": {},
   "outputs": [],
   "source": []
  },
  {
   "cell_type": "code",
   "execution_count": null,
   "id": "09b955ab",
   "metadata": {},
   "outputs": [],
   "source": []
  },
  {
   "cell_type": "code",
   "execution_count": null,
   "id": "a8794f68",
   "metadata": {},
   "outputs": [],
   "source": []
  },
  {
   "cell_type": "code",
   "execution_count": 32,
   "id": "5db9a794",
   "metadata": {},
   "outputs": [],
   "source": [
    "from sklearn.feature_selection import RFE\n",
    "threshold = 12 # the number of most relevant features"
   ]
  },
  {
   "cell_type": "code",
   "execution_count": 33,
   "id": "9d1e8ab5",
   "metadata": {},
   "outputs": [],
   "source": [
    "from sklearn.ensemble import RandomForestClassifier\n",
    "model_rf = RandomForestClassifier(n_estimators=50, random_state=0, max_depth = 3)"
   ]
  },
  {
   "cell_type": "code",
   "execution_count": null,
   "id": "39a255e1",
   "metadata": {},
   "outputs": [],
   "source": []
  },
  {
   "cell_type": "code",
   "execution_count": null,
   "id": "307f80bf",
   "metadata": {},
   "outputs": [],
   "source": []
  },
  {
   "cell_type": "code",
   "execution_count": 35,
   "id": "ac76cbbd",
   "metadata": {},
   "outputs": [],
   "source": [
    "selector = RFE(model_rf, n_features_to_select=threshold, step=1) # use model_lr as well "
   ]
  },
  {
   "cell_type": "code",
   "execution_count": 36,
   "id": "d85209fb",
   "metadata": {},
   "outputs": [],
   "source": [
    "selector = selector.fit(X,y)"
   ]
  },
  {
   "cell_type": "code",
   "execution_count": 37,
   "id": "05bed583",
   "metadata": {},
   "outputs": [],
   "source": [
    "selector_ind = selector.get_support()"
   ]
  },
  {
   "cell_type": "code",
   "execution_count": 31,
   "id": "6ad08e24",
   "metadata": {},
   "outputs": [],
   "source": [
    "#model_lr = LogisticRegression(random_state=0, C=0.01)"
   ]
  },
  {
   "cell_type": "code",
   "execution_count": 39,
   "id": "ac546ba0",
   "metadata": {},
   "outputs": [
    {
     "data": {
      "text/plain": [
       "Index(['pre_icu_los_days', 'apache_3j_diagnosis', 'temp_apache',\n",
       "       'ventilated_apache', 'apache_4a_icu_death_prob',\n",
       "       'icu_admit_source_Floor', 'icu_admit_source_Operating Room / Recovery',\n",
       "       'apache_3j_bodysystem_Metabolic', 'apache_3j_bodysystem_Sepsis',\n",
       "       'gcs_cat_sever', 'gcs_cat_normal', 'age_cat_old_adult'],\n",
       "      dtype='object')"
      ]
     },
     "execution_count": 39,
     "metadata": {},
     "output_type": "execute_result"
    }
   ],
   "source": [
    "X.columns[selector_ind]"
   ]
  },
  {
   "cell_type": "code",
   "execution_count": null,
   "id": "ae7572d0",
   "metadata": {},
   "outputs": [],
   "source": []
  },
  {
   "cell_type": "code",
   "execution_count": null,
   "id": "09445fca",
   "metadata": {},
   "outputs": [],
   "source": []
  },
  {
   "cell_type": "code",
   "execution_count": null,
   "id": "ac59d17b",
   "metadata": {},
   "outputs": [],
   "source": []
  },
  {
   "cell_type": "code",
   "execution_count": null,
   "id": "394e570d",
   "metadata": {},
   "outputs": [],
   "source": []
  },
  {
   "cell_type": "code",
   "execution_count": 27,
   "id": "d670c9b8",
   "metadata": {},
   "outputs": [
    {
     "name": "stdout",
     "output_type": "stream",
     "text": [
      "Optimization terminated successfully.\n",
      "         Current function value: 0.225999\n",
      "         Iterations 12\n",
      "                           Logit Regression Results                           \n",
      "==============================================================================\n",
      "Dep. Variable:         hospital_death   No. Observations:                61123\n",
      "Model:                          Logit   Df Residuals:                    61065\n",
      "Method:                           MLE   Df Model:                           57\n",
      "Date:                Tue, 07 Jun 2022   Pseudo R-squ.:                  0.2456\n",
      "Time:                        19:58:33   Log-Likelihood:                -13814.\n",
      "converged:                       True   LL-Null:                       -18311.\n",
      "Covariance Type:            nonrobust   LLR p-value:                     0.000\n",
      "==============================================================================================================\n",
      "                                                 coef    std err          z      P>|z|      [0.025      0.975]\n",
      "--------------------------------------------------------------------------------------------------------------\n",
      "pre_icu_los_days                               0.0250      0.006      4.469      0.000       0.014       0.036\n",
      "apache_3j_diagnosis                           -0.0004      0.000     -3.649      0.000      -0.001      -0.000\n",
      "arf_apache                                     0.3393      0.086      3.950      0.000       0.171       0.508\n",
      "temp_apache                                   -0.1836      0.016    -11.590      0.000      -0.215      -0.153\n",
      "ventilated_apache                              0.7569      0.043     17.771      0.000       0.673       0.840\n",
      "apache_4a_icu_death_prob                       3.7831      0.115     32.776      0.000       3.557       4.009\n",
      "aids                                           0.2678      0.428      0.626      0.531      -0.570       1.106\n",
      "diabetes_mellitus                             -0.1155      0.041     -2.822      0.005      -0.196      -0.035\n",
      "hepatic_failure                                0.4917      0.109      4.506      0.000       0.278       0.706\n",
      "immunosuppression                              0.2547      0.084      3.043      0.002       0.091       0.419\n",
      "leukemia                                       0.3516      0.142      2.468      0.014       0.072       0.631\n",
      "lymphoma                                       0.2983      0.198      1.510      0.131      -0.089       0.686\n",
      "solid_tumor_with_metastasis                    0.6867      0.088      7.814      0.000       0.514       0.859\n",
      "ethnicity_African American                     0.0343        nan        nan        nan         nan         nan\n",
      "ethnicity_Asian                                0.0995        nan        nan        nan         nan         nan\n",
      "ethnicity_Caucasian                            0.2745        nan        nan        nan         nan         nan\n",
      "ethnicity_Hispanic                             0.2705        nan        nan        nan         nan         nan\n",
      "ethnicity_Native American                      0.4047        nan        nan        nan         nan         nan\n",
      "ethnicity_Other/Unknown                        0.0630        nan        nan        nan         nan         nan\n",
      "gender_F                                       0.5493    8.5e+05   6.46e-07      1.000   -1.67e+06    1.67e+06\n",
      "gender_M                                       0.5971   8.53e+05      7e-07      1.000   -1.67e+06    1.67e+06\n",
      "icu_admit_source_Accident & Emergency         -0.4330   9.86e+05  -4.39e-07      1.000   -1.93e+06    1.93e+06\n",
      "icu_admit_source_Floor                        -0.1628   9.91e+05  -1.64e-07      1.000   -1.94e+06    1.94e+06\n",
      "icu_admit_source_Operating Room / Recovery    -0.6738   9.71e+05  -6.94e-07      1.000    -1.9e+06     1.9e+06\n",
      "icu_admit_source_Other Hospital               -0.0450   1.04e+06  -4.34e-08      1.000   -2.03e+06    2.03e+06\n",
      "icu_admit_source_Other ICU                     2.4611   9.88e+05   2.49e-06      1.000   -1.94e+06    1.94e+06\n",
      "icu_stay_type_admit                            0.5687        nan        nan        nan         nan         nan\n",
      "icu_stay_type_readmit                          0.2714        nan        nan        nan         nan         nan\n",
      "icu_stay_type_transfer                         0.3063        nan        nan        nan         nan         nan\n",
      "icu_type_CCU-CTICU                             0.1402   2.35e+05   5.96e-07      1.000   -4.61e+05    4.61e+05\n",
      "icu_type_CSICU                                -0.1269        nan        nan        nan         nan         nan\n",
      "icu_type_CTICU                                 0.2162        nan        nan        nan         nan         nan\n",
      "icu_type_Cardiac ICU                           0.2529        nan        nan        nan         nan         nan\n",
      "icu_type_MICU                                  0.2024   2.73e+05   7.42e-07      1.000   -5.35e+05    5.35e+05\n",
      "icu_type_Med-Surg ICU                          0.0627        nan        nan        nan         nan         nan\n",
      "icu_type_Neuro ICU                             0.2565        nan        nan        nan         nan         nan\n",
      "icu_type_SICU                                  0.1424        nan        nan        nan         nan         nan\n",
      "apache_3j_bodysystem_Cardiovascular           -0.0481        nan        nan        nan         nan         nan\n",
      "apache_3j_bodysystem_Gastrointestinal          0.2500        nan        nan        nan         nan         nan\n",
      "apache_3j_bodysystem_Genitourinary             0.4148        nan        nan        nan         nan         nan\n",
      "apache_3j_bodysystem_Gynecological            -0.6476        nan        nan        nan         nan         nan\n",
      "apache_3j_bodysystem_Hematological             0.6827        nan        nan        nan         nan         nan\n",
      "apache_3j_bodysystem_Metabolic                -0.7245        nan        nan        nan         nan         nan\n",
      "apache_3j_bodysystem_Musculoskeletal/Skin      0.4633        nan        nan        nan         nan         nan\n",
      "apache_3j_bodysystem_Neurological              0.0847        nan        nan        nan         nan         nan\n",
      "apache_3j_bodysystem_Respiratory               0.0888        nan        nan        nan         nan         nan\n",
      "apache_3j_bodysystem_Sepsis                    0.4327        nan        nan        nan         nan         nan\n",
      "apache_3j_bodysystem_Trauma                    0.1496        nan        nan        nan         nan         nan\n",
      "bmi_cat_underweight                            0.6105        nan        nan        nan         nan         nan\n",
      "bmi_cat_normal                                 0.2545        nan        nan        nan         nan         nan\n",
      "bmi_cat_overweight                             0.1561        nan        nan        nan         nan         nan\n",
      "bmi_cat_obesity                                0.0279        nan        nan        nan         nan         nan\n",
      "bmi_cat_morbid_obesity                         0.0975        nan        nan        nan         nan         nan\n",
      "gcs_cat_sever                                  0.4458        nan        nan        nan         nan         nan\n",
      "gcs_cat_moderate                               0.2586        nan        nan        nan         nan         nan\n",
      "gcs_cat_mild                                   0.4136        nan        nan        nan         nan         nan\n",
      "gcs_cat_normal                                 0.0284        nan        nan        nan         nan         nan\n",
      "age_cat_young_adult                           -0.0741        nan        nan        nan         nan         nan\n",
      "age_cat_adult                                  0.3064        nan        nan        nan         nan         nan\n",
      "age_cat_old_adult                              0.9142        nan        nan        nan         nan         nan\n",
      "h1_pluse_low                                   0.5738   1.14e+06   5.02e-07      1.000   -2.24e+06    2.24e+06\n",
      "h1_pluse_normal                                0.3218   1.17e+06   2.74e-07      1.000    -2.3e+06     2.3e+06\n",
      "h1_pluse_high                                  0.2509   1.18e+06   2.13e-07      1.000    -2.3e+06     2.3e+06\n",
      "heart_rate_cat_low                             0.1632        nan        nan        nan         nan         nan\n",
      "heart_rate_cat_normal                          0.3259        nan        nan        nan         nan         nan\n",
      "heart_rate_cat_high                            0.6574        nan        nan        nan         nan         nan\n",
      "map_cat_low                                    0.4867   5.02e+05   9.69e-07      1.000   -9.85e+05    9.85e+05\n",
      "map_cat_normal                                 0.3027   5.02e+05   6.03e-07      1.000   -9.85e+05    9.85e+05\n",
      "map_cat_high                                   0.3571   5.02e+05   7.11e-07      1.000   -9.85e+05    9.85e+05\n",
      "==============================================================================================================\n"
     ]
    }
   ],
   "source": [
    "#!pip install statsmodels\n",
    "import statsmodels.api as sm\n",
    "logit_model=sm.Logit(y,X)\n",
    "result=logit_model.fit()\n",
    "print(result.summary())"
   ]
  },
  {
   "cell_type": "code",
   "execution_count": null,
   "id": "ec07ff78",
   "metadata": {},
   "outputs": [],
   "source": []
  }
 ],
 "metadata": {
  "kernelspec": {
   "display_name": "Python 3 (ipykernel)",
   "language": "python",
   "name": "python3"
  },
  "language_info": {
   "codemirror_mode": {
    "name": "ipython",
    "version": 3
   },
   "file_extension": ".py",
   "mimetype": "text/x-python",
   "name": "python",
   "nbconvert_exporter": "python",
   "pygments_lexer": "ipython3",
   "version": "3.10.0"
  }
 },
 "nbformat": 4,
 "nbformat_minor": 5
}
