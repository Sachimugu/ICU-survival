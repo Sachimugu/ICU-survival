{
 "cells": [
  {
   "cell_type": "markdown",
   "id": "76b44c99",
   "metadata": {},
   "source": [
    "# Data Processing and Model Building\n",
    "## Table of Contents\n",
    "\n",
    "\n",
    "- #### Data Processing\n",
    "<ul>\n",
    "<li><a href=\"#ohe\">One Hot Encoding</a></li>\n",
    "<li><a href=\"#rfe\">Recrussive Feature Elimation</a></li>\n",
    "<li><a href=\"#dos\">Data Oversampling</a></li>\n",
    "</ul>\n",
    "- #### Model Building\n",
    "<ul>\n",
    "<li><a href=\"#im\">Implementing Models</a></li>\n",
    "<li><a href=\"#conclusions\">Summary</a></li>\n",
    "</ul>"
   ]
  },
  {
   "cell_type": "code",
   "execution_count": 1,
   "id": "e73e7215",
   "metadata": {},
   "outputs": [],
   "source": [
    "#import libraries\n",
    "import pandas as pd\n",
    "import numpy as np\n",
    "import seaborn as sns\n",
    "from matplotlib import pyplot as plt\n",
    "sns.set(style=\"white\")\n",
    "sns.set(style=\"whitegrid\", color_codes=True)\n",
    "%matplotlib inline\n",
    "import warnings\n",
    "warnings.filterwarnings('ignore')"
   ]
  },
  {
   "cell_type": "code",
   "execution_count": 2,
   "id": "8e49eca1",
   "metadata": {},
   "outputs": [],
   "source": [
    "df=pd.read_csv('../Datasets/clean_dataset')"
   ]
  },
  {
   "cell_type": "code",
   "execution_count": 3,
   "id": "599f913e",
   "metadata": {},
   "outputs": [
    {
     "data": {
      "text/html": [
       "<div>\n",
       "<style scoped>\n",
       "    .dataframe tbody tr th:only-of-type {\n",
       "        vertical-align: middle;\n",
       "    }\n",
       "\n",
       "    .dataframe tbody tr th {\n",
       "        vertical-align: top;\n",
       "    }\n",
       "\n",
       "    .dataframe thead th {\n",
       "        text-align: right;\n",
       "    }\n",
       "</style>\n",
       "<table border=\"1\" class=\"dataframe\">\n",
       "  <thead>\n",
       "    <tr style=\"text-align: right;\">\n",
       "      <th></th>\n",
       "      <th>age</th>\n",
       "      <th>bmi</th>\n",
       "      <th>elective_surgery</th>\n",
       "      <th>ethnicity</th>\n",
       "      <th>gender</th>\n",
       "      <th>height</th>\n",
       "      <th>icu_admit_source</th>\n",
       "      <th>icu_stay_type</th>\n",
       "      <th>icu_type</th>\n",
       "      <th>pre_icu_los_days</th>\n",
       "      <th>...</th>\n",
       "      <th>apache_3j_bodysystem</th>\n",
       "      <th>apache_2_bodysystem</th>\n",
       "      <th>hospital_death</th>\n",
       "      <th>bmi_cat</th>\n",
       "      <th>Gcs</th>\n",
       "      <th>gcs_cat</th>\n",
       "      <th>age_cat</th>\n",
       "      <th>h1_pluse_P</th>\n",
       "      <th>heart_rate_cat</th>\n",
       "      <th>map_cat</th>\n",
       "    </tr>\n",
       "  </thead>\n",
       "  <tbody>\n",
       "    <tr>\n",
       "      <th>0</th>\n",
       "      <td>68.0</td>\n",
       "      <td>22.73</td>\n",
       "      <td>0</td>\n",
       "      <td>Caucasian</td>\n",
       "      <td>M</td>\n",
       "      <td>180.3</td>\n",
       "      <td>Floor</td>\n",
       "      <td>admit</td>\n",
       "      <td>CTICU</td>\n",
       "      <td>0.541667</td>\n",
       "      <td>...</td>\n",
       "      <td>Sepsis</td>\n",
       "      <td>Cardiovascular</td>\n",
       "      <td>0</td>\n",
       "      <td>normal</td>\n",
       "      <td>13.0</td>\n",
       "      <td>mild</td>\n",
       "      <td>old_adult</td>\n",
       "      <td>high</td>\n",
       "      <td>high</td>\n",
       "      <td>low</td>\n",
       "    </tr>\n",
       "    <tr>\n",
       "      <th>1</th>\n",
       "      <td>77.0</td>\n",
       "      <td>27.42</td>\n",
       "      <td>0</td>\n",
       "      <td>Caucasian</td>\n",
       "      <td>F</td>\n",
       "      <td>160.0</td>\n",
       "      <td>Floor</td>\n",
       "      <td>admit</td>\n",
       "      <td>Med-Surg ICU</td>\n",
       "      <td>0.927778</td>\n",
       "      <td>...</td>\n",
       "      <td>Respiratory</td>\n",
       "      <td>Respiratory</td>\n",
       "      <td>0</td>\n",
       "      <td>overweight</td>\n",
       "      <td>5.0</td>\n",
       "      <td>sever</td>\n",
       "      <td>old_adult</td>\n",
       "      <td>low</td>\n",
       "      <td>high</td>\n",
       "      <td>low</td>\n",
       "    </tr>\n",
       "    <tr>\n",
       "      <th>2</th>\n",
       "      <td>67.0</td>\n",
       "      <td>27.56</td>\n",
       "      <td>0</td>\n",
       "      <td>Caucasian</td>\n",
       "      <td>M</td>\n",
       "      <td>190.5</td>\n",
       "      <td>Accident &amp; Emergency</td>\n",
       "      <td>admit</td>\n",
       "      <td>Med-Surg ICU</td>\n",
       "      <td>0.000694</td>\n",
       "      <td>...</td>\n",
       "      <td>Neurological</td>\n",
       "      <td>Neurologic</td>\n",
       "      <td>0</td>\n",
       "      <td>overweight</td>\n",
       "      <td>15.0</td>\n",
       "      <td>normal</td>\n",
       "      <td>old_adult</td>\n",
       "      <td>normal</td>\n",
       "      <td>high</td>\n",
       "      <td>high</td>\n",
       "    </tr>\n",
       "    <tr>\n",
       "      <th>3</th>\n",
       "      <td>70.0</td>\n",
       "      <td>29.00</td>\n",
       "      <td>0</td>\n",
       "      <td>Caucasian</td>\n",
       "      <td>M</td>\n",
       "      <td>165.0</td>\n",
       "      <td>Accident &amp; Emergency</td>\n",
       "      <td>admit</td>\n",
       "      <td>Med-Surg ICU</td>\n",
       "      <td>0.002083</td>\n",
       "      <td>...</td>\n",
       "      <td>Sepsis</td>\n",
       "      <td>Cardiovascular</td>\n",
       "      <td>0</td>\n",
       "      <td>overweight</td>\n",
       "      <td>15.0</td>\n",
       "      <td>normal</td>\n",
       "      <td>old_adult</td>\n",
       "      <td>normal</td>\n",
       "      <td>high</td>\n",
       "      <td>normal</td>\n",
       "    </tr>\n",
       "  </tbody>\n",
       "</table>\n",
       "<p>4 rows × 84 columns</p>\n",
       "</div>"
      ],
      "text/plain": [
       "    age    bmi  elective_surgery  ethnicity gender  height  \\\n",
       "0  68.0  22.73                 0  Caucasian      M   180.3   \n",
       "1  77.0  27.42                 0  Caucasian      F   160.0   \n",
       "2  67.0  27.56                 0  Caucasian      M   190.5   \n",
       "3  70.0  29.00                 0  Caucasian      M   165.0   \n",
       "\n",
       "       icu_admit_source icu_stay_type      icu_type  pre_icu_los_days  ...  \\\n",
       "0                 Floor         admit         CTICU          0.541667  ...   \n",
       "1                 Floor         admit  Med-Surg ICU          0.927778  ...   \n",
       "2  Accident & Emergency         admit  Med-Surg ICU          0.000694  ...   \n",
       "3  Accident & Emergency         admit  Med-Surg ICU          0.002083  ...   \n",
       "\n",
       "   apache_3j_bodysystem  apache_2_bodysystem  hospital_death     bmi_cat  \\\n",
       "0                Sepsis       Cardiovascular               0      normal   \n",
       "1           Respiratory          Respiratory               0  overweight   \n",
       "2          Neurological           Neurologic               0  overweight   \n",
       "3                Sepsis       Cardiovascular               0  overweight   \n",
       "\n",
       "    Gcs  gcs_cat    age_cat  h1_pluse_P  heart_rate_cat  map_cat  \n",
       "0  13.0     mild  old_adult        high            high      low  \n",
       "1   5.0    sever  old_adult         low            high      low  \n",
       "2  15.0   normal  old_adult      normal            high     high  \n",
       "3  15.0   normal  old_adult      normal            high   normal  \n",
       "\n",
       "[4 rows x 84 columns]"
      ]
     },
     "execution_count": 3,
     "metadata": {},
     "output_type": "execute_result"
    }
   ],
   "source": [
    "df.head(4)"
   ]
  },
  {
   "cell_type": "code",
   "execution_count": 4,
   "id": "3f40ae7a",
   "metadata": {
    "scrolled": false
   },
   "outputs": [
    {
     "name": "stdout",
     "output_type": "stream",
     "text": [
      "number of rows are: 61123\n",
      "number of columns are: 84\n"
     ]
    }
   ],
   "source": [
    "#rows and columns\n",
    "print('number of rows are:', df.shape[0]) \n",
    "print('number of columns are:', df.shape[1])"
   ]
  },
  {
   "cell_type": "markdown",
   "id": "ad53be45",
   "metadata": {},
   "source": [
    "> Most of these columns are repeatatives of other column  while some columns that start with d1_ are data recorded after 24 hours we are trying to predict patient survival in the first few hiurs of ICU admission inorder to priotise anad redeploy limited resources. \n"
   ]
  },
  {
   "cell_type": "code",
   "execution_count": 5,
   "id": "868aadd4",
   "metadata": {},
   "outputs": [],
   "source": [
    "# drop highly correclected and repeated columns\n",
    "df=df.drop(columns=['d1_diasbp_min', 'd1_diasbp_noninvasive_max','d1_diasbp_noninvasive_min', 'd1_heartrate_max',\n",
    "                    'd1_heartrate_min','d1_mbp_max', 'd1_mbp_min', 'd1_mbp_noninvasive_max','d1_mbp_noninvasive_min'\n",
    "                    , 'd1_resprate_max', 'd1_resprate_min','d1_spo2_max', 'd1_spo2_min', 'd1_sysbp_max',\n",
    "                    'd1_sysbp_min','d1_sysbp_noninvasive_max', 'd1_sysbp_noninvasive_min', 'd1_temp_max',\n",
    "                    'd1_temp_min', 'h1_diasbp_max', 'h1_diasbp_min','h1_diasbp_max', 'h1_diasbp_min',\n",
    "                    'h1_diasbp_noninvasive_max', 'h1_diasbp_noninvasive_min','h1_heartrate_max', \n",
    "                    'h1_heartrate_min', 'h1_mbp_max', 'h1_mbp_min','h1_mbp_noninvasive_max', \n",
    "                    'h1_mbp_noninvasive_min','h1_spo2_max', 'h1_spo2_min', 'h1_sysbp_max','h1_sysbp_min',\n",
    "                    'h1_sysbp_noninvasive_max', 'h1_sysbp_noninvasive_min','d1_glucose_max', 'd1_glucose_min',\n",
    "                    'd1_potassium_max','d1_potassium_min','age','weight','height','apache_2_diagnosis',\n",
    "                    'apache_2_bodysystem','intubated_apache','d1_diasbp_max','h1_resprate_max', 'h1_resprate_min',\n",
    "                    'gcs_unable_apache','heart_rate_apache','Gcs','bmi','apache_post_operative','cirrhosis',\n",
    "                    'apache_4a_hospital_death_prob','elective_surgery','resprate_apache','map_apache'])"
   ]
  },
  {
   "cell_type": "code",
   "execution_count": 6,
   "id": "b03ee220",
   "metadata": {
    "scrolled": true
   },
   "outputs": [
    {
     "name": "stdout",
     "output_type": "stream",
     "text": [
      "number of rows are: 61123\n",
      "number of columns are: 26\n"
     ]
    }
   ],
   "source": [
    "#rows and columns\n",
    "print('number of rows are:', df.shape[0]) \n",
    "print('number of columns are:', df.shape[1])"
   ]
  },
  {
   "cell_type": "markdown",
   "id": "79754aae",
   "metadata": {},
   "source": [
    "<a name=\"ohe\"></a>\n",
    "## One Hot Encoding"
   ]
  },
  {
   "cell_type": "code",
   "execution_count": 7,
   "id": "677851d7",
   "metadata": {},
   "outputs": [
    {
     "name": "stdout",
     "output_type": "stream",
     "text": [
      "Index(['ethnicity', 'gender', 'icu_admit_source', 'icu_stay_type', 'icu_type',\n",
      "       'apache_3j_bodysystem', 'bmi_cat', 'gcs_cat', 'age_cat', 'h1_pluse_P',\n",
      "       'heart_rate_cat', 'map_cat'],\n",
      "      dtype='object')\n"
     ]
    }
   ],
   "source": [
    "# one hot encoding object and categorical columns\n",
    "cols=df.columns[(df.dtypes=='object') | (df.dtypes=='category')]\n",
    "print(cols)\n",
    "cat_col=df[cols]"
   ]
  },
  {
   "cell_type": "code",
   "execution_count": 8,
   "id": "710f3332",
   "metadata": {},
   "outputs": [],
   "source": [
    "x=pd.get_dummies(cat_col) # convert categorical columns to dummies\n",
    "df=df.drop(cols, axis=1) # drop original columns\n",
    "df=df.join(x) #join dummies"
   ]
  },
  {
   "cell_type": "code",
   "execution_count": 9,
   "id": "c247db56",
   "metadata": {
    "scrolled": true
   },
   "outputs": [
    {
     "name": "stdout",
     "output_type": "stream",
     "text": [
      "number of rows are: 61123\n",
      "number of columns are: 70\n"
     ]
    }
   ],
   "source": [
    "#rows and columns\n",
    "print('number of rows are:', df.shape[0]) \n",
    "print('number of columns are:', df.shape[1])"
   ]
  },
  {
   "cell_type": "markdown",
   "id": "a1398f25",
   "metadata": {},
   "source": [
    "<a home=\"rfe\"></a>\n",
    "## Recrussive Feature Elimation"
   ]
  },
  {
   "cell_type": "code",
   "execution_count": 10,
   "id": "ecabc709",
   "metadata": {},
   "outputs": [],
   "source": [
    "#Seperating dependent and independent feature\n",
    "X=df.drop('hospital_death', axis=1)\n",
    "y=df['hospital_death']"
   ]
  },
  {
   "cell_type": "code",
   "execution_count": 12,
   "id": "79a9c4fe",
   "metadata": {},
   "outputs": [],
   "source": [
    "#import rfe\n",
    "from sklearn.feature_selection import RFE\n",
    "from sklearn.linear_model import LogisticRegression"
   ]
  },
  {
   "cell_type": "code",
   "execution_count": 13,
   "id": "311901d7",
   "metadata": {},
   "outputs": [],
   "source": [
    "#fit rfe with X and y\n",
    "model = LogisticRegression()\n",
    "rfe = RFE(model, n_features_to_select=16 )\n",
    "rfe = rfe.fit(X,y)"
   ]
  },
  {
   "cell_type": "code",
   "execution_count": 15,
   "id": "1c271af7",
   "metadata": {},
   "outputs": [
    {
     "data": {
      "text/plain": [
       "Index(['arf_apache', 'ventilated_apache', 'apache_4a_icu_death_prob',\n",
       "       'hepatic_failure', 'leukemia', 'lymphoma',\n",
       "       'solid_tumor_with_metastasis',\n",
       "       'icu_admit_source_Operating Room / Recovery',\n",
       "       'icu_admit_source_Other ICU', 'apache_3j_bodysystem_Metabolic',\n",
       "       'bmi_cat_underweight', 'gcs_cat_normal', 'age_cat_old_adult',\n",
       "       'age_cat_young_adult', 'h1_pluse_P_low', 'heart_rate_cat_high'],\n",
       "      dtype='object')"
      ]
     },
     "execution_count": 15,
     "metadata": {},
     "output_type": "execute_result"
    }
   ],
   "source": [
    "rfe_in = rfe.get_support() # get the index of the top useful columns\n",
    "X=X[X.columns[rfe_in]] # make a data frame of the new features\n",
    "X.columns "
   ]
  },
  {
   "cell_type": "code",
   "execution_count": 16,
   "id": "1f4c446a",
   "metadata": {
    "scrolled": false
   },
   "outputs": [
    {
     "name": "stdout",
     "output_type": "stream",
     "text": [
      "Optimization terminated successfully.\n",
      "         Current function value: 0.282789\n",
      "         Iterations 8\n",
      "                           Logit Regression Results                           \n",
      "==============================================================================\n",
      "Dep. Variable:         hospital_death   No. Observations:                61123\n",
      "Model:                          Logit   Df Residuals:                    61107\n",
      "Method:                           MLE   Df Model:                           15\n",
      "Date:                Fri, 10 Jun 2022   Pseudo R-squ.:                 0.05603\n",
      "Time:                        15:18:03   Log-Likelihood:                -17285.\n",
      "converged:                       True   LL-Null:                       -18311.\n",
      "Covariance Type:            nonrobust   LLR p-value:                     0.000\n",
      "==============================================================================================================\n",
      "                                                 coef    std err          z      P>|z|      [0.025      0.975]\n",
      "--------------------------------------------------------------------------------------------------------------\n",
      "arf_apache                                    -0.3092      0.081     -3.807      0.000      -0.468      -0.150\n",
      "ventilated_apache                             -0.3484      0.033    -10.570      0.000      -0.413      -0.284\n",
      "apache_4a_icu_death_prob                       3.4178      0.089     38.299      0.000       3.243       3.593\n",
      "hepatic_failure                               -0.2395      0.104     -2.299      0.021      -0.444      -0.035\n",
      "leukemia                                       0.4227      0.138      3.053      0.002       0.151       0.694\n",
      "lymphoma                                       0.3809      0.194      1.967      0.049       0.001       0.760\n",
      "solid_tumor_with_metastasis                    0.5689      0.082      6.920      0.000       0.408       0.730\n",
      "icu_admit_source_Operating Room / Recovery    -1.3238      0.053    -25.070      0.000      -1.427      -1.220\n",
      "icu_admit_source_Other ICU                     1.9720      0.194     10.168      0.000       1.592       2.352\n",
      "apache_3j_bodysystem_Metabolic                -2.4504      0.109    -22.554      0.000      -2.663      -2.237\n",
      "bmi_cat_underweight                            0.1264      0.064      1.981      0.048       0.001       0.251\n",
      "gcs_cat_normal                                -1.8277      0.030    -60.567      0.000      -1.887      -1.769\n",
      "age_cat_old_adult                             -1.1831      0.024    -48.762      0.000      -1.231      -1.136\n",
      "age_cat_young_adult                           -1.8224      0.073    -24.804      0.000      -1.966      -1.678\n",
      "h1_pluse_P_low                                -0.1915      0.034     -5.598      0.000      -0.259      -0.124\n",
      "heart_rate_cat_high                           -0.7283      0.026    -27.623      0.000      -0.780      -0.677\n",
      "==============================================================================================================\n"
     ]
    }
   ],
   "source": [
    "# statmodles\n",
    "import statsmodels.api as sm\n",
    "logit_model=sm.Logit(y,X)\n",
    "result=logit_model.fit()\n",
    "print(result.summary())"
   ]
  },
  {
   "cell_type": "markdown",
   "id": "6feeca89",
   "metadata": {},
   "source": [
    "The p-values for most of the variables are very small, therefore, most of them are significant to the model."
   ]
  },
  {
   "cell_type": "markdown",
   "id": "7a525682",
   "metadata": {},
   "source": [
    "<a home=\"dos\"></a>\n",
    "## Data Oversampling"
   ]
  },
  {
   "cell_type": "code",
   "execution_count": 97,
   "id": "71025623",
   "metadata": {},
   "outputs": [],
   "source": [
    "# Split data into train and test dataset\n",
    "from sklearn.model_selection import train_test_split\n",
    "X_train, X_test, y_train, y_test = train_test_split(X, y, test_size=0.2, random_state=42)"
   ]
  },
  {
   "cell_type": "code",
   "execution_count": 98,
   "id": "bbe6733e",
   "metadata": {},
   "outputs": [],
   "source": [
    "X_train['hospital_death']=y_train # combine y_train back to oversample imbalance in dataset\n",
    "from sklearn.utils import resample\n",
    "# Separate majority and minority classes\n",
    "df_majority = X_train[X_train['hospital_death']==0]\n",
    "df_minority = X_train[X_train['hospital_death']==1]\n",
    "# Upsample minority class\n",
    "df_minority_upsampled = resample(df_minority, \n",
    "                                 replace=True,     # sample with replacement\n",
    "                                 n_samples=44611,    # to match majority class\n",
    "                                 random_state=123) # reproducible results\n",
    "X_train= pd.concat([df_majority, df_minority_upsampled])"
   ]
  },
  {
   "cell_type": "code",
   "execution_count": 99,
   "id": "4eb55063",
   "metadata": {},
   "outputs": [],
   "source": [
    "# seperataing back\n",
    "y_train=X_train['hospital_death']\n",
    "X_train=X_train.drop('hospital_death', axis=1)"
   ]
  },
  {
   "cell_type": "markdown",
   "id": "c7ad553a",
   "metadata": {},
   "source": [
    "<a home=\"im\"></a>\n",
    "## Implementing Models"
   ]
  },
  {
   "cell_type": "code",
   "execution_count": 100,
   "id": "83463d72",
   "metadata": {},
   "outputs": [],
   "source": [
    "# initalised empty list to append model metrics \n",
    "models = []\n",
    "roc_aucs = []\n",
    "recalls = []"
   ]
  },
  {
   "cell_type": "code",
   "execution_count": 101,
   "id": "ba0fc6b7",
   "metadata": {},
   "outputs": [],
   "source": [
    "from sklearn.metrics import classification_report\n",
    "from sklearn import metrics\n",
    "from sklearn.metrics import roc_auc_score\n",
    "from sklearn.metrics import roc_curve\n",
    "from sklearn.metrics import confusion_matrix"
   ]
  },
  {
   "cell_type": "markdown",
   "id": "dde20f17",
   "metadata": {},
   "source": [
    "### Logistic Regression"
   ]
  },
  {
   "cell_type": "code",
   "execution_count": 102,
   "id": "4fc6ed05",
   "metadata": {},
   "outputs": [],
   "source": [
    "from sklearn.linear_model import LogisticRegression\n",
    "lr=LogisticRegression()\n",
    "models.append('LogisticRegression')"
   ]
  },
  {
   "cell_type": "code",
   "execution_count": 103,
   "id": "a30bbb02",
   "metadata": {},
   "outputs": [],
   "source": [
    "lr_model = lr.fit(X_train, y_train)\n",
    "lr_pred = lr_model.predict(X_test)"
   ]
  },
  {
   "cell_type": "code",
   "execution_count": 104,
   "id": "190605a2",
   "metadata": {
    "scrolled": true
   },
   "outputs": [],
   "source": [
    "roc_aucs.append(roc_auc_score(y_test, lr_pred))\n",
    "recalls.append(metrics.recall_score(y_test,lr_pred))"
   ]
  },
  {
   "cell_type": "code",
   "execution_count": 105,
   "id": "6b7871d6",
   "metadata": {},
   "outputs": [
    {
     "data": {
      "image/png": "[encoded data removed]",
      "text/plain": [
       "<Figure size 1080x360 with 3 Axes>"
      ]
     },
     "metadata": {
      "needs_background": "light"
     },
     "output_type": "display_data"
    }
   ],
   "source": [
    "plt.figure(figsize=(15,5))\n",
    "\n",
    "ax1=plt.subplot(1, 2, 1)\n",
    "cm = confusion_matrix(y_test, lr_pred)\n",
    "sns.heatmap(cm, annot=True, fmt=\".1f\", linewidths=.3, \n",
    "        square = True, cmap = 'PuBu', ax=ax1)\n",
    "plt.ylabel('Actual label')\n",
    "plt.xlabel('Predicted label')\n",
    "plt.title('Confusion Matrix')\n",
    "\n",
    "ax2=plt.subplot(1, 2, 2)\n",
    "logit_roc_auc = roc_auc_score(y_test, lr_pred)\n",
    "fpr, tpr, thresholds = roc_curve(y_test, lr_model.predict_proba(X_test)[:,1])\n",
    "sns.lineplot(fpr, tpr, label=f'Logistic Regression auc: {round(logit_roc_auc,2)}', ax=ax2)\n",
    "sns.lineplot([0, 1], [0, 1], ax=ax2, markers='r--',label=f'auc: 0.5')\n",
    "\n",
    "plt.xlabel('False Positive Rate')\n",
    "plt.ylabel('True Positive Rate')\n",
    "plt.title('Receiver operating characteristic')\n",
    "plt.legend(loc=\"lower right\");"
   ]
  },
  {
   "cell_type": "code",
   "execution_count": 106,
   "id": "be478fa4",
   "metadata": {},
   "outputs": [
    {
     "name": "stdout",
     "output_type": "stream",
     "text": [
      "classification_report for Logistic Regression \n",
      "\n",
      "              precision    recall  f1-score   support\n",
      "\n",
      "           0       0.97      0.80      0.87     11089\n",
      "           1       0.26      0.72      0.39      1136\n",
      "\n",
      "    accuracy                           0.79     12225\n",
      "   macro avg       0.62      0.76      0.63     12225\n",
      "weighted avg       0.90      0.79      0.83     12225\n",
      "\n"
     ]
    }
   ],
   "source": [
    "print('classification_report for Logistic Regression', '\\n')\n",
    "print(classification_report(y_test, lr_pred))"
   ]
  },
  {
   "cell_type": "markdown",
   "id": "87f1123a",
   "metadata": {},
   "source": [
    "## Random Forest Classifier"
   ]
  },
  {
   "cell_type": "code",
   "execution_count": 107,
   "id": "dd00e6d9",
   "metadata": {},
   "outputs": [],
   "source": [
    "from sklearn.ensemble import RandomForestClassifier\n",
    "rf = RandomForestClassifier(n_estimators=42)\n",
    "models.append('RandomForest')"
   ]
  },
  {
   "cell_type": "code",
   "execution_count": 108,
   "id": "86f0344f",
   "metadata": {},
   "outputs": [],
   "source": [
    "rf_model = rf.fit(X_train, y_train)\n",
    "rf_pred = rf_model.predict(X_test)"
   ]
  },
  {
   "cell_type": "code",
   "execution_count": 109,
   "id": "388a43a5",
   "metadata": {},
   "outputs": [],
   "source": [
    "roc_aucs.append(roc_auc_score(y_test, rf_pred))\n",
    "recalls.append(metrics.recall_score(y_test, rf_pred))"
   ]
  },
  {
   "cell_type": "code",
   "execution_count": 110,
   "id": "af6de11d",
   "metadata": {},
   "outputs": [
    {
     "data": {
      "image/png": "[encoded data removed]",
      "text/plain": [
       "<Figure size 1080x360 with 3 Axes>"
      ]
     },
     "metadata": {
      "needs_background": "light"
     },
     "output_type": "display_data"
    }
   ],
   "source": [
    "plt.figure(figsize=(15,5))\n",
    "\n",
    "ax1=plt.subplot(1, 2, 1)\n",
    "cm = confusion_matrix(y_test, rf_pred)\n",
    "sns.heatmap(cm, annot=True, fmt=\".1f\", linewidths=.3, \n",
    "        square = True, cmap = 'PuBu', ax=ax1)\n",
    "plt.ylabel('Actual label')\n",
    "plt.xlabel('Predicted label')\n",
    "plt.title('Confusion Matrix')\n",
    "\n",
    "ax2=plt.subplot(1, 2, 2)\n",
    "logit_roc_auc = roc_auc_score(y_test, rf_pred)\n",
    "fpr, tpr, thresholds = roc_curve(y_test, rf_model.predict_proba(X_test)[:,1])\n",
    "sns.lineplot(fpr, tpr, label=f'Random Forest auc: {round(logit_roc_auc,2)}', ax=ax2)\n",
    "sns.lineplot([0, 1], [0, 1], ax=ax2, markers='r--',label=f'auc: 0.5')\n",
    "\n",
    "plt.xlabel('False Positive Rate')\n",
    "plt.ylabel('True Positive Rate')\n",
    "plt.title('Receiver operating characteristic')\n",
    "plt.legend(loc=\"lower right\");"
   ]
  },
  {
   "cell_type": "code",
   "execution_count": 111,
   "id": "d9498e72",
   "metadata": {},
   "outputs": [
    {
     "name": "stdout",
     "output_type": "stream",
     "text": [
      "classification_report for Random Forest \n",
      "\n",
      "              precision    recall  f1-score   support\n",
      "\n",
      "           0       0.95      0.81      0.88     11089\n",
      "           1       0.25      0.60      0.35      1136\n",
      "\n",
      "    accuracy                           0.79     12225\n",
      "   macro avg       0.60      0.70      0.61     12225\n",
      "weighted avg       0.89      0.79      0.83     12225\n",
      "\n"
     ]
    }
   ],
   "source": [
    "print('classification_report for Random Forest', '\\n')\n",
    "print(classification_report(y_test, rf_pred))"
   ]
  },
  {
   "cell_type": "markdown",
   "id": "3e645f47",
   "metadata": {},
   "source": [
    "## Support Vector Machines"
   ]
  },
  {
   "cell_type": "code",
   "execution_count": 112,
   "id": "f3f36f34",
   "metadata": {},
   "outputs": [],
   "source": [
    "from sklearn.svm import SVC\n",
    "svm = SVC()\n",
    "models.append('SupportVector' )"
   ]
  },
  {
   "cell_type": "code",
   "execution_count": 113,
   "id": "b06ddb95",
   "metadata": {},
   "outputs": [],
   "source": [
    "svm_model=svm.fit(X_train, y_train)\n",
    "svm_pred = svm_model.predict(X_test)"
   ]
  },
  {
   "cell_type": "code",
   "execution_count": 114,
   "id": "48e9197d",
   "metadata": {},
   "outputs": [],
   "source": [
    "roc_aucs.append(roc_auc_score(y_test, svm_pred))\n",
    "recalls.append(metrics.recall_score(y_test, svm_pred))"
   ]
  },
  {
   "cell_type": "code",
   "execution_count": 115,
   "id": "2d595355",
   "metadata": {},
   "outputs": [],
   "source": [
    "plt.figure(figsize=(15,5))\n",
    "\n",
    "ax1=plt.subplot(1, 2, 1)\n",
    "cm = confusion_matrix(y_test, svm_pred)\n",
    "sns.heatmap(cm, annot=True, fmt=\".1f\", linewidths=.3, \n",
    "        square = True, cmap = 'PuBu', ax=ax1)\n",
    "plt.ylabel('Actual label')\n",
    "plt.xlabel('Predicted label')\n",
    "plt.title('Confusion Matrix')\n",
    "\n",
    "ax2=plt.subplot(1, 2, 2)\n",
    "logit_roc_auc = roc_auc_score(y_test, svm_pred)\n",
    "fpr, tpr, thresholds = roc_curve(y_test, svm_model.predict_proba(X_test)[:,1])\n",
    "sns.lineplot(fpr, tpr, label=f'Support Vector Machines auc: {round(logit_roc_auc,2)}', ax=ax2)\n",
    "sns.lineplot([0, 1], [0, 1], ax=ax2, markers='r--',label=f'auc: 0.5')\n",
    "\n",
    "plt.xlabel('False Positive Rate')\n",
    "plt.ylabel('True Positive Rate')\n",
    "plt.title('Receiver operating characteristic')\n",
    "plt.legend(loc=\"lower right\");"
   ]
  },
  {
   "cell_type": "code",
   "execution_count": 116,
   "id": "a61a9915",
   "metadata": {},
   "outputs": [
    {
     "name": "stdout",
     "output_type": "stream",
     "text": [
      "classification_report for Support Vector Machines \n",
      "\n",
      "              precision    recall  f1-score   support\n",
      "\n",
      "           0       0.96      0.80      0.87     11089\n",
      "           1       0.26      0.71      0.38      1136\n",
      "\n",
      "    accuracy                           0.79     12225\n",
      "   macro avg       0.61      0.75      0.63     12225\n",
      "weighted avg       0.90      0.79      0.83     12225\n",
      "\n"
     ]
    }
   ],
   "source": [
    "print('classification_report for Support Vector Machines', '\\n')\n",
    "print(classification_report(y_test, svm_pred))"
   ]
  },
  {
   "cell_type": "markdown",
   "id": "bb071887",
   "metadata": {},
   "source": [
    "## Decision Tree Classifier"
   ]
  },
  {
   "cell_type": "code",
   "execution_count": 118,
   "id": "9ccf11ca",
   "metadata": {},
   "outputs": [],
   "source": [
    "from sklearn import tree\n",
    "dt = tree.DecisionTreeClassifier()\n",
    "models.append('DecisionTree')"
   ]
  },
  {
   "cell_type": "code",
   "execution_count": 119,
   "id": "a65bfbd7",
   "metadata": {},
   "outputs": [],
   "source": [
    "dt_model=dt.fit(X_train, y_train)\n",
    "dt_pred = dt_model.predict(X_test)"
   ]
  },
  {
   "cell_type": "code",
   "execution_count": 120,
   "id": "7208e163",
   "metadata": {},
   "outputs": [],
   "source": [
    "roc_aucs.append(roc_auc_score(y_test, dt_pred))\n",
    "recalls.append(metrics.recall_score(y_test, dt_pred))"
   ]
  },
  {
   "cell_type": "code",
   "execution_count": 121,
   "id": "9ff2e3b3",
   "metadata": {
    "scrolled": true
   },
   "outputs": [
    {
     "data": {
      "image/png": "[encoded data removed]",
      "text/plain": [
       "<Figure size 1080x360 with 3 Axes>"
      ]
     },
     "metadata": {
      "needs_background": "light"
     },
     "output_type": "display_data"
    }
   ],
   "source": [
    "plt.figure(figsize=(15,5))\n",
    "\n",
    "ax1=plt.subplot(1, 2, 1)\n",
    "cm = confusion_matrix(y_test, lr_pred)\n",
    "sns.heatmap(cm, annot=True, fmt=\".1f\", linewidths=.3, \n",
    "        square = True, cmap = 'PuBu', ax=ax1)\n",
    "plt.ylabel('Actual label')\n",
    "plt.xlabel('Predicted label')\n",
    "plt.title('Confusion Matrix')\n",
    "\n",
    "ax2=plt.subplot(1, 2, 2)\n",
    "logit_roc_auc = roc_auc_score(y_test, dt_pred)\n",
    "fpr, tpr, thresholds = roc_curve(y_test, dt_model.predict_proba(X_test)[:,1])\n",
    "sns.lineplot(fpr, tpr, label=f'Decision Tree auc: {round(logit_roc_auc,2)}', ax=ax2)\n",
    "sns.lineplot([0, 1], [0, 1], ax=ax2, markers='r--',label=f'auc: 0.5')\n",
    "\n",
    "plt.xlabel('False Positive Rate')\n",
    "plt.ylabel('True Positive Rate')\n",
    "plt.title('Receiver operating characteristic')\n",
    "plt.legend(loc=\"lower right\");"
   ]
  },
  {
   "cell_type": "code",
   "execution_count": 122,
   "id": "2fc48d68",
   "metadata": {},
   "outputs": [
    {
     "name": "stdout",
     "output_type": "stream",
     "text": [
      "classification_report for Decision Tree \n",
      "\n",
      "              precision    recall  f1-score   support\n",
      "\n",
      "           0       0.95      0.81      0.88     11089\n",
      "           1       0.24      0.59      0.35      1136\n",
      "\n",
      "    accuracy                           0.79     12225\n",
      "   macro avg       0.60      0.70      0.61     12225\n",
      "weighted avg       0.89      0.79      0.83     12225\n",
      "\n"
     ]
    }
   ],
   "source": [
    "print('classification_report for Decision Tree', '\\n')\n",
    "print(classification_report(y_test, dt_pred))"
   ]
  },
  {
   "cell_type": "markdown",
   "id": "b7d213c8",
   "metadata": {},
   "source": [
    "## Gradient Booster"
   ]
  },
  {
   "cell_type": "code",
   "execution_count": 123,
   "id": "cdacbeeb",
   "metadata": {},
   "outputs": [],
   "source": [
    "from xgboost import XGBClassifier\n",
    "Xgb = XGBClassifier(verbosity = 0)\n",
    "models.append('XGBClassifier')"
   ]
  },
  {
   "cell_type": "code",
   "execution_count": 124,
   "id": "f4eaf373",
   "metadata": {},
   "outputs": [],
   "source": [
    "Xgb_model=Xgb.fit(X_train, y_train)\n",
    "Xgb_pred = Xgb_model.predict(X_test)"
   ]
  },
  {
   "cell_type": "code",
   "execution_count": 125,
   "id": "4f6213f1",
   "metadata": {},
   "outputs": [],
   "source": [
    "roc_aucs.append(roc_auc_score(y_test, Xgb_pred))\n",
    "recalls.append(metrics.recall_score(y_test, Xgb_pred))"
   ]
  },
  {
   "cell_type": "code",
   "execution_count": 126,
   "id": "21f69b47",
   "metadata": {},
   "outputs": [
    {
     "data": {
      "image/png": "[encoded data removed]",
      "text/plain": [
       "<Figure size 1080x360 with 3 Axes>"
      ]
     },
     "metadata": {
      "needs_background": "light"
     },
     "output_type": "display_data"
    }
   ],
   "source": [
    "plt.figure(figsize=(15,5))\n",
    "\n",
    "ax1=plt.subplot(1, 2, 1)\n",
    "cm = confusion_matrix(y_test, Xgb_pred)\n",
    "sns.heatmap(cm, annot=True, fmt=\".1f\", linewidths=.3, \n",
    "        square = True, cmap = 'PuBu', ax=ax1)\n",
    "plt.ylabel('Actual label')\n",
    "plt.xlabel('Predicted label')\n",
    "plt.title('Confusion Matrix')\n",
    "\n",
    "ax2=plt.subplot(1, 2, 2)\n",
    "logit_roc_auc = roc_auc_score(y_test, Xgb_pred)\n",
    "fpr, tpr, thresholds = roc_curve(y_test, Xgb_model.predict_proba(X_test)[:,1])\n",
    "sns.lineplot(fpr, tpr, label=f'XGradient Booster auc: {round(logit_roc_auc,2)}', ax=ax2)\n",
    "sns.lineplot([0, 1], [0, 1], ax=ax2, markers='r--',label=f'auc: 0.5')\n",
    "\n",
    "plt.xlabel('False Positive Rate')\n",
    "plt.ylabel('True Positive Rate')\n",
    "plt.title('Receiver operating characteristic')\n",
    "plt.legend(loc=\"lower right\");"
   ]
  },
  {
   "cell_type": "code",
   "execution_count": 127,
   "id": "3ff73c26",
   "metadata": {},
   "outputs": [
    {
     "name": "stdout",
     "output_type": "stream",
     "text": [
      "classification_report for Gradient Booster, \n",
      "\n",
      "              precision    recall  f1-score   support\n",
      "\n",
      "           0       0.97      0.78      0.86     11089\n",
      "           1       0.26      0.74      0.38      1136\n",
      "\n",
      "    accuracy                           0.78     12225\n",
      "   macro avg       0.61      0.76      0.62     12225\n",
      "weighted avg       0.90      0.78      0.82     12225\n",
      "\n"
     ]
    }
   ],
   "source": [
    "print('classification_report for Gradient Booster, \\n')\n",
    "print(classification_report(y_test, Xgb_pred))"
   ]
  },
  {
   "cell_type": "markdown",
   "id": "61c3f7e3",
   "metadata": {},
   "source": [
    "## KNeighbors Classifier"
   ]
  },
  {
   "cell_type": "code",
   "execution_count": 128,
   "id": "c72b5ecc",
   "metadata": {},
   "outputs": [],
   "source": [
    "from sklearn.neighbors import KNeighborsClassifier\n",
    "knn = KNeighborsClassifier()\n",
    "models.append('KNeighbors')"
   ]
  },
  {
   "cell_type": "code",
   "execution_count": 129,
   "id": "473dd649",
   "metadata": {},
   "outputs": [],
   "source": [
    "knn_model=knn.fit(X_train, y_train)\n",
    "knn_pred = knn_model.predict(X_test)"
   ]
  },
  {
   "cell_type": "code",
   "execution_count": 130,
   "id": "398b9548",
   "metadata": {},
   "outputs": [],
   "source": [
    "roc_aucs.append(roc_auc_score(y_test, knn_pred))\n",
    "recalls.append(metrics.recall_score(y_test, knn_pred))"
   ]
  },
  {
   "cell_type": "code",
   "execution_count": 131,
   "id": "91e6b9a5",
   "metadata": {},
   "outputs": [
    {
     "data": {
      "image/png": "[encoded data removed]",
      "text/plain": [
       "<Figure size 1080x360 with 3 Axes>"
      ]
     },
     "metadata": {
      "needs_background": "light"
     },
     "output_type": "display_data"
    }
   ],
   "source": [
    "plt.figure(figsize=(15,5))\n",
    "\n",
    "ax1=plt.subplot(1, 2, 1)\n",
    "cm = confusion_matrix(y_test, lr_pred)\n",
    "sns.heatmap(cm, annot=True, fmt=\".1f\", linewidths=.3, \n",
    "        square = True, cmap = 'PuBu', ax=ax1)\n",
    "plt.ylabel('Actual label')\n",
    "plt.xlabel('Predicted label')\n",
    "plt.title('Confusion Matrix')\n",
    "\n",
    "ax2=plt.subplot(1, 2, 2)\n",
    "logit_roc_auc = roc_auc_score(y_test, knn_pred)\n",
    "fpr, tpr, thresholds = roc_curve(y_test, knn_model.predict_proba(X_test)[:,1])\n",
    "sns.lineplot(fpr, tpr, label=f'KNeighbors auc: {round(logit_roc_auc,2)}', ax=ax2)\n",
    "sns.lineplot([0, 1], [0, 1], ax=ax2, markers='r--',label=f'auc: 0.5')\n",
    "\n",
    "plt.xlabel('False Positive Rate')\n",
    "plt.ylabel('True Positive Rate')\n",
    "plt.title('Receiver operating characteristic')\n",
    "plt.legend(loc=\"lower right\");"
   ]
  },
  {
   "cell_type": "code",
   "execution_count": 132,
   "id": "e2283165",
   "metadata": {},
   "outputs": [
    {
     "name": "stdout",
     "output_type": "stream",
     "text": [
      "classification_report for KNeighbors, \n",
      "\n",
      "              precision    recall  f1-score   support\n",
      "\n",
      "           0       0.93      0.96      0.94     11089\n",
      "           1       0.39      0.26      0.31      1136\n",
      "\n",
      "    accuracy                           0.89     12225\n",
      "   macro avg       0.66      0.61      0.63     12225\n",
      "weighted avg       0.88      0.89      0.88     12225\n",
      "\n"
     ]
    }
   ],
   "source": [
    "print('classification_report for KNeighbors, \\n')\n",
    "print(classification_report(y_test, knn_pred))"
   ]
  },
  {
   "cell_type": "code",
   "execution_count": 134,
   "id": "c4614634",
   "metadata": {
    "scrolled": true
   },
   "outputs": [
    {
     "data": {
      "text/html": [
       "<div>\n",
       "<style scoped>\n",
       "    .dataframe tbody tr th:only-of-type {\n",
       "        vertical-align: middle;\n",
       "    }\n",
       "\n",
       "    .dataframe tbody tr th {\n",
       "        vertical-align: top;\n",
       "    }\n",
       "\n",
       "    .dataframe thead th {\n",
       "        text-align: right;\n",
       "    }\n",
       "</style>\n",
       "<table border=\"1\" class=\"dataframe\">\n",
       "  <thead>\n",
       "    <tr style=\"text-align: right;\">\n",
       "      <th></th>\n",
       "      <th>models</th>\n",
       "      <th>roc_aucs</th>\n",
       "      <th>recalls</th>\n",
       "    </tr>\n",
       "  </thead>\n",
       "  <tbody>\n",
       "    <tr>\n",
       "      <th>0</th>\n",
       "      <td>LogisticRegression</td>\n",
       "      <td>0.757377</td>\n",
       "      <td>0.719190</td>\n",
       "    </tr>\n",
       "    <tr>\n",
       "      <th>1</th>\n",
       "      <td>RandomForest</td>\n",
       "      <td>0.704008</td>\n",
       "      <td>0.595951</td>\n",
       "    </tr>\n",
       "    <tr>\n",
       "      <th>2</th>\n",
       "      <td>SupportVector</td>\n",
       "      <td>0.753585</td>\n",
       "      <td>0.712148</td>\n",
       "    </tr>\n",
       "    <tr>\n",
       "      <th>3</th>\n",
       "      <td>DecisionTree</td>\n",
       "      <td>0.702192</td>\n",
       "      <td>0.593310</td>\n",
       "    </tr>\n",
       "    <tr>\n",
       "      <th>4</th>\n",
       "      <td>XGBClassifier</td>\n",
       "      <td>0.759721</td>\n",
       "      <td>0.737676</td>\n",
       "    </tr>\n",
       "    <tr>\n",
       "      <th>5</th>\n",
       "      <td>KNeighbors</td>\n",
       "      <td>0.607780</td>\n",
       "      <td>0.257042</td>\n",
       "    </tr>\n",
       "  </tbody>\n",
       "</table>\n",
       "</div>"
      ],
      "text/plain": [
       "               models  roc_aucs   recalls\n",
       "0  LogisticRegression  0.757377  0.719190\n",
       "1        RandomForest  0.704008  0.595951\n",
       "2       SupportVector  0.753585  0.712148\n",
       "3        DecisionTree  0.702192  0.593310\n",
       "4       XGBClassifier  0.759721  0.737676\n",
       "5          KNeighbors  0.607780  0.257042"
      ]
     },
     "execution_count": 134,
     "metadata": {},
     "output_type": "execute_result"
    }
   ],
   "source": [
    "df = pd.DataFrame({\n",
    "    'models' : models,\n",
    "    'roc_aucs' : roc_aucs,\n",
    "    'recalls' : recalls\n",
    "})\n",
    "df"
   ]
  },
  {
   "cell_type": "code",
   "execution_count": null,
   "id": "c5f28500",
   "metadata": {},
   "outputs": [],
   "source": []
  },
  {
   "cell_type": "code",
   "execution_count": null,
   "id": "83166c47",
   "metadata": {},
   "outputs": [],
   "source": []
  },
  {
   "cell_type": "code",
   "execution_count": null,
   "id": "783432b8",
   "metadata": {},
   "outputs": [],
   "source": []
  },
  {
   "cell_type": "code",
   "execution_count": null,
   "id": "c768181d",
   "metadata": {},
   "outputs": [],
   "source": []
  },
  {
   "cell_type": "code",
   "execution_count": null,
   "id": "a4a5b75f",
   "metadata": {},
   "outputs": [],
   "source": []
  },
  {
   "cell_type": "code",
   "execution_count": 61,
   "id": "663a2747",
   "metadata": {},
   "outputs": [],
   "source": [
    "cols=list(df.columns[df.dtypes=='object'])#catgorical columns\n",
    "cat_col=df[cols]"
   ]
  },
  {
   "cell_type": "code",
   "execution_count": 62,
   "id": "4791d482",
   "metadata": {},
   "outputs": [],
   "source": [
    "x=pd.get_dummies(cat_col) # convert categorical columns to dummies\n",
    "df=df.drop(cols, axis=1) # drop original columns\n",
    "df=df.join(x) #join dummies"
   ]
  },
  {
   "cell_type": "code",
   "execution_count": 63,
   "id": "23a71502",
   "metadata": {},
   "outputs": [],
   "source": [
    "X = df.drop('hospital_death', axis=1) # saving predictors in X variable\n",
    "y = df['hospital_death'] #saving target feature in y variable"
   ]
  },
  {
   "cell_type": "code",
   "execution_count": 64,
   "id": "4df9e86c",
   "metadata": {},
   "outputs": [],
   "source": [
    "#split data into train and test\n",
    "from sklearn.model_selection import train_test_split\n",
    "X_train, X_test, y_train, y_test = train_test_split(X, y, test_size=0.2, random_state=42,stratify=y)"
   ]
  },
  {
   "cell_type": "code",
   "execution_count": 65,
   "id": "938bf5c1",
   "metadata": {},
   "outputs": [],
   "source": [
    "from sklearn.feature_selection import mutual_info_classif\n",
    "mutual_info = mutual_info_classif(X_train, y_train) #using mutual infomation gain"
   ]
  },
  {
   "cell_type": "code",
   "execution_count": 66,
   "id": "fdb9b6b6",
   "metadata": {},
   "outputs": [
    {
     "data": {
      "text/plain": [
       "apache_4a_icu_death_prob         0.077533\n",
       "apache_4a_hospital_death_prob    0.076826\n",
       "apache_3j_diagnosis              0.037496\n",
       "gcs_motor_apache                 0.036778\n",
       "gcs_eyes_apache                  0.033951\n",
       "gcs_verbal_apache                0.032462\n",
       "apache_2_diagnosis               0.031854\n",
       "d1_sysbp_noninvasive_min         0.025536\n",
       "d1_sysbp_min                     0.024901\n",
       "ventilated_apache                0.023795\n",
       "d1_mbp_min                       0.022009\n",
       "dtype: float64"
      ]
     },
     "execution_count": 66,
     "metadata": {},
     "output_type": "execute_result"
    }
   ],
   "source": [
    "mutual_info = pd.Series(mutual_info) #converts to pandas series\n",
    "mutual_info.index = X_train.columns #set index as column\n",
    "mutual_info.sort_values(ascending=False).head(11) #display top 5 in desc order"
   ]
  },
  {
   "cell_type": "code",
   "execution_count": 67,
   "id": "e76be73b",
   "metadata": {},
   "outputs": [],
   "source": [
    "# New train and test with 11 features\n",
    "x=mutual_info.index[:11]\n",
    "X_train=X_train[x]\n",
    "X_test=X_test[x]"
   ]
  },
  {
   "cell_type": "code",
   "execution_count": 68,
   "id": "05663138",
   "metadata": {},
   "outputs": [],
   "source": [
    "from sklearn.model_selection import RandomizedSearchCV\n",
    "from sklearn.linear_model import LogisticRegression\n",
    "from sklearn import metrics"
   ]
  },
  {
   "cell_type": "code",
   "execution_count": 77,
   "id": "37aa3440",
   "metadata": {},
   "outputs": [],
   "source": [
    "# for some reason scaling decrease accuracy and performance\n",
    "\n",
    "from sklearn.preprocessing import MinMaxScaler\n",
    "scaler = MinMaxScaler()"
   ]
  },
  {
   "cell_type": "code",
   "execution_count": 78,
   "id": "3766c66a",
   "metadata": {},
   "outputs": [],
   "source": [
    "X_train = scaler.fit_transform(X_train)\n",
    "X_test = scaler.fit_transform(X_test)"
   ]
  },
  {
   "cell_type": "code",
   "execution_count": 79,
   "id": "8f6357e2",
   "metadata": {},
   "outputs": [],
   "source": [
    "parameters ={\"C\":[0.01,0.1,1],'penalty':['l2'], 'solver':['lbfgs']} # l1 lasso l2 ridge\n",
    "lr=LogisticRegression()\n",
    "gscv = RandomizedSearchCV(lr,parameters,scoring='roc_auc',cv=10)\n",
    "logreg_cv = gscv.fit(X_train,y_train)"
   ]
  },
  {
   "cell_type": "code",
   "execution_count": 80,
   "id": "8bdaf6f6",
   "metadata": {
    "scrolled": true
   },
   "outputs": [
    {
     "name": "stdout",
     "output_type": "stream",
     "text": [
      "tuned hpyerparameters :(best parameters)  {'solver': 'lbfgs', 'penalty': 'l2', 'C': 1}\n",
      "accuracy : 0.7744322836249955\n"
     ]
    }
   ],
   "source": [
    "print(\"tuned hpyerparameters :(best parameters) \",logreg_cv.best_params_)\n",
    "print(\"accuracy :\",logreg_cv.best_score_)"
   ]
  },
  {
   "cell_type": "code",
   "execution_count": 81,
   "id": "04c4305c",
   "metadata": {},
   "outputs": [],
   "source": [
    "y_pred = logreg_cv.predict(X_test) #predict on X test"
   ]
  },
  {
   "cell_type": "code",
   "execution_count": 82,
   "id": "3d7f3be1",
   "metadata": {},
   "outputs": [
    {
     "name": "stdout",
     "output_type": "stream",
     "text": [
      "Confusion Matrix \n",
      "\n"
     ]
    },
    {
     "data": {
      "image/png": "[encoded data removed]",
      "text/plain": [
       "<Figure size 432x288 with 2 Axes>"
      ]
     },
     "metadata": {
      "needs_background": "light"
     },
     "output_type": "display_data"
    },
    {
     "name": "stdout",
     "output_type": "stream",
     "text": [
      "\n",
      "\n"
     ]
    }
   ],
   "source": [
    "print(\"Confusion Matrix\",\"\\n\")\n",
    "from sklearn.metrics import confusion_matrix\n",
    "confusion_matrix = confusion_matrix(y_test, y_pred)\n",
    "sns.heatmap(confusion_matrix, annot=True, fmt=\".1f\", linewidths=.3, \n",
    "        square = True, cmap = 'PuBu')\n",
    "plt.ylabel('Actual label')\n",
    "plt.xlabel('Predicted label')\n",
    "plt.title('Confusion Matrix',size = 12)\n",
    "plt.show()\n",
    "print(\"\\n\")"
   ]
  },
  {
   "cell_type": "code",
   "execution_count": 84,
   "id": "df700ad2",
   "metadata": {},
   "outputs": [
    {
     "data": {
      "image/png": "[encoded data removed]",
      "text/plain": [
       "<Figure size 432x288 with 1 Axes>"
      ]
     },
     "metadata": {
      "needs_background": "light"
     },
     "output_type": "display_data"
    }
   ],
   "source": [
    "from sklearn.metrics import roc_auc_score\n",
    "from sklearn.metrics import roc_curve\n",
    "logit_roc_auc = roc_auc_score(y_test, logreg_cv.predict(X_test))\n",
    "fpr, tpr, thresholds = roc_curve(y_test, logreg_cv.predict_proba(X_test)[:,1])\n",
    "plt.figure()\n",
    "plt.plot(fpr, tpr, label='Logistic Regression (area = %0.3f)' % logit_roc_auc)\n",
    "plt.plot([0, 1], [0, 1],'r--')\n",
    "plt.xlim([0.0, 1.0])\n",
    "plt.ylim([0.0, 1.05])\n",
    "plt.xlabel('False Positive Rate')\n",
    "plt.ylabel('True Positive Rate')\n",
    "plt.title('Receiver operating characteristic')\n",
    "plt.legend(loc=\"lower right\")\n",
    "plt.savefig('Log_ROC')\n",
    "plt.show()"
   ]
  },
  {
   "cell_type": "code",
   "execution_count": 85,
   "id": "2dcba2ff",
   "metadata": {},
   "outputs": [],
   "source": [
    "from sklearn import tree\n",
    "parameters = {'criterion': ['gini', 'entropy'],\n",
    "     'splitter': ['best', 'random'],\n",
    "     'max_depth': [2*n for n in range(1,10)],\n",
    "     'max_features': ['auto', 'sqrt'],\n",
    "     'min_samples_leaf': [1, 2, 4],\n",
    "     'min_samples_split': [2, 5, 10]}\n",
    "\n",
    "tree = tree.DecisionTreeClassifier()"
   ]
  },
  {
   "cell_type": "code",
   "execution_count": 86,
   "id": "b166e66e",
   "metadata": {},
   "outputs": [
    {
     "name": "stdout",
     "output_type": "stream",
     "text": [
      "accuracy : 0.7718340844942113\n"
     ]
    }
   ],
   "source": [
    "rscv = RandomizedSearchCV(tree,parameters,scoring='roc_auc',cv=10,n_iter=10)\n",
    "tree_cv = rscv.fit(X_train,y_train)\n",
    "print(\"accuracy :\",tree_cv.best_score_)"
   ]
  },
  {
   "cell_type": "code",
   "execution_count": 87,
   "id": "f0921e13",
   "metadata": {},
   "outputs": [
    {
     "name": "stdout",
     "output_type": "stream",
     "text": [
      "tuned hpyerparameters :(best parameters)  {'splitter': 'best', 'min_samples_split': 2, 'min_samples_leaf': 1, 'max_features': 'sqrt', 'max_depth': 8, 'criterion': 'entropy'}\n"
     ]
    }
   ],
   "source": [
    "print(\"tuned hpyerparameters :(best parameters) \",tree_cv.best_params_)"
   ]
  },
  {
   "cell_type": "code",
   "execution_count": 88,
   "id": "09ad75e5",
   "metadata": {},
   "outputs": [],
   "source": [
    "y_pred = tree_cv.predict(X_test) #predict on X test"
   ]
  },
  {
   "cell_type": "code",
   "execution_count": 89,
   "id": "1d072f9c",
   "metadata": {},
   "outputs": [
    {
     "name": "stdout",
     "output_type": "stream",
     "text": [
      "Confusion Matrix \n",
      "\n"
     ]
    },
    {
     "data": {
      "image/png": "[encoded data removed]",
      "text/plain": [
       "<Figure size 432x288 with 2 Axes>"
      ]
     },
     "metadata": {
      "needs_background": "light"
     },
     "output_type": "display_data"
    },
    {
     "name": "stdout",
     "output_type": "stream",
     "text": [
      "\n",
      "\n"
     ]
    }
   ],
   "source": [
    "print(\"Confusion Matrix\",\"\\n\")\n",
    "from sklearn.metrics import confusion_matrix\n",
    "confusion_matrix = confusion_matrix(y_test, y_pred)\n",
    "sns.heatmap(confusion_matrix, annot=True, fmt=\".1f\", linewidths=.3, \n",
    "        square = True, cmap = 'PuBu')\n",
    "plt.ylabel('Actual label')\n",
    "plt.xlabel('Predicted label')\n",
    "plt.title('Confusion Matrix',size = 12)\n",
    "plt.show()\n",
    "print(\"\\n\")"
   ]
  },
  {
   "cell_type": "code",
   "execution_count": 91,
   "id": "ad93334c",
   "metadata": {
    "scrolled": true
   },
   "outputs": [
    {
     "data": {
      "image/png": "[encoded data removed]",
      "text/plain": [
       "<Figure size 432x288 with 1 Axes>"
      ]
     },
     "metadata": {
      "needs_background": "light"
     },
     "output_type": "display_data"
    }
   ],
   "source": [
    "from sklearn.metrics import roc_auc_score\n",
    "from sklearn.metrics import roc_curve\n",
    "logit_roc_auc = roc_auc_score(y_test, tree_cv.predict(X_test))\n",
    "fpr, tpr, thresholds = roc_curve(y_test, tree_cv.predict_proba(X_test)[:,1])\n",
    "plt.figure()\n",
    "plt.plot(fpr, tpr, label='Logistic Regression (area = %0.3f)' % logit_roc_auc)\n",
    "plt.plot([0, 1], [0, 1],'r--')\n",
    "plt.xlim([0.0, 1.0])\n",
    "plt.ylim([0.0, 1.05])\n",
    "plt.xlabel('False Positive Rate')\n",
    "plt.ylabel('True Positive Rate')\n",
    "plt.title('Receiver operating characteristic')\n",
    "plt.legend(loc=\"lower right\")\n",
    "plt.savefig('Log_ROC')\n",
    "plt.show()"
   ]
  },
  {
   "cell_type": "code",
   "execution_count": null,
   "id": "35acde1a",
   "metadata": {},
   "outputs": [],
   "source": [
    "from sklearn.metrics import roc_auc_score\n",
    "from sklearn.metrics import roc_curve"
   ]
  },
  {
   "cell_type": "code",
   "execution_count": null,
   "id": "fc2e6154",
   "metadata": {},
   "outputs": [],
   "source": [
    "plt.title('Receiver operating characteristic')"
   ]
  },
  {
   "cell_type": "code",
   "execution_count": 67,
   "id": "a0bf4d5a",
   "metadata": {},
   "outputs": [
    {
     "ename": "NameError",
     "evalue": "name 'tree_cv' is not defined",
     "output_type": "error",
     "traceback": [
      "\u001b[0;31m---------------------------------------------------------------------------\u001b[0m",
      "\u001b[0;31mNameError\u001b[0m                                 Traceback (most recent call last)",
      "\u001b[0;32m/tmp/ipykernel_7307/2407330073.py\u001b[0m in \u001b[0;36m<module>\u001b[0;34m\u001b[0m\n\u001b[1;32m     12\u001b[0m \u001b[0;34m\u001b[0m\u001b[0m\n\u001b[1;32m     13\u001b[0m \u001b[0max2\u001b[0m\u001b[0;34m=\u001b[0m\u001b[0mplt\u001b[0m\u001b[0;34m.\u001b[0m\u001b[0msubplot\u001b[0m\u001b[0;34m(\u001b[0m\u001b[0;36m1\u001b[0m\u001b[0;34m,\u001b[0m \u001b[0;36m2\u001b[0m\u001b[0;34m,\u001b[0m \u001b[0;36m2\u001b[0m\u001b[0;34m)\u001b[0m\u001b[0;34m\u001b[0m\u001b[0;34m\u001b[0m\u001b[0m\n\u001b[0;32m---> 14\u001b[0;31m \u001b[0mlogit_roc_auc\u001b[0m \u001b[0;34m=\u001b[0m \u001b[0mroc_auc_score\u001b[0m\u001b[0;34m(\u001b[0m\u001b[0my_test\u001b[0m\u001b[0;34m,\u001b[0m \u001b[0mtree_cv\u001b[0m\u001b[0;34m.\u001b[0m\u001b[0mpredict\u001b[0m\u001b[0;34m(\u001b[0m\u001b[0mX_test\u001b[0m\u001b[0;34m)\u001b[0m\u001b[0;34m)\u001b[0m\u001b[0;34m\u001b[0m\u001b[0;34m\u001b[0m\u001b[0m\n\u001b[0m\u001b[1;32m     15\u001b[0m \u001b[0mfpr\u001b[0m\u001b[0;34m,\u001b[0m \u001b[0mtpr\u001b[0m\u001b[0;34m,\u001b[0m \u001b[0mthresholds\u001b[0m \u001b[0;34m=\u001b[0m \u001b[0mroc_curve\u001b[0m\u001b[0;34m(\u001b[0m\u001b[0my_test\u001b[0m\u001b[0;34m,\u001b[0m \u001b[0mtree_cv\u001b[0m\u001b[0;34m.\u001b[0m\u001b[0mpredict_proba\u001b[0m\u001b[0;34m(\u001b[0m\u001b[0mX_test\u001b[0m\u001b[0;34m)\u001b[0m\u001b[0;34m[\u001b[0m\u001b[0;34m:\u001b[0m\u001b[0;34m,\u001b[0m\u001b[0;36m1\u001b[0m\u001b[0;34m]\u001b[0m\u001b[0;34m)\u001b[0m\u001b[0;34m\u001b[0m\u001b[0;34m\u001b[0m\u001b[0m\n\u001b[1;32m     16\u001b[0m \u001b[0mplt\u001b[0m\u001b[0;34m.\u001b[0m\u001b[0mfigure\u001b[0m\u001b[0;34m(\u001b[0m\u001b[0;34m)\u001b[0m\u001b[0;34m\u001b[0m\u001b[0;34m\u001b[0m\u001b[0m\n",
      "\u001b[0;31mNameError\u001b[0m: name 'tree_cv' is not defined"
     ]
    },
    {
     "data": {
      "image/png": "[encoded data removed]",
      "text/plain": [
       "<Figure size 1080x360 with 3 Axes>"
      ]
     },
     "metadata": {
      "needs_background": "light"
     },
     "output_type": "display_data"
    }
   ],
   "source": [
    "plt.figure(figsize=(15,5))\n",
    "\n",
    "\n",
    "ax1=plt.subplot(1, 2, 1)\n",
    "from sklearn.metrics import confusion_matrix\n",
    "confusion_matrix = confusion_matrix(y_test, y_pred)\n",
    "sns.heatmap(confusion_matrix, annot=True, fmt=\".1f\", linewidths=.3, \n",
    "        square = True, cmap = 'PuBu', ax=ax1)\n",
    "plt.ylabel('Actual label')\n",
    "plt.xlabel('Predicted label')\n",
    "plt.title('Confusion Matrix')\n",
    "\n",
    "ax2=plt.subplot(1, 2, 2)\n",
    "logit_roc_auc = roc_auc_score(y_test, tree_cv.predict(X_test))\n",
    "fpr, tpr, thresholds = roc_curve(y_test, tree_cv.predict_proba(X_test)[:,1])\n",
    "plt.figure()\n",
    "ax2.plot(fpr, tpr, label='Logistic Regression (area = %0.3f)' % logit_roc_auc)\n",
    "plt.plot([0, 1], [0, 1],'r--')\n",
    "plt.xlim([0.0, 1.0])\n",
    "plt.ylim([0.0, 1.05])\n",
    "plt.xlabel('False Positive Rate')\n",
    "plt.ylabel('True Positive Rate')\n",
    "plt.title('Receiver operating characteristic')\n",
    "plt.legend(loc=\"lower right\")\n",
    "\n"
   ]
  },
  {
   "cell_type": "code",
   "execution_count": null,
   "id": "ff57efc4",
   "metadata": {},
   "outputs": [],
   "source": []
  }
 ],
 "metadata": {
  "kernelspec": {
   "display_name": "Python 3 (ipykernel)",
   "language": "python",
   "name": "python3"
  },
  "language_info": {
   "codemirror_mode": {
    "name": "ipython",
    "version": 3
   },
   "file_extension": ".py",
   "mimetype": "text/x-python",
   "name": "python",
   "nbconvert_exporter": "python",
   "pygments_lexer": "ipython3",
   "version": "3.10.0"
  }
 },
 "nbformat": 4,
 "nbformat_minor": 5
}
